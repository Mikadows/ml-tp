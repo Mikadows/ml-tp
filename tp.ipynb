{
 "nbformat": 4,
 "nbformat_minor": 0,
 "metadata": {
  "colab": {
   "name": "Tp blanc prep données.ipynb",
   "provenance": [],
   "collapsed_sections": []
  },
  "kernelspec": {
   "name": "python3",
   "display_name": "Python 3"
  },
  "language_info": {
   "name": "python"
  }
 },
 "cells": [
  {
   "cell_type": "markdown",
   "source": [
    "# Preparation données\n"
   ],
   "metadata": {
    "id": "c1NuToT64QfG"
   }
  },
  {
   "cell_type": "code",
   "source": [
    "#from google.colab import drive\n",
    "#drive.mount('/content/drive')"
   ],
   "metadata": {
    "colab": {
     "base_uri": "https://localhost:8080/"
    },
    "id": "2s1okyZp4btJ",
    "outputId": "d22279a0-d6ba-443e-bc8f-405c9769cbe8"
   },
   "execution_count": null,
   "outputs": [
    {
     "output_type": "stream",
     "name": "stdout",
     "text": [
      "Drive already mounted at /content/drive; to attempt to forcibly remount, call drive.mount(\"/content/drive\", force_remount=True).\n"
     ]
    }
   ]
  },
  {
   "cell_type": "code",
   "source": [
    "import numpy as np\n",
    "import matplotlib.pyplot as plt\n",
    "import seaborn as sns\n",
    "import pandas as pd\n",
    "pd.set_option('max_columns', None)"
   ],
   "metadata": {
    "id": "ipk8QZzX4fNy"
   },
   "execution_count": null,
   "outputs": []
  },
  {
   "cell_type": "code",
   "source": [
    "raw_data = pd.read_csv(\"/content/drive/MyDrive/Colab Notebooks/TP2_appartement2.txt\", \"\\t\")"
   ],
   "metadata": {
    "colab": {
     "base_uri": "https://localhost:8080/"
    },
    "id": "zNP2XYnw4oge",
    "outputId": "312fd33d-636d-4c81-ad73-dfc88869ae1f"
   },
   "execution_count": null,
   "outputs": [
    {
     "output_type": "stream",
     "name": "stderr",
     "text": [
      "/usr/local/lib/python3.7/dist-packages/IPython/core/interactiveshell.py:2882: FutureWarning: In a future version of pandas all arguments of read_csv except for the argument 'filepath_or_buffer' will be keyword-only\n",
      "  exec(code_obj, self.user_global_ns, self.user_ns)\n"
     ]
    }
   ]
  },
  {
   "cell_type": "code",
   "source": [
    "# Regarder dans la base\n",
    "raw_data.head() # afficher les 5 premières lignes"
   ],
   "metadata": {
    "colab": {
     "base_uri": "https://localhost:8080/",
     "height": 206
    },
    "id": "NtSLAL4446bT",
    "outputId": "631a1c55-8531-44b0-b6c1-0edbb4fe1490"
   },
   "execution_count": null,
   "outputs": [
    {
     "output_type": "execute_result",
     "data": {
      "text/plain": [
       "               date  Temperature  Humidity  Light     CO2  HumidityRatio  \\\n",
       "0  04/02/2015 17:51        23.18   27.2720  426.0  721.25       0.004793   \n",
       "1  04/02/2015 17:51        23.15   27.2675  429.5  714.00       0.004783   \n",
       "2  04/02/2015 17:53        23.15   27.2450  426.0  713.50       0.004779   \n",
       "3  04/02/2015 17:54        23.15   27.2000  426.0  708.25       0.004772   \n",
       "4  04/02/2015 17:55        23.10   27.2000  426.0  704.50       0.004757   \n",
       "\n",
       "   Unnamed: 6 Classe_energetique Security  \n",
       "0         NaN                  A      oui  \n",
       "1         NaN                  A      oui  \n",
       "2         NaN                  A      oui  \n",
       "3         NaN                  A      oui  \n",
       "4         NaN                  A      oui  "
      ],
      "text/html": [
       "\n",
       "  <div id=\"df-1560ecf1-cb47-4576-9617-3feaf5c2d7ec\">\n",
       "    <div class=\"colab-df-container\">\n",
       "      <div>\n",
       "<style scoped>\n",
       "    .dataframe tbody tr th:only-of-type {\n",
       "        vertical-align: middle;\n",
       "    }\n",
       "\n",
       "    .dataframe tbody tr th {\n",
       "        vertical-align: top;\n",
       "    }\n",
       "\n",
       "    .dataframe thead th {\n",
       "        text-align: right;\n",
       "    }\n",
       "</style>\n",
       "<table border=\"1\" class=\"dataframe\">\n",
       "  <thead>\n",
       "    <tr style=\"text-align: right;\">\n",
       "      <th></th>\n",
       "      <th>date</th>\n",
       "      <th>Temperature</th>\n",
       "      <th>Humidity</th>\n",
       "      <th>Light</th>\n",
       "      <th>CO2</th>\n",
       "      <th>HumidityRatio</th>\n",
       "      <th>Unnamed: 6</th>\n",
       "      <th>Classe_energetique</th>\n",
       "      <th>Security</th>\n",
       "    </tr>\n",
       "  </thead>\n",
       "  <tbody>\n",
       "    <tr>\n",
       "      <th>0</th>\n",
       "      <td>04/02/2015 17:51</td>\n",
       "      <td>23.18</td>\n",
       "      <td>27.2720</td>\n",
       "      <td>426.0</td>\n",
       "      <td>721.25</td>\n",
       "      <td>0.004793</td>\n",
       "      <td>NaN</td>\n",
       "      <td>A</td>\n",
       "      <td>oui</td>\n",
       "    </tr>\n",
       "    <tr>\n",
       "      <th>1</th>\n",
       "      <td>04/02/2015 17:51</td>\n",
       "      <td>23.15</td>\n",
       "      <td>27.2675</td>\n",
       "      <td>429.5</td>\n",
       "      <td>714.00</td>\n",
       "      <td>0.004783</td>\n",
       "      <td>NaN</td>\n",
       "      <td>A</td>\n",
       "      <td>oui</td>\n",
       "    </tr>\n",
       "    <tr>\n",
       "      <th>2</th>\n",
       "      <td>04/02/2015 17:53</td>\n",
       "      <td>23.15</td>\n",
       "      <td>27.2450</td>\n",
       "      <td>426.0</td>\n",
       "      <td>713.50</td>\n",
       "      <td>0.004779</td>\n",
       "      <td>NaN</td>\n",
       "      <td>A</td>\n",
       "      <td>oui</td>\n",
       "    </tr>\n",
       "    <tr>\n",
       "      <th>3</th>\n",
       "      <td>04/02/2015 17:54</td>\n",
       "      <td>23.15</td>\n",
       "      <td>27.2000</td>\n",
       "      <td>426.0</td>\n",
       "      <td>708.25</td>\n",
       "      <td>0.004772</td>\n",
       "      <td>NaN</td>\n",
       "      <td>A</td>\n",
       "      <td>oui</td>\n",
       "    </tr>\n",
       "    <tr>\n",
       "      <th>4</th>\n",
       "      <td>04/02/2015 17:55</td>\n",
       "      <td>23.10</td>\n",
       "      <td>27.2000</td>\n",
       "      <td>426.0</td>\n",
       "      <td>704.50</td>\n",
       "      <td>0.004757</td>\n",
       "      <td>NaN</td>\n",
       "      <td>A</td>\n",
       "      <td>oui</td>\n",
       "    </tr>\n",
       "  </tbody>\n",
       "</table>\n",
       "</div>\n",
       "      <button class=\"colab-df-convert\" onclick=\"convertToInteractive('df-1560ecf1-cb47-4576-9617-3feaf5c2d7ec')\"\n",
       "              title=\"Convert this dataframe to an interactive table.\"\n",
       "              style=\"display:none;\">\n",
       "        \n",
       "  <svg xmlns=\"http://www.w3.org/2000/svg\" height=\"24px\"viewBox=\"0 0 24 24\"\n",
       "       width=\"24px\">\n",
       "    <path d=\"M0 0h24v24H0V0z\" fill=\"none\"/>\n",
       "    <path d=\"M18.56 5.44l.94 2.06.94-2.06 2.06-.94-2.06-.94-.94-2.06-.94 2.06-2.06.94zm-11 1L8.5 8.5l.94-2.06 2.06-.94-2.06-.94L8.5 2.5l-.94 2.06-2.06.94zm10 10l.94 2.06.94-2.06 2.06-.94-2.06-.94-.94-2.06-.94 2.06-2.06.94z\"/><path d=\"M17.41 7.96l-1.37-1.37c-.4-.4-.92-.59-1.43-.59-.52 0-1.04.2-1.43.59L10.3 9.45l-7.72 7.72c-.78.78-.78 2.05 0 2.83L4 21.41c.39.39.9.59 1.41.59.51 0 1.02-.2 1.41-.59l7.78-7.78 2.81-2.81c.8-.78.8-2.07 0-2.86zM5.41 20L4 18.59l7.72-7.72 1.47 1.35L5.41 20z\"/>\n",
       "  </svg>\n",
       "      </button>\n",
       "      \n",
       "  <style>\n",
       "    .colab-df-container {\n",
       "      display:flex;\n",
       "      flex-wrap:wrap;\n",
       "      gap: 12px;\n",
       "    }\n",
       "\n",
       "    .colab-df-convert {\n",
       "      background-color: #E8F0FE;\n",
       "      border: none;\n",
       "      border-radius: 50%;\n",
       "      cursor: pointer;\n",
       "      display: none;\n",
       "      fill: #1967D2;\n",
       "      height: 32px;\n",
       "      padding: 0 0 0 0;\n",
       "      width: 32px;\n",
       "    }\n",
       "\n",
       "    .colab-df-convert:hover {\n",
       "      background-color: #E2EBFA;\n",
       "      box-shadow: 0px 1px 2px rgba(60, 64, 67, 0.3), 0px 1px 3px 1px rgba(60, 64, 67, 0.15);\n",
       "      fill: #174EA6;\n",
       "    }\n",
       "\n",
       "    [theme=dark] .colab-df-convert {\n",
       "      background-color: #3B4455;\n",
       "      fill: #D2E3FC;\n",
       "    }\n",
       "\n",
       "    [theme=dark] .colab-df-convert:hover {\n",
       "      background-color: #434B5C;\n",
       "      box-shadow: 0px 1px 3px 1px rgba(0, 0, 0, 0.15);\n",
       "      filter: drop-shadow(0px 1px 2px rgba(0, 0, 0, 0.3));\n",
       "      fill: #FFFFFF;\n",
       "    }\n",
       "  </style>\n",
       "\n",
       "      <script>\n",
       "        const buttonEl =\n",
       "          document.querySelector('#df-1560ecf1-cb47-4576-9617-3feaf5c2d7ec button.colab-df-convert');\n",
       "        buttonEl.style.display =\n",
       "          google.colab.kernel.accessAllowed ? 'block' : 'none';\n",
       "\n",
       "        async function convertToInteractive(key) {\n",
       "          const element = document.querySelector('#df-1560ecf1-cb47-4576-9617-3feaf5c2d7ec');\n",
       "          const dataTable =\n",
       "            await google.colab.kernel.invokeFunction('convertToInteractive',\n",
       "                                                     [key], {});\n",
       "          if (!dataTable) return;\n",
       "\n",
       "          const docLinkHtml = 'Like what you see? Visit the ' +\n",
       "            '<a target=\"_blank\" href=https://colab.research.google.com/notebooks/data_table.ipynb>data table notebook</a>'\n",
       "            + ' to learn more about interactive tables.';\n",
       "          element.innerHTML = '';\n",
       "          dataTable['output_type'] = 'display_data';\n",
       "          await google.colab.output.renderOutput(dataTable, element);\n",
       "          const docLink = document.createElement('div');\n",
       "          docLink.innerHTML = docLinkHtml;\n",
       "          element.appendChild(docLink);\n",
       "        }\n",
       "      </script>\n",
       "    </div>\n",
       "  </div>\n",
       "  "
      ]
     },
     "metadata": {},
     "execution_count": 91
    }
   ]
  },
  {
   "cell_type": "code",
   "source": [
    "len(raw_data[\"date\"].unique())"
   ],
   "metadata": {
    "colab": {
     "base_uri": "https://localhost:8080/"
    },
    "id": "sgeQAhOX47Pq",
    "outputId": "99c985b2-124a-4c62-aa06-e9578d8040ea"
   },
   "execution_count": null,
   "outputs": [
    {
     "output_type": "execute_result",
     "data": {
      "text/plain": [
       "14315"
      ]
     },
     "metadata": {},
     "execution_count": 92
    }
   ]
  },
  {
   "cell_type": "code",
   "source": [
    "print(raw_data.shape)\n",
    "raw_data.info()"
   ],
   "metadata": {
    "colab": {
     "base_uri": "https://localhost:8080/"
    },
    "id": "qSS01mSF5E0P",
    "outputId": "36a6a8c3-af5d-40ad-ce71-c9fc72b3545b"
   },
   "execution_count": null,
   "outputs": [
    {
     "output_type": "stream",
     "name": "stdout",
     "text": [
      "(17895, 9)\n",
      "<class 'pandas.core.frame.DataFrame'>\n",
      "RangeIndex: 17895 entries, 0 to 17894\n",
      "Data columns (total 9 columns):\n",
      " #   Column              Non-Null Count  Dtype  \n",
      "---  ------              --------------  -----  \n",
      " 0   date                17895 non-null  object \n",
      " 1   Temperature         17871 non-null  float64\n",
      " 2   Humidity            17895 non-null  float64\n",
      " 3   Light               17764 non-null  float64\n",
      " 4   CO2                 17830 non-null  float64\n",
      " 5   HumidityRatio       17872 non-null  float64\n",
      " 6   Unnamed: 6          0 non-null      float64\n",
      " 7   Classe_energetique  17866 non-null  object \n",
      " 8   Security            17844 non-null  object \n",
      "dtypes: float64(6), object(3)\n",
      "memory usage: 1.2+ MB\n"
     ]
    }
   ]
  },
  {
   "cell_type": "code",
   "source": [
    "# récupérer les colonnes à convertir\n",
    "stringcols = raw_data.select_dtypes(include='object').columns\n",
    "print(stringcols)"
   ],
   "metadata": {
    "colab": {
     "base_uri": "https://localhost:8080/"
    },
    "id": "yydvoHG95ODX",
    "outputId": "e421c973-8090-41fe-863d-1dd24544d2a2"
   },
   "execution_count": null,
   "outputs": [
    {
     "output_type": "stream",
     "name": "stdout",
     "text": [
      "Index(['date', 'Classe_energetique', 'Security'], dtype='object')\n"
     ]
    }
   ]
  },
  {
   "cell_type": "code",
   "source": [
    "raw_data_conv = raw_data.copy()\n",
    "#a mettre avant\n",
    "raw_data_conv[stringcols] = raw_data_conv[stringcols].astype(str)\n",
    "raw_data_conv[stringcols] = raw_data_conv[stringcols].astype(\"string\")\n",
    "raw_data_conv[stringcols] = raw_data_conv[stringcols].replace({pd.NA: np.nan})\n",
    "raw_data_conv.info()"
   ],
   "metadata": {
    "colab": {
     "base_uri": "https://localhost:8080/"
    },
    "id": "46xbpZTA5S6D",
    "outputId": "2d4f9e89-f2d6-41e6-b460-d2c03a6c7ec0"
   },
   "execution_count": null,
   "outputs": [
    {
     "output_type": "stream",
     "name": "stdout",
     "text": [
      "<class 'pandas.core.frame.DataFrame'>\n",
      "RangeIndex: 17895 entries, 0 to 17894\n",
      "Data columns (total 9 columns):\n",
      " #   Column              Non-Null Count  Dtype  \n",
      "---  ------              --------------  -----  \n",
      " 0   date                17895 non-null  string \n",
      " 1   Temperature         17871 non-null  float64\n",
      " 2   Humidity            17895 non-null  float64\n",
      " 3   Light               17764 non-null  float64\n",
      " 4   CO2                 17830 non-null  float64\n",
      " 5   HumidityRatio       17872 non-null  float64\n",
      " 6   Unnamed: 6          0 non-null      float64\n",
      " 7   Classe_energetique  17895 non-null  string \n",
      " 8   Security            17895 non-null  string \n",
      "dtypes: float64(6), string(3)\n",
      "memory usage: 1.2 MB\n"
     ]
    }
   ]
  },
  {
   "cell_type": "code",
   "source": [
    "raw_data_conv.info()"
   ],
   "metadata": {
    "colab": {
     "base_uri": "https://localhost:8080/"
    },
    "id": "NDEo448a6Cj8",
    "outputId": "ecff2937-f440-4ab3-b29c-f0b9a5c66e98"
   },
   "execution_count": null,
   "outputs": [
    {
     "output_type": "stream",
     "name": "stdout",
     "text": [
      "<class 'pandas.core.frame.DataFrame'>\n",
      "RangeIndex: 17895 entries, 0 to 17894\n",
      "Data columns (total 9 columns):\n",
      " #   Column              Non-Null Count  Dtype  \n",
      "---  ------              --------------  -----  \n",
      " 0   date                17895 non-null  string \n",
      " 1   Temperature         17871 non-null  float64\n",
      " 2   Humidity            17895 non-null  float64\n",
      " 3   Light               17764 non-null  float64\n",
      " 4   CO2                 17830 non-null  float64\n",
      " 5   HumidityRatio       17872 non-null  float64\n",
      " 6   Unnamed: 6          0 non-null      float64\n",
      " 7   Classe_energetique  17895 non-null  string \n",
      " 8   Security            17895 non-null  string \n",
      "dtypes: float64(6), string(3)\n",
      "memory usage: 1.2 MB\n"
     ]
    }
   ]
  },
  {
   "cell_type": "code",
   "source": [
    "raw_data_conv.isnull().sum().sort_values(ascending=False)"
   ],
   "metadata": {
    "colab": {
     "base_uri": "https://localhost:8080/"
    },
    "id": "WitiPifE6evq",
    "outputId": "2f7061c2-e289-4fcd-8862-8fc35969a965"
   },
   "execution_count": null,
   "outputs": [
    {
     "output_type": "execute_result",
     "data": {
      "text/plain": [
       "Unnamed: 6            17895\n",
       "Light                   131\n",
       "CO2                      65\n",
       "Temperature              24\n",
       "HumidityRatio            23\n",
       "date                      0\n",
       "Humidity                  0\n",
       "Classe_energetique        0\n",
       "Security                  0\n",
       "dtype: int64"
      ]
     },
     "metadata": {},
     "execution_count": 97
    }
   ]
  },
  {
   "cell_type": "code",
   "source": [
    "raw_data_conv = raw_data_conv.dropna(axis=1, how='all')\n",
    "raw_data_conv.head()"
   ],
   "metadata": {
    "colab": {
     "base_uri": "https://localhost:8080/",
     "height": 206
    },
    "id": "lRydSbJ6FRY3",
    "outputId": "c9a8b496-02ec-4b17-8192-eb617e6aab2e"
   },
   "execution_count": null,
   "outputs": [
    {
     "output_type": "execute_result",
     "data": {
      "text/plain": [
       "               date  Temperature  Humidity  Light     CO2  HumidityRatio  \\\n",
       "0  04/02/2015 17:51        23.18   27.2720  426.0  721.25       0.004793   \n",
       "1  04/02/2015 17:51        23.15   27.2675  429.5  714.00       0.004783   \n",
       "2  04/02/2015 17:53        23.15   27.2450  426.0  713.50       0.004779   \n",
       "3  04/02/2015 17:54        23.15   27.2000  426.0  708.25       0.004772   \n",
       "4  04/02/2015 17:55        23.10   27.2000  426.0  704.50       0.004757   \n",
       "\n",
       "  Classe_energetique Security  \n",
       "0                  A      oui  \n",
       "1                  A      oui  \n",
       "2                  A      oui  \n",
       "3                  A      oui  \n",
       "4                  A      oui  "
      ],
      "text/html": [
       "\n",
       "  <div id=\"df-8231e77f-6e5a-4e17-bdff-fd84ef1020a2\">\n",
       "    <div class=\"colab-df-container\">\n",
       "      <div>\n",
       "<style scoped>\n",
       "    .dataframe tbody tr th:only-of-type {\n",
       "        vertical-align: middle;\n",
       "    }\n",
       "\n",
       "    .dataframe tbody tr th {\n",
       "        vertical-align: top;\n",
       "    }\n",
       "\n",
       "    .dataframe thead th {\n",
       "        text-align: right;\n",
       "    }\n",
       "</style>\n",
       "<table border=\"1\" class=\"dataframe\">\n",
       "  <thead>\n",
       "    <tr style=\"text-align: right;\">\n",
       "      <th></th>\n",
       "      <th>date</th>\n",
       "      <th>Temperature</th>\n",
       "      <th>Humidity</th>\n",
       "      <th>Light</th>\n",
       "      <th>CO2</th>\n",
       "      <th>HumidityRatio</th>\n",
       "      <th>Classe_energetique</th>\n",
       "      <th>Security</th>\n",
       "    </tr>\n",
       "  </thead>\n",
       "  <tbody>\n",
       "    <tr>\n",
       "      <th>0</th>\n",
       "      <td>04/02/2015 17:51</td>\n",
       "      <td>23.18</td>\n",
       "      <td>27.2720</td>\n",
       "      <td>426.0</td>\n",
       "      <td>721.25</td>\n",
       "      <td>0.004793</td>\n",
       "      <td>A</td>\n",
       "      <td>oui</td>\n",
       "    </tr>\n",
       "    <tr>\n",
       "      <th>1</th>\n",
       "      <td>04/02/2015 17:51</td>\n",
       "      <td>23.15</td>\n",
       "      <td>27.2675</td>\n",
       "      <td>429.5</td>\n",
       "      <td>714.00</td>\n",
       "      <td>0.004783</td>\n",
       "      <td>A</td>\n",
       "      <td>oui</td>\n",
       "    </tr>\n",
       "    <tr>\n",
       "      <th>2</th>\n",
       "      <td>04/02/2015 17:53</td>\n",
       "      <td>23.15</td>\n",
       "      <td>27.2450</td>\n",
       "      <td>426.0</td>\n",
       "      <td>713.50</td>\n",
       "      <td>0.004779</td>\n",
       "      <td>A</td>\n",
       "      <td>oui</td>\n",
       "    </tr>\n",
       "    <tr>\n",
       "      <th>3</th>\n",
       "      <td>04/02/2015 17:54</td>\n",
       "      <td>23.15</td>\n",
       "      <td>27.2000</td>\n",
       "      <td>426.0</td>\n",
       "      <td>708.25</td>\n",
       "      <td>0.004772</td>\n",
       "      <td>A</td>\n",
       "      <td>oui</td>\n",
       "    </tr>\n",
       "    <tr>\n",
       "      <th>4</th>\n",
       "      <td>04/02/2015 17:55</td>\n",
       "      <td>23.10</td>\n",
       "      <td>27.2000</td>\n",
       "      <td>426.0</td>\n",
       "      <td>704.50</td>\n",
       "      <td>0.004757</td>\n",
       "      <td>A</td>\n",
       "      <td>oui</td>\n",
       "    </tr>\n",
       "  </tbody>\n",
       "</table>\n",
       "</div>\n",
       "      <button class=\"colab-df-convert\" onclick=\"convertToInteractive('df-8231e77f-6e5a-4e17-bdff-fd84ef1020a2')\"\n",
       "              title=\"Convert this dataframe to an interactive table.\"\n",
       "              style=\"display:none;\">\n",
       "        \n",
       "  <svg xmlns=\"http://www.w3.org/2000/svg\" height=\"24px\"viewBox=\"0 0 24 24\"\n",
       "       width=\"24px\">\n",
       "    <path d=\"M0 0h24v24H0V0z\" fill=\"none\"/>\n",
       "    <path d=\"M18.56 5.44l.94 2.06.94-2.06 2.06-.94-2.06-.94-.94-2.06-.94 2.06-2.06.94zm-11 1L8.5 8.5l.94-2.06 2.06-.94-2.06-.94L8.5 2.5l-.94 2.06-2.06.94zm10 10l.94 2.06.94-2.06 2.06-.94-2.06-.94-.94-2.06-.94 2.06-2.06.94z\"/><path d=\"M17.41 7.96l-1.37-1.37c-.4-.4-.92-.59-1.43-.59-.52 0-1.04.2-1.43.59L10.3 9.45l-7.72 7.72c-.78.78-.78 2.05 0 2.83L4 21.41c.39.39.9.59 1.41.59.51 0 1.02-.2 1.41-.59l7.78-7.78 2.81-2.81c.8-.78.8-2.07 0-2.86zM5.41 20L4 18.59l7.72-7.72 1.47 1.35L5.41 20z\"/>\n",
       "  </svg>\n",
       "      </button>\n",
       "      \n",
       "  <style>\n",
       "    .colab-df-container {\n",
       "      display:flex;\n",
       "      flex-wrap:wrap;\n",
       "      gap: 12px;\n",
       "    }\n",
       "\n",
       "    .colab-df-convert {\n",
       "      background-color: #E8F0FE;\n",
       "      border: none;\n",
       "      border-radius: 50%;\n",
       "      cursor: pointer;\n",
       "      display: none;\n",
       "      fill: #1967D2;\n",
       "      height: 32px;\n",
       "      padding: 0 0 0 0;\n",
       "      width: 32px;\n",
       "    }\n",
       "\n",
       "    .colab-df-convert:hover {\n",
       "      background-color: #E2EBFA;\n",
       "      box-shadow: 0px 1px 2px rgba(60, 64, 67, 0.3), 0px 1px 3px 1px rgba(60, 64, 67, 0.15);\n",
       "      fill: #174EA6;\n",
       "    }\n",
       "\n",
       "    [theme=dark] .colab-df-convert {\n",
       "      background-color: #3B4455;\n",
       "      fill: #D2E3FC;\n",
       "    }\n",
       "\n",
       "    [theme=dark] .colab-df-convert:hover {\n",
       "      background-color: #434B5C;\n",
       "      box-shadow: 0px 1px 3px 1px rgba(0, 0, 0, 0.15);\n",
       "      filter: drop-shadow(0px 1px 2px rgba(0, 0, 0, 0.3));\n",
       "      fill: #FFFFFF;\n",
       "    }\n",
       "  </style>\n",
       "\n",
       "      <script>\n",
       "        const buttonEl =\n",
       "          document.querySelector('#df-8231e77f-6e5a-4e17-bdff-fd84ef1020a2 button.colab-df-convert');\n",
       "        buttonEl.style.display =\n",
       "          google.colab.kernel.accessAllowed ? 'block' : 'none';\n",
       "\n",
       "        async function convertToInteractive(key) {\n",
       "          const element = document.querySelector('#df-8231e77f-6e5a-4e17-bdff-fd84ef1020a2');\n",
       "          const dataTable =\n",
       "            await google.colab.kernel.invokeFunction('convertToInteractive',\n",
       "                                                     [key], {});\n",
       "          if (!dataTable) return;\n",
       "\n",
       "          const docLinkHtml = 'Like what you see? Visit the ' +\n",
       "            '<a target=\"_blank\" href=https://colab.research.google.com/notebooks/data_table.ipynb>data table notebook</a>'\n",
       "            + ' to learn more about interactive tables.';\n",
       "          element.innerHTML = '';\n",
       "          dataTable['output_type'] = 'display_data';\n",
       "          await google.colab.output.renderOutput(dataTable, element);\n",
       "          const docLink = document.createElement('div');\n",
       "          docLink.innerHTML = docLinkHtml;\n",
       "          element.appendChild(docLink);\n",
       "        }\n",
       "      </script>\n",
       "    </div>\n",
       "  </div>\n",
       "  "
      ]
     },
     "metadata": {},
     "execution_count": 98
    }
   ]
  },
  {
   "cell_type": "code",
   "source": [
    "from datetime import datetime\n",
    "raw_data_conv['date'] = pd.to_datetime(raw_data_conv['date'])\n",
    "raw_data_conv.info()"
   ],
   "metadata": {
    "colab": {
     "base_uri": "https://localhost:8080/"
    },
    "id": "uEP7SirSFrpO",
    "outputId": "c57aff3a-ae06-44de-818c-9e85601d8fe6"
   },
   "execution_count": null,
   "outputs": [
    {
     "output_type": "stream",
     "name": "stdout",
     "text": [
      "<class 'pandas.core.frame.DataFrame'>\n",
      "RangeIndex: 17895 entries, 0 to 17894\n",
      "Data columns (total 8 columns):\n",
      " #   Column              Non-Null Count  Dtype         \n",
      "---  ------              --------------  -----         \n",
      " 0   date                17895 non-null  datetime64[ns]\n",
      " 1   Temperature         17871 non-null  float64       \n",
      " 2   Humidity            17895 non-null  float64       \n",
      " 3   Light               17764 non-null  float64       \n",
      " 4   CO2                 17830 non-null  float64       \n",
      " 5   HumidityRatio       17872 non-null  float64       \n",
      " 6   Classe_energetique  17895 non-null  string        \n",
      " 7   Security            17895 non-null  string        \n",
      "dtypes: datetime64[ns](1), float64(5), string(2)\n",
      "memory usage: 1.1 MB\n"
     ]
    }
   ]
  },
  {
   "cell_type": "code",
   "source": [
    "print(raw_data_conv['Security'].value_counts())\n",
    "raw_data_conv['Security'] = raw_data_conv['Security'].replace(\"nan\", \"non\")\n",
    "raw_data_conv[\"Security\"].value_counts()"
   ],
   "metadata": {
    "colab": {
     "base_uri": "https://localhost:8080/"
    },
    "id": "9MLeXNKa8e27",
    "outputId": "6af2bfdb-8a4d-4a27-c1ae-382b80c73313"
   },
   "execution_count": null,
   "outputs": [
    {
     "output_type": "stream",
     "name": "stdout",
     "text": [
      "non    12684\n",
      "oui     5160\n",
      "nan       51\n",
      "Name: Security, dtype: Int64\n"
     ]
    },
    {
     "output_type": "execute_result",
     "data": {
      "text/plain": [
       "non    12735\n",
       "oui     5160\n",
       "Name: Security, dtype: Int64"
      ]
     },
     "metadata": {},
     "execution_count": 100
    }
   ]
  },
  {
   "cell_type": "code",
   "source": [
    "print(raw_data_conv['Classe_energetique'].value_counts())\n"
   ],
   "metadata": {
    "id": "Dr-Q8jI-IzTW",
    "outputId": "fe745a3a-778f-469e-f780-4502f3bdda94",
    "colab": {
     "base_uri": "https://localhost:8080/"
    }
   },
   "execution_count": null,
   "outputs": [
    {
     "output_type": "stream",
     "name": "stdout",
     "text": [
      "C      7974\n",
      "D      4710\n",
      "B      3311\n",
      "A      1871\n",
      "nan      29\n",
      "Name: Classe_energetique, dtype: Int64\n"
     ]
    }
   ]
  },
  {
   "cell_type": "code",
   "source": [
    "#raw_data_conv['Security'].value_counts()\n",
    "# récupérer les colonnes à convertir\n",
    "floatcols = raw_data_conv.select_dtypes(include='float64').columns\n",
    "print(floatcols)"
   ],
   "metadata": {
    "colab": {
     "base_uri": "https://localhost:8080/"
    },
    "id": "0C2SBjwOCQm3",
    "outputId": "43b88134-a5ac-4ed2-ac24-96f1dc51503b"
   },
   "execution_count": null,
   "outputs": [
    {
     "output_type": "stream",
     "name": "stdout",
     "text": [
      "Index(['Temperature', 'Humidity', 'Light', 'CO2', 'HumidityRatio'], dtype='object')\n"
     ]
    }
   ]
  },
  {
   "cell_type": "code",
   "source": [
    "data_median =  raw_data_conv[floatcols].fillna(raw_data_conv[floatcols].median())\n",
    "data_moyenne = raw_data_conv[floatcols].fillna(raw_data_conv[floatcols].mean())\n",
    "data_mode = raw_data_conv[floatcols].fillna(raw_data_conv[floatcols].mode())"
   ],
   "metadata": {
    "id": "5jqkmoN6EI-B"
   },
   "execution_count": null,
   "outputs": []
  },
  {
   "cell_type": "code",
   "source": [
    "print(\" les stats descriptives après imputation par la médiane :\", data_median.describe())\n",
    "print(\" les stats descriptives après imputation par la moyenne :\", data_moyenne.describe())\n",
    "print(\" les stats descriptives après imputation par le mode :\", data_mode.describe())\n",
    "print(\" les stats descriptives avant imputation:\", raw_data_conv.describe())"
   ],
   "metadata": {
    "colab": {
     "base_uri": "https://localhost:8080/"
    },
    "id": "L-3l-qctEMRo",
    "outputId": "e6f4f49f-0cfc-4977-d9f2-92cdc6cede69"
   },
   "execution_count": null,
   "outputs": [
    {
     "output_type": "stream",
     "name": "stdout",
     "text": [
      " /nles stats descriptives après imputation par la médiane :         Temperature      Humidity         Light           CO2  HumidityRatio\n",
      "count  17895.000000  17895.000000  17895.000000  17895.000000   17895.000000\n",
      "mean      20.826040     27.998747    121.453183    686.791801       0.004258\n",
      "std        1.035847      5.169896    202.207255    313.505558       0.000784\n",
      "min       19.000000     16.745000      0.000000    412.750000       0.002674\n",
      "25%       20.100000     24.890000      0.000000    458.750000       0.003767\n",
      "50%       20.600000     27.793333      0.000000    565.000000       0.004343\n",
      "75%       21.500000     31.856667    217.916667    792.000000       0.004860\n",
      "max       24.390000     39.500000   1581.000000   2076.500000       0.006476\n",
      " /nles stats descriptives après imputation par la moyenne :         Temperature      Humidity         Light           CO2  HumidityRatio\n",
      "count  17895.000000  17895.000000  17895.000000  17895.000000   17895.000000\n",
      "mean      20.826343     27.998747    122.348836    687.235798       0.004258\n",
      "std        1.035814      5.169896    201.938080    313.419299       0.000784\n",
      "min       19.000000     16.745000      0.000000    412.750000       0.002674\n",
      "25%       20.100000     24.890000      0.000000    458.750000       0.003767\n",
      "50%       20.625000     27.793333      0.000000    565.500000       0.004342\n",
      "75%       21.500000     31.856667    217.916667    792.000000       0.004860\n",
      "max       24.390000     39.500000   1581.000000   2076.500000       0.006476\n",
      " /nles stats descriptives après imputation par le mode :         Temperature      Humidity         Light           CO2  HumidityRatio\n",
      "count  17871.000000  17895.000000  17764.000000  17830.000000   17872.000000\n",
      "mean      20.826343     27.998747    122.348836    687.235798       0.004258\n",
      "std        1.036510      5.169896    202.681347    313.990102       0.000785\n",
      "min       19.000000     16.745000      0.000000    412.750000       0.002674\n",
      "25%       20.100000     24.890000      0.000000    458.500000       0.003765\n",
      "50%       20.600000     27.793333      0.000000    565.000000       0.004343\n",
      "75%       21.500000     31.856667    227.250000    793.000000       0.004860\n",
      "max       24.390000     39.500000   1581.000000   2076.500000       0.006476\n",
      " /nles stats descriptives avant imputation:         Temperature      Humidity         Light           CO2  HumidityRatio\n",
      "count  17871.000000  17895.000000  17764.000000  17830.000000   17872.000000\n",
      "mean      20.826343     27.998747    122.348836    687.235798       0.004258\n",
      "std        1.036510      5.169896    202.681347    313.990102       0.000785\n",
      "min       19.000000     16.745000      0.000000    412.750000       0.002674\n",
      "25%       20.100000     24.890000      0.000000    458.500000       0.003765\n",
      "50%       20.600000     27.793333      0.000000    565.000000       0.004343\n",
      "75%       21.500000     31.856667    227.250000    793.000000       0.004860\n",
      "max       24.390000     39.500000   1581.000000   2076.500000       0.006476\n"
     ]
    }
   ]
  },
  {
   "cell_type": "code",
   "source": [
    "raw_data_conv.isnull().mean().sort_values(ascending=False)"
   ],
   "metadata": {
    "colab": {
     "base_uri": "https://localhost:8080/"
    },
    "id": "wyxg_kLg6i4w",
    "outputId": "0f0e4042-93ea-4467-b05e-28267dff600f"
   },
   "execution_count": null,
   "outputs": [
    {
     "output_type": "execute_result",
     "data": {
      "text/plain": [
       "Light                 0.007320\n",
       "CO2                   0.003632\n",
       "Temperature           0.001341\n",
       "HumidityRatio         0.001285\n",
       "date                  0.000000\n",
       "Humidity              0.000000\n",
       "Classe_energetique    0.000000\n",
       "Security              0.000000\n",
       "dtype: float64"
      ]
     },
     "metadata": {},
     "execution_count": 109
    }
   ]
  },
  {
   "cell_type": "code",
   "source": [
    "print(raw_data_conv.shape)\n",
    "# 1 pour supprimer les colonnes contenant des valeurs manquantes\n",
    "data_supp_col = raw_data_conv.dropna(axis=1)\n",
    "\n",
    "print(data_supp_col.shape)"
   ],
   "metadata": {
    "colab": {
     "base_uri": "https://localhost:8080/"
    },
    "id": "65lizobk6n0d",
    "outputId": "884a0a3a-af50-41af-f2ce-d702c9cac83b"
   },
   "execution_count": null,
   "outputs": [
    {
     "output_type": "stream",
     "name": "stdout",
     "text": [
      "(17895, 8)\n",
      "(17895, 4)\n"
     ]
    }
   ]
  },
  {
   "cell_type": "code",
   "source": [
    "data_supp_col.head()"
   ],
   "metadata": {
    "colab": {
     "base_uri": "https://localhost:8080/",
     "height": 206
    },
    "id": "fl6X6_Ru63HW",
    "outputId": "9863aa04-e940-4168-9c4e-82635a868416"
   },
   "execution_count": null,
   "outputs": [
    {
     "output_type": "execute_result",
     "data": {
      "text/plain": [
       "                 date  Humidity Classe_energetique Security\n",
       "0 2015-04-02 17:51:00   27.2720                  A      oui\n",
       "1 2015-04-02 17:51:00   27.2675                  A      oui\n",
       "2 2015-04-02 17:53:00   27.2450                  A      oui\n",
       "3 2015-04-02 17:54:00   27.2000                  A      oui\n",
       "4 2015-04-02 17:55:00   27.2000                  A      oui"
      ],
      "text/html": [
       "\n",
       "  <div id=\"df-433e5c54-d18c-4511-965e-89bec6896811\">\n",
       "    <div class=\"colab-df-container\">\n",
       "      <div>\n",
       "<style scoped>\n",
       "    .dataframe tbody tr th:only-of-type {\n",
       "        vertical-align: middle;\n",
       "    }\n",
       "\n",
       "    .dataframe tbody tr th {\n",
       "        vertical-align: top;\n",
       "    }\n",
       "\n",
       "    .dataframe thead th {\n",
       "        text-align: right;\n",
       "    }\n",
       "</style>\n",
       "<table border=\"1\" class=\"dataframe\">\n",
       "  <thead>\n",
       "    <tr style=\"text-align: right;\">\n",
       "      <th></th>\n",
       "      <th>date</th>\n",
       "      <th>Humidity</th>\n",
       "      <th>Classe_energetique</th>\n",
       "      <th>Security</th>\n",
       "    </tr>\n",
       "  </thead>\n",
       "  <tbody>\n",
       "    <tr>\n",
       "      <th>0</th>\n",
       "      <td>2015-04-02 17:51:00</td>\n",
       "      <td>27.2720</td>\n",
       "      <td>A</td>\n",
       "      <td>oui</td>\n",
       "    </tr>\n",
       "    <tr>\n",
       "      <th>1</th>\n",
       "      <td>2015-04-02 17:51:00</td>\n",
       "      <td>27.2675</td>\n",
       "      <td>A</td>\n",
       "      <td>oui</td>\n",
       "    </tr>\n",
       "    <tr>\n",
       "      <th>2</th>\n",
       "      <td>2015-04-02 17:53:00</td>\n",
       "      <td>27.2450</td>\n",
       "      <td>A</td>\n",
       "      <td>oui</td>\n",
       "    </tr>\n",
       "    <tr>\n",
       "      <th>3</th>\n",
       "      <td>2015-04-02 17:54:00</td>\n",
       "      <td>27.2000</td>\n",
       "      <td>A</td>\n",
       "      <td>oui</td>\n",
       "    </tr>\n",
       "    <tr>\n",
       "      <th>4</th>\n",
       "      <td>2015-04-02 17:55:00</td>\n",
       "      <td>27.2000</td>\n",
       "      <td>A</td>\n",
       "      <td>oui</td>\n",
       "    </tr>\n",
       "  </tbody>\n",
       "</table>\n",
       "</div>\n",
       "      <button class=\"colab-df-convert\" onclick=\"convertToInteractive('df-433e5c54-d18c-4511-965e-89bec6896811')\"\n",
       "              title=\"Convert this dataframe to an interactive table.\"\n",
       "              style=\"display:none;\">\n",
       "        \n",
       "  <svg xmlns=\"http://www.w3.org/2000/svg\" height=\"24px\"viewBox=\"0 0 24 24\"\n",
       "       width=\"24px\">\n",
       "    <path d=\"M0 0h24v24H0V0z\" fill=\"none\"/>\n",
       "    <path d=\"M18.56 5.44l.94 2.06.94-2.06 2.06-.94-2.06-.94-.94-2.06-.94 2.06-2.06.94zm-11 1L8.5 8.5l.94-2.06 2.06-.94-2.06-.94L8.5 2.5l-.94 2.06-2.06.94zm10 10l.94 2.06.94-2.06 2.06-.94-2.06-.94-.94-2.06-.94 2.06-2.06.94z\"/><path d=\"M17.41 7.96l-1.37-1.37c-.4-.4-.92-.59-1.43-.59-.52 0-1.04.2-1.43.59L10.3 9.45l-7.72 7.72c-.78.78-.78 2.05 0 2.83L4 21.41c.39.39.9.59 1.41.59.51 0 1.02-.2 1.41-.59l7.78-7.78 2.81-2.81c.8-.78.8-2.07 0-2.86zM5.41 20L4 18.59l7.72-7.72 1.47 1.35L5.41 20z\"/>\n",
       "  </svg>\n",
       "      </button>\n",
       "      \n",
       "  <style>\n",
       "    .colab-df-container {\n",
       "      display:flex;\n",
       "      flex-wrap:wrap;\n",
       "      gap: 12px;\n",
       "    }\n",
       "\n",
       "    .colab-df-convert {\n",
       "      background-color: #E8F0FE;\n",
       "      border: none;\n",
       "      border-radius: 50%;\n",
       "      cursor: pointer;\n",
       "      display: none;\n",
       "      fill: #1967D2;\n",
       "      height: 32px;\n",
       "      padding: 0 0 0 0;\n",
       "      width: 32px;\n",
       "    }\n",
       "\n",
       "    .colab-df-convert:hover {\n",
       "      background-color: #E2EBFA;\n",
       "      box-shadow: 0px 1px 2px rgba(60, 64, 67, 0.3), 0px 1px 3px 1px rgba(60, 64, 67, 0.15);\n",
       "      fill: #174EA6;\n",
       "    }\n",
       "\n",
       "    [theme=dark] .colab-df-convert {\n",
       "      background-color: #3B4455;\n",
       "      fill: #D2E3FC;\n",
       "    }\n",
       "\n",
       "    [theme=dark] .colab-df-convert:hover {\n",
       "      background-color: #434B5C;\n",
       "      box-shadow: 0px 1px 3px 1px rgba(0, 0, 0, 0.15);\n",
       "      filter: drop-shadow(0px 1px 2px rgba(0, 0, 0, 0.3));\n",
       "      fill: #FFFFFF;\n",
       "    }\n",
       "  </style>\n",
       "\n",
       "      <script>\n",
       "        const buttonEl =\n",
       "          document.querySelector('#df-433e5c54-d18c-4511-965e-89bec6896811 button.colab-df-convert');\n",
       "        buttonEl.style.display =\n",
       "          google.colab.kernel.accessAllowed ? 'block' : 'none';\n",
       "\n",
       "        async function convertToInteractive(key) {\n",
       "          const element = document.querySelector('#df-433e5c54-d18c-4511-965e-89bec6896811');\n",
       "          const dataTable =\n",
       "            await google.colab.kernel.invokeFunction('convertToInteractive',\n",
       "                                                     [key], {});\n",
       "          if (!dataTable) return;\n",
       "\n",
       "          const docLinkHtml = 'Like what you see? Visit the ' +\n",
       "            '<a target=\"_blank\" href=https://colab.research.google.com/notebooks/data_table.ipynb>data table notebook</a>'\n",
       "            + ' to learn more about interactive tables.';\n",
       "          element.innerHTML = '';\n",
       "          dataTable['output_type'] = 'display_data';\n",
       "          await google.colab.output.renderOutput(dataTable, element);\n",
       "          const docLink = document.createElement('div');\n",
       "          docLink.innerHTML = docLinkHtml;\n",
       "          element.appendChild(docLink);\n",
       "        }\n",
       "      </script>\n",
       "    </div>\n",
       "  </div>\n",
       "  "
      ]
     },
     "metadata": {},
     "execution_count": 106
    }
   ]
  },
  {
   "cell_type": "code",
   "source": [
    ""
   ],
   "metadata": {
    "id": "PfOuA18b7Ho2"
   },
   "execution_count": null,
   "outputs": []
  }
 ]
}