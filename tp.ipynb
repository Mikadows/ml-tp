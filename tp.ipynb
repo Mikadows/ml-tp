{
 "cells": [
  {
   "cell_type": "markdown",
   "metadata": {},
   "source": [
    "# Problématique métier"
   ]
  },
  {
   "cell_type": "markdown",
   "metadata": {},
   "source": [
    "Le but est de prédire la condition opérationel du \"point d'eau\".\n",
    "\n",
    "Les status possibles sont les suivants : \n",
    "* functional\n",
    "* functional needs repair\n",
    "* non functional"
   ]
  },
  {
   "cell_type": "markdown",
   "metadata": {},
   "source": [
    "# Préparation des données"
   ]
  },
  {
   "cell_type": "code",
   "execution_count": 10,
   "metadata": {
    "id": "ipk8QZzX4fNy"
   },
   "outputs": [],
   "source": [
    "import numpy as np\n",
    "import matplotlib.pyplot as plt\n",
    "import seaborn as sns\n",
    "import pandas as pd\n",
    "#pd.set_option('max_columns', None)"
   ]
  },
  {
   "cell_type": "code",
   "execution_count": 13,
   "metadata": {
    "colab": {
     "base_uri": "https://localhost:8080/"
    },
    "id": "zNP2XYnw4oge",
    "outputId": "312fd33d-636d-4c81-ad73-dfc88869ae1f"
   },
   "outputs": [
    {
     "name": "stderr",
     "output_type": "stream",
     "text": [
      "D:\\ESGI\\5AL\\ML\\ML-TP\\venv\\lib\\site-packages\\IPython\\core\\interactiveshell.py:3369: FutureWarning: In a future version of pandas all arguments of read_csv except for the argument 'filepath_or_buffer' will be keyword-only.\n",
      "  exec(code_obj, self.user_global_ns, self.user_ns)\n"
     ]
    }
   ],
   "source": [
    "raw_data = pd.read_csv(\"input/features.csv\", \",\")"
   ]
  },
  {
   "cell_type": "code",
   "execution_count": 14,
   "metadata": {
    "colab": {
     "base_uri": "https://localhost:8080/",
     "height": 206
    },
    "id": "NtSLAL4446bT",
    "outputId": "631a1c55-8531-44b0-b6c1-0edbb4fe1490"
   },
   "outputs": [
    {
     "data": {
      "text/html": [
       "<div>\n",
       "<style scoped>\n",
       "    .dataframe tbody tr th:only-of-type {\n",
       "        vertical-align: middle;\n",
       "    }\n",
       "\n",
       "    .dataframe tbody tr th {\n",
       "        vertical-align: top;\n",
       "    }\n",
       "\n",
       "    .dataframe thead th {\n",
       "        text-align: right;\n",
       "    }\n",
       "</style>\n",
       "<table border=\"1\" class=\"dataframe\">\n",
       "  <thead>\n",
       "    <tr style=\"text-align: right;\">\n",
       "      <th></th>\n",
       "      <th>id</th>\n",
       "      <th>amount_tsh</th>\n",
       "      <th>date_recorded</th>\n",
       "      <th>funder</th>\n",
       "      <th>gps_height</th>\n",
       "      <th>installer</th>\n",
       "      <th>longitude</th>\n",
       "      <th>latitude</th>\n",
       "      <th>wpt_name</th>\n",
       "      <th>num_private</th>\n",
       "      <th>...</th>\n",
       "      <th>payment_type</th>\n",
       "      <th>water_quality</th>\n",
       "      <th>quality_group</th>\n",
       "      <th>quantity</th>\n",
       "      <th>quantity_group</th>\n",
       "      <th>source</th>\n",
       "      <th>source_type</th>\n",
       "      <th>source_class</th>\n",
       "      <th>waterpoint_type</th>\n",
       "      <th>waterpoint_type_group</th>\n",
       "    </tr>\n",
       "  </thead>\n",
       "  <tbody>\n",
       "    <tr>\n",
       "      <th>0</th>\n",
       "      <td>69572</td>\n",
       "      <td>6000.0</td>\n",
       "      <td>2011-03-14</td>\n",
       "      <td>Roman</td>\n",
       "      <td>1390</td>\n",
       "      <td>Roman</td>\n",
       "      <td>34.938093</td>\n",
       "      <td>-9.856322</td>\n",
       "      <td>none</td>\n",
       "      <td>0</td>\n",
       "      <td>...</td>\n",
       "      <td>annually</td>\n",
       "      <td>soft</td>\n",
       "      <td>good</td>\n",
       "      <td>enough</td>\n",
       "      <td>enough</td>\n",
       "      <td>spring</td>\n",
       "      <td>spring</td>\n",
       "      <td>groundwater</td>\n",
       "      <td>communal standpipe</td>\n",
       "      <td>communal standpipe</td>\n",
       "    </tr>\n",
       "    <tr>\n",
       "      <th>1</th>\n",
       "      <td>8776</td>\n",
       "      <td>0.0</td>\n",
       "      <td>2013-03-06</td>\n",
       "      <td>Grumeti</td>\n",
       "      <td>1399</td>\n",
       "      <td>GRUMETI</td>\n",
       "      <td>34.698766</td>\n",
       "      <td>-2.147466</td>\n",
       "      <td>Zahanati</td>\n",
       "      <td>0</td>\n",
       "      <td>...</td>\n",
       "      <td>never pay</td>\n",
       "      <td>soft</td>\n",
       "      <td>good</td>\n",
       "      <td>insufficient</td>\n",
       "      <td>insufficient</td>\n",
       "      <td>rainwater harvesting</td>\n",
       "      <td>rainwater harvesting</td>\n",
       "      <td>surface</td>\n",
       "      <td>communal standpipe</td>\n",
       "      <td>communal standpipe</td>\n",
       "    </tr>\n",
       "    <tr>\n",
       "      <th>2</th>\n",
       "      <td>34310</td>\n",
       "      <td>25.0</td>\n",
       "      <td>2013-02-25</td>\n",
       "      <td>Lottery Club</td>\n",
       "      <td>686</td>\n",
       "      <td>World vision</td>\n",
       "      <td>37.460664</td>\n",
       "      <td>-3.821329</td>\n",
       "      <td>Kwa Mahundi</td>\n",
       "      <td>0</td>\n",
       "      <td>...</td>\n",
       "      <td>per bucket</td>\n",
       "      <td>soft</td>\n",
       "      <td>good</td>\n",
       "      <td>enough</td>\n",
       "      <td>enough</td>\n",
       "      <td>dam</td>\n",
       "      <td>dam</td>\n",
       "      <td>surface</td>\n",
       "      <td>communal standpipe multiple</td>\n",
       "      <td>communal standpipe</td>\n",
       "    </tr>\n",
       "    <tr>\n",
       "      <th>3</th>\n",
       "      <td>67743</td>\n",
       "      <td>0.0</td>\n",
       "      <td>2013-01-28</td>\n",
       "      <td>Unicef</td>\n",
       "      <td>263</td>\n",
       "      <td>UNICEF</td>\n",
       "      <td>38.486161</td>\n",
       "      <td>-11.155298</td>\n",
       "      <td>Zahanati Ya Nanyumbu</td>\n",
       "      <td>0</td>\n",
       "      <td>...</td>\n",
       "      <td>never pay</td>\n",
       "      <td>soft</td>\n",
       "      <td>good</td>\n",
       "      <td>dry</td>\n",
       "      <td>dry</td>\n",
       "      <td>machine dbh</td>\n",
       "      <td>borehole</td>\n",
       "      <td>groundwater</td>\n",
       "      <td>communal standpipe multiple</td>\n",
       "      <td>communal standpipe</td>\n",
       "    </tr>\n",
       "    <tr>\n",
       "      <th>4</th>\n",
       "      <td>19728</td>\n",
       "      <td>0.0</td>\n",
       "      <td>2011-07-13</td>\n",
       "      <td>Action In A</td>\n",
       "      <td>0</td>\n",
       "      <td>Artisan</td>\n",
       "      <td>31.130847</td>\n",
       "      <td>-1.825359</td>\n",
       "      <td>Shuleni</td>\n",
       "      <td>0</td>\n",
       "      <td>...</td>\n",
       "      <td>never pay</td>\n",
       "      <td>soft</td>\n",
       "      <td>good</td>\n",
       "      <td>seasonal</td>\n",
       "      <td>seasonal</td>\n",
       "      <td>rainwater harvesting</td>\n",
       "      <td>rainwater harvesting</td>\n",
       "      <td>surface</td>\n",
       "      <td>communal standpipe</td>\n",
       "      <td>communal standpipe</td>\n",
       "    </tr>\n",
       "  </tbody>\n",
       "</table>\n",
       "<p>5 rows × 40 columns</p>\n",
       "</div>"
      ],
      "text/plain": [
       "      id  amount_tsh date_recorded        funder  gps_height     installer  \\\n",
       "0  69572      6000.0    2011-03-14         Roman        1390         Roman   \n",
       "1   8776         0.0    2013-03-06       Grumeti        1399       GRUMETI   \n",
       "2  34310        25.0    2013-02-25  Lottery Club         686  World vision   \n",
       "3  67743         0.0    2013-01-28        Unicef         263        UNICEF   \n",
       "4  19728         0.0    2011-07-13   Action In A           0       Artisan   \n",
       "\n",
       "   longitude   latitude              wpt_name  num_private  ... payment_type  \\\n",
       "0  34.938093  -9.856322                  none            0  ...     annually   \n",
       "1  34.698766  -2.147466              Zahanati            0  ...    never pay   \n",
       "2  37.460664  -3.821329           Kwa Mahundi            0  ...   per bucket   \n",
       "3  38.486161 -11.155298  Zahanati Ya Nanyumbu            0  ...    never pay   \n",
       "4  31.130847  -1.825359               Shuleni            0  ...    never pay   \n",
       "\n",
       "  water_quality quality_group      quantity  quantity_group  \\\n",
       "0          soft          good        enough          enough   \n",
       "1          soft          good  insufficient    insufficient   \n",
       "2          soft          good        enough          enough   \n",
       "3          soft          good           dry             dry   \n",
       "4          soft          good      seasonal        seasonal   \n",
       "\n",
       "                 source           source_type  source_class  \\\n",
       "0                spring                spring   groundwater   \n",
       "1  rainwater harvesting  rainwater harvesting       surface   \n",
       "2                   dam                   dam       surface   \n",
       "3           machine dbh              borehole   groundwater   \n",
       "4  rainwater harvesting  rainwater harvesting       surface   \n",
       "\n",
       "               waterpoint_type waterpoint_type_group  \n",
       "0           communal standpipe    communal standpipe  \n",
       "1           communal standpipe    communal standpipe  \n",
       "2  communal standpipe multiple    communal standpipe  \n",
       "3  communal standpipe multiple    communal standpipe  \n",
       "4           communal standpipe    communal standpipe  \n",
       "\n",
       "[5 rows x 40 columns]"
      ]
     },
     "execution_count": 14,
     "metadata": {},
     "output_type": "execute_result"
    }
   ],
   "source": [
    "# Regarder dans la base\n",
    "raw_data.head() # afficher les 5 premières lignes"
   ]
  },
  {
   "cell_type": "code",
   "execution_count": 8,
   "metadata": {
    "colab": {
     "base_uri": "https://localhost:8080/"
    },
    "id": "sgeQAhOX47Pq",
    "outputId": "99c985b2-124a-4c62-aa06-e9578d8040ea"
   },
   "outputs": [
    {
     "data": {
      "text/plain": [
       "59400"
      ]
     },
     "execution_count": 8,
     "metadata": {},
     "output_type": "execute_result"
    }
   ],
   "source": [
    "# Vérification si chaque lignes à bien un id\n",
    "len(raw_data[\"id\"].unique())"
   ]
  },
  {
   "cell_type": "code",
   "execution_count": 15,
   "metadata": {
    "colab": {
     "base_uri": "https://localhost:8080/"
    },
    "id": "qSS01mSF5E0P",
    "outputId": "36a6a8c3-af5d-40ad-ce71-c9fc72b3545b"
   },
   "outputs": [
    {
     "name": "stdout",
     "output_type": "stream",
     "text": [
      "(59400, 40)\n",
      "<class 'pandas.core.frame.DataFrame'>\n",
      "RangeIndex: 59400 entries, 0 to 59399\n",
      "Data columns (total 40 columns):\n",
      " #   Column                 Non-Null Count  Dtype  \n",
      "---  ------                 --------------  -----  \n",
      " 0   id                     59400 non-null  int64  \n",
      " 1   amount_tsh             59400 non-null  float64\n",
      " 2   date_recorded          59400 non-null  object \n",
      " 3   funder                 55765 non-null  object \n",
      " 4   gps_height             59400 non-null  int64  \n",
      " 5   installer              55745 non-null  object \n",
      " 6   longitude              59400 non-null  float64\n",
      " 7   latitude               59400 non-null  float64\n",
      " 8   wpt_name               59400 non-null  object \n",
      " 9   num_private            59400 non-null  int64  \n",
      " 10  basin                  59400 non-null  object \n",
      " 11  subvillage             59029 non-null  object \n",
      " 12  region                 59400 non-null  object \n",
      " 13  region_code            59400 non-null  int64  \n",
      " 14  district_code          59400 non-null  int64  \n",
      " 15  lga                    59400 non-null  object \n",
      " 16  ward                   59400 non-null  object \n",
      " 17  population             59400 non-null  int64  \n",
      " 18  public_meeting         56066 non-null  object \n",
      " 19  recorded_by            59400 non-null  object \n",
      " 20  scheme_management      55523 non-null  object \n",
      " 21  scheme_name            31234 non-null  object \n",
      " 22  permit                 56344 non-null  object \n",
      " 23  construction_year      59400 non-null  int64  \n",
      " 24  extraction_type        59400 non-null  object \n",
      " 25  extraction_type_group  59400 non-null  object \n",
      " 26  extraction_type_class  59400 non-null  object \n",
      " 27  management             59400 non-null  object \n",
      " 28  management_group       59400 non-null  object \n",
      " 29  payment                59400 non-null  object \n",
      " 30  payment_type           59400 non-null  object \n",
      " 31  water_quality          59400 non-null  object \n",
      " 32  quality_group          59400 non-null  object \n",
      " 33  quantity               59400 non-null  object \n",
      " 34  quantity_group         59400 non-null  object \n",
      " 35  source                 59400 non-null  object \n",
      " 36  source_type            59400 non-null  object \n",
      " 37  source_class           59400 non-null  object \n",
      " 38  waterpoint_type        59400 non-null  object \n",
      " 39  waterpoint_type_group  59400 non-null  object \n",
      "dtypes: float64(3), int64(7), object(30)\n",
      "memory usage: 18.1+ MB\n"
     ]
    }
   ],
   "source": [
    "print(raw_data.shape)\n",
    "raw_data.info()"
   ]
  },
  {
   "cell_type": "markdown",
   "metadata": {},
   "source": [
    "## Recherche des valeurs manquantes"
   ]
  },
  {
   "cell_type": "code",
   "execution_count": 19,
   "metadata": {},
   "outputs": [
    {
     "name": "stdout",
     "output_type": "stream",
     "text": [
      "scheme_name              28166\n",
      "scheme_management         3877\n",
      "installer                 3655\n",
      "funder                    3635\n",
      "public_meeting            3334\n",
      "permit                    3056\n",
      "subvillage                 371\n",
      "management_group             0\n",
      "waterpoint_type              0\n",
      "extraction_type              0\n",
      "extraction_type_group        0\n",
      "source_class                 0\n",
      "extraction_type_class        0\n",
      "management                   0\n",
      "source_type                  0\n",
      "source                       0\n",
      "payment_type                 0\n",
      "water_quality                0\n",
      "construction_year            0\n",
      "quality_group                0\n",
      "quantity                     0\n",
      "quantity_group               0\n",
      "payment                      0\n",
      "id                           0\n",
      "amount_tsh                   0\n",
      "recorded_by                  0\n",
      "population                   0\n",
      "ward                         0\n",
      "lga                          0\n",
      "district_code                0\n",
      "region_code                  0\n",
      "region                       0\n",
      "basin                        0\n",
      "num_private                  0\n",
      "wpt_name                     0\n",
      "latitude                     0\n",
      "longitude                    0\n",
      "gps_height                   0\n",
      "date_recorded                0\n",
      "waterpoint_type_group        0\n",
      "dtype: int64\n"
     ]
    }
   ],
   "source": [
    "# nombre de valeurs manquantes\n",
    "print(raw_data.isnull().sum().sort_values(ascending=False))"
   ]
  },
  {
   "cell_type": "markdown",
   "metadata": {},
   "source": [
    "Après analyse, nous allons enlever le scheme_name"
   ]
  },
  {
   "cell_type": "code",
   "execution_count": 20,
   "metadata": {},
   "outputs": [
    {
     "name": "stdout",
     "output_type": "stream",
     "text": [
      "scheme_name              0.474175\n",
      "scheme_management        0.065269\n",
      "installer                0.061532\n",
      "funder                   0.061195\n",
      "public_meeting           0.056128\n",
      "permit                   0.051448\n",
      "subvillage               0.006246\n",
      "management_group         0.000000\n",
      "waterpoint_type          0.000000\n",
      "extraction_type          0.000000\n",
      "extraction_type_group    0.000000\n",
      "source_class             0.000000\n",
      "extraction_type_class    0.000000\n",
      "management               0.000000\n",
      "source_type              0.000000\n",
      "source                   0.000000\n",
      "payment_type             0.000000\n",
      "water_quality            0.000000\n",
      "construction_year        0.000000\n",
      "quality_group            0.000000\n",
      "quantity                 0.000000\n",
      "quantity_group           0.000000\n",
      "payment                  0.000000\n",
      "id                       0.000000\n",
      "amount_tsh               0.000000\n",
      "recorded_by              0.000000\n",
      "population               0.000000\n",
      "ward                     0.000000\n",
      "lga                      0.000000\n",
      "district_code            0.000000\n",
      "region_code              0.000000\n",
      "region                   0.000000\n",
      "basin                    0.000000\n",
      "num_private              0.000000\n",
      "wpt_name                 0.000000\n",
      "latitude                 0.000000\n",
      "longitude                0.000000\n",
      "gps_height               0.000000\n",
      "date_recorded            0.000000\n",
      "waterpoint_type_group    0.000000\n",
      "dtype: float64\n"
     ]
    }
   ],
   "source": [
    "# Proportion de valeurs manquantes\n",
    "print(raw_data.isnull().mean().sort_values(ascending=False))"
   ]
  },
  {
   "cell_type": "markdown",
   "metadata": {},
   "source": [
    "## Préparation des données"
   ]
  },
  {
   "cell_type": "code",
   "execution_count": 21,
   "metadata": {},
   "outputs": [],
   "source": [
    "string_list = [\"funder\", \"installer\", \"wpt_name\", \"basin\", \"subvillage\", \"region\", \"lga\", \"ward\", \"recorded_by\", \"scheme_management\", \"scheme_name\", \"extraction_type\", \"extraction_type_group\", \"extraction_type_class\", \"management\", \"management_group\", \"payment\", \"payment_type\", \"water_quality\", \"quality_group\", \"quantity\", \"quantity_group\", \"source\", \"source_type\", \"source_class\", \"waterpoint_type\", \"waterpoint_type_group\"]"
   ]
  },
  {
   "cell_type": "code",
   "execution_count": 22,
   "metadata": {
    "colab": {
     "base_uri": "https://localhost:8080/"
    },
    "id": "46xbpZTA5S6D",
    "outputId": "2d4f9e89-f2d6-41e6-b460-d2c03a6c7ec0"
   },
   "outputs": [
    {
     "name": "stdout",
     "output_type": "stream",
     "text": [
      "<class 'pandas.core.frame.DataFrame'>\n",
      "RangeIndex: 59400 entries, 0 to 59399\n",
      "Data columns (total 40 columns):\n",
      " #   Column                 Non-Null Count  Dtype  \n",
      "---  ------                 --------------  -----  \n",
      " 0   id                     59400 non-null  int64  \n",
      " 1   amount_tsh             59400 non-null  float64\n",
      " 2   date_recorded          59400 non-null  object \n",
      " 3   funder                 59400 non-null  string \n",
      " 4   gps_height             59400 non-null  int64  \n",
      " 5   installer              59400 non-null  string \n",
      " 6   longitude              59400 non-null  float64\n",
      " 7   latitude               59400 non-null  float64\n",
      " 8   wpt_name               59400 non-null  string \n",
      " 9   num_private            59400 non-null  int64  \n",
      " 10  basin                  59400 non-null  string \n",
      " 11  subvillage             59400 non-null  string \n",
      " 12  region                 59400 non-null  string \n",
      " 13  region_code            59400 non-null  int64  \n",
      " 14  district_code          59400 non-null  int64  \n",
      " 15  lga                    59400 non-null  string \n",
      " 16  ward                   59400 non-null  string \n",
      " 17  population             59400 non-null  int64  \n",
      " 18  public_meeting         56066 non-null  object \n",
      " 19  recorded_by            59400 non-null  string \n",
      " 20  scheme_management      59400 non-null  string \n",
      " 21  scheme_name            59400 non-null  string \n",
      " 22  permit                 56344 non-null  object \n",
      " 23  construction_year      59400 non-null  int64  \n",
      " 24  extraction_type        59400 non-null  string \n",
      " 25  extraction_type_group  59400 non-null  string \n",
      " 26  extraction_type_class  59400 non-null  string \n",
      " 27  management             59400 non-null  string \n",
      " 28  management_group       59400 non-null  string \n",
      " 29  payment                59400 non-null  string \n",
      " 30  payment_type           59400 non-null  string \n",
      " 31  water_quality          59400 non-null  string \n",
      " 32  quality_group          59400 non-null  string \n",
      " 33  quantity               59400 non-null  string \n",
      " 34  quantity_group         59400 non-null  string \n",
      " 35  source                 59400 non-null  string \n",
      " 36  source_type            59400 non-null  string \n",
      " 37  source_class           59400 non-null  string \n",
      " 38  waterpoint_type        59400 non-null  string \n",
      " 39  waterpoint_type_group  59400 non-null  string \n",
      "dtypes: float64(3), int64(7), object(3), string(27)\n",
      "memory usage: 18.1+ MB\n"
     ]
    }
   ],
   "source": [
    "raw_data_conv = raw_data.copy()\n",
    "#a mettre avant\n",
    "raw_data_conv[string_list] = raw_data_conv[string_list].astype(str)\n",
    "raw_data_conv[string_list] = raw_data_conv[string_list].astype(\"string\")\n",
    "raw_data_conv[string_list] = raw_data_conv[string_list].replace({pd.NA: np.nan})\n",
    "raw_data_conv.info()"
   ]
  },
  {
   "cell_type": "markdown",
   "metadata": {},
   "source": [
    "Convervion des dates"
   ]
  },
  {
   "cell_type": "code",
   "execution_count": 25,
   "metadata": {},
   "outputs": [],
   "source": [
    "raw_data_conv['date_recorded'] =  pd.to_datetime(raw_data_conv['date_recorded'], format='%Y-%m-%d')"
   ]
  },
  {
   "cell_type": "code",
   "execution_count": 26,
   "metadata": {
    "colab": {
     "base_uri": "https://localhost:8080/"
    },
    "id": "NDEo448a6Cj8",
    "outputId": "ecff2937-f440-4ab3-b29c-f0b9a5c66e98"
   },
   "outputs": [
    {
     "name": "stdout",
     "output_type": "stream",
     "text": [
      "<class 'pandas.core.frame.DataFrame'>\n",
      "RangeIndex: 59400 entries, 0 to 59399\n",
      "Data columns (total 40 columns):\n",
      " #   Column                 Non-Null Count  Dtype         \n",
      "---  ------                 --------------  -----         \n",
      " 0   id                     59400 non-null  int64         \n",
      " 1   amount_tsh             59400 non-null  float64       \n",
      " 2   date_recorded          59400 non-null  datetime64[ns]\n",
      " 3   funder                 59400 non-null  string        \n",
      " 4   gps_height             59400 non-null  int64         \n",
      " 5   installer              59400 non-null  string        \n",
      " 6   longitude              59400 non-null  float64       \n",
      " 7   latitude               59400 non-null  float64       \n",
      " 8   wpt_name               59400 non-null  string        \n",
      " 9   num_private            59400 non-null  int64         \n",
      " 10  basin                  59400 non-null  string        \n",
      " 11  subvillage             59400 non-null  string        \n",
      " 12  region                 59400 non-null  string        \n",
      " 13  region_code            59400 non-null  int64         \n",
      " 14  district_code          59400 non-null  int64         \n",
      " 15  lga                    59400 non-null  string        \n",
      " 16  ward                   59400 non-null  string        \n",
      " 17  population             59400 non-null  int64         \n",
      " 18  public_meeting         56066 non-null  object        \n",
      " 19  recorded_by            59400 non-null  string        \n",
      " 20  scheme_management      59400 non-null  string        \n",
      " 21  scheme_name            59400 non-null  string        \n",
      " 22  permit                 56344 non-null  object        \n",
      " 23  construction_year      59400 non-null  int64         \n",
      " 24  extraction_type        59400 non-null  string        \n",
      " 25  extraction_type_group  59400 non-null  string        \n",
      " 26  extraction_type_class  59400 non-null  string        \n",
      " 27  management             59400 non-null  string        \n",
      " 28  management_group       59400 non-null  string        \n",
      " 29  payment                59400 non-null  string        \n",
      " 30  payment_type           59400 non-null  string        \n",
      " 31  water_quality          59400 non-null  string        \n",
      " 32  quality_group          59400 non-null  string        \n",
      " 33  quantity               59400 non-null  string        \n",
      " 34  quantity_group         59400 non-null  string        \n",
      " 35  source                 59400 non-null  string        \n",
      " 36  source_type            59400 non-null  string        \n",
      " 37  source_class           59400 non-null  string        \n",
      " 38  waterpoint_type        59400 non-null  string        \n",
      " 39  waterpoint_type_group  59400 non-null  string        \n",
      "dtypes: datetime64[ns](1), float64(3), int64(7), object(2), string(27)\n",
      "memory usage: 18.1+ MB\n"
     ]
    }
   ],
   "source": [
    "raw_data_conv.info()"
   ]
  },
  {
   "cell_type": "markdown",
   "metadata": {
    "colab": {
     "base_uri": "https://localhost:8080/"
    },
    "id": "WitiPifE6evq",
    "outputId": "2f7061c2-e289-4fcd-8862-8fc35969a965"
   },
   "source": [
    "Convertion des colonnes \"object\" restantes en ???"
   ]
  },
  {
   "cell_type": "code",
   "execution_count": 29,
   "metadata": {},
   "outputs": [
    {
     "name": "stdout",
     "output_type": "stream",
     "text": [
      "Index(['public_meeting', 'permit'], dtype='object')\n"
     ]
    }
   ],
   "source": [
    "# récupérer les colonnes à convertir\n",
    "objectcols = raw_data_conv.select_dtypes(include='object').columns\n",
    "print(objectcols)"
   ]
  },
  {
   "cell_type": "code",
   "execution_count": 30,
   "metadata": {},
   "outputs": [],
   "source": [
    "# Convertion des données en boolean\n",
    "raw_data_conv[objectcols] = raw_data_conv[objectcols].astype(bool)\n",
    "raw_data_conv[objectcols] = raw_data_conv[objectcols].astype(\"bool\")\n",
    "raw_data_conv[objectcols] = raw_data_conv[objectcols].replace({pd.NA: np.nan})"
   ]
  },
  {
   "cell_type": "code",
   "execution_count": 31,
   "metadata": {},
   "outputs": [
    {
     "name": "stdout",
     "output_type": "stream",
     "text": [
      "<class 'pandas.core.frame.DataFrame'>\n",
      "RangeIndex: 59400 entries, 0 to 59399\n",
      "Data columns (total 40 columns):\n",
      " #   Column                 Non-Null Count  Dtype         \n",
      "---  ------                 --------------  -----         \n",
      " 0   id                     59400 non-null  int64         \n",
      " 1   amount_tsh             59400 non-null  float64       \n",
      " 2   date_recorded          59400 non-null  datetime64[ns]\n",
      " 3   funder                 59400 non-null  string        \n",
      " 4   gps_height             59400 non-null  int64         \n",
      " 5   installer              59400 non-null  string        \n",
      " 6   longitude              59400 non-null  float64       \n",
      " 7   latitude               59400 non-null  float64       \n",
      " 8   wpt_name               59400 non-null  string        \n",
      " 9   num_private            59400 non-null  int64         \n",
      " 10  basin                  59400 non-null  string        \n",
      " 11  subvillage             59400 non-null  string        \n",
      " 12  region                 59400 non-null  string        \n",
      " 13  region_code            59400 non-null  int64         \n",
      " 14  district_code          59400 non-null  int64         \n",
      " 15  lga                    59400 non-null  string        \n",
      " 16  ward                   59400 non-null  string        \n",
      " 17  population             59400 non-null  int64         \n",
      " 18  public_meeting         59400 non-null  bool          \n",
      " 19  recorded_by            59400 non-null  string        \n",
      " 20  scheme_management      59400 non-null  string        \n",
      " 21  scheme_name            59400 non-null  string        \n",
      " 22  permit                 59400 non-null  bool          \n",
      " 23  construction_year      59400 non-null  int64         \n",
      " 24  extraction_type        59400 non-null  string        \n",
      " 25  extraction_type_group  59400 non-null  string        \n",
      " 26  extraction_type_class  59400 non-null  string        \n",
      " 27  management             59400 non-null  string        \n",
      " 28  management_group       59400 non-null  string        \n",
      " 29  payment                59400 non-null  string        \n",
      " 30  payment_type           59400 non-null  string        \n",
      " 31  water_quality          59400 non-null  string        \n",
      " 32  quality_group          59400 non-null  string        \n",
      " 33  quantity               59400 non-null  string        \n",
      " 34  quantity_group         59400 non-null  string        \n",
      " 35  source                 59400 non-null  string        \n",
      " 36  source_type            59400 non-null  string        \n",
      " 37  source_class           59400 non-null  string        \n",
      " 38  waterpoint_type        59400 non-null  string        \n",
      " 39  waterpoint_type_group  59400 non-null  string        \n",
      "dtypes: bool(2), datetime64[ns](1), float64(3), int64(7), string(27)\n",
      "memory usage: 17.3 MB\n"
     ]
    }
   ],
   "source": [
    "raw_data_conv.info()"
   ]
  },
  {
   "cell_type": "markdown",
   "metadata": {},
   "source": [
    "## Préparation de la target"
   ]
  },
  {
   "cell_type": "code",
   "execution_count": 33,
   "metadata": {},
   "outputs": [
    {
     "name": "stdout",
     "output_type": "stream",
     "text": [
      "<class 'pandas.core.frame.DataFrame'>\n",
      "RangeIndex: 59400 entries, 0 to 59399\n",
      "Data columns (total 1 columns):\n",
      " #   Column        Non-Null Count  Dtype \n",
      "---  ------        --------------  ----- \n",
      " 0   status_group  59400 non-null  object\n",
      "dtypes: object(1)\n",
      "memory usage: 464.2+ KB\n"
     ]
    }
   ],
   "source": [
    "target = pd.read_csv(\"input/target.csv\", delimiter=\",\")\n",
    "y = target.drop(\"id\", axis=1)\n",
    "y.info()"
   ]
  },
  {
   "cell_type": "code",
   "execution_count": 34,
   "metadata": {},
   "outputs": [
    {
     "name": "stdout",
     "output_type": "stream",
     "text": [
      "<class 'pandas.core.frame.DataFrame'>\n",
      "RangeIndex: 59400 entries, 0 to 59399\n",
      "Data columns (total 1 columns):\n",
      " #   Column        Non-Null Count  Dtype \n",
      "---  ------        --------------  ----- \n",
      " 0   status_group  59400 non-null  string\n",
      "dtypes: string(1)\n",
      "memory usage: 464.2 KB\n"
     ]
    }
   ],
   "source": [
    "# Convertion du \"status_group\" en string\n",
    "col = \"status_group\"\n",
    "y[col] = y[col].astype(str)\n",
    "y[col] = y[col].astype(\"string\")\n",
    "y[col] = y[col].replace({pd.NA: np.nan})\n",
    "y.info()"
   ]
  },
  {
   "cell_type": "markdown",
   "metadata": {},
   "source": [
    "# Imputation & Sélection des variables explicatives"
   ]
  },
  {
   "cell_type": "code",
   "execution_count": null,
   "metadata": {},
   "outputs": [],
   "source": []
  },
  {
   "cell_type": "code",
   "execution_count": null,
   "metadata": {
    "colab": {
     "base_uri": "https://localhost:8080/",
     "height": 206
    },
    "id": "lRydSbJ6FRY3",
    "outputId": "c9a8b496-02ec-4b17-8192-eb617e6aab2e"
   },
   "outputs": [
    {
     "data": {
      "text/html": [
       "\n",
       "  <div id=\"df-8231e77f-6e5a-4e17-bdff-fd84ef1020a2\">\n",
       "    <div class=\"colab-df-container\">\n",
       "      <div>\n",
       "<style scoped>\n",
       "    .dataframe tbody tr th:only-of-type {\n",
       "        vertical-align: middle;\n",
       "    }\n",
       "\n",
       "    .dataframe tbody tr th {\n",
       "        vertical-align: top;\n",
       "    }\n",
       "\n",
       "    .dataframe thead th {\n",
       "        text-align: right;\n",
       "    }\n",
       "</style>\n",
       "<table border=\"1\" class=\"dataframe\">\n",
       "  <thead>\n",
       "    <tr style=\"text-align: right;\">\n",
       "      <th></th>\n",
       "      <th>date</th>\n",
       "      <th>Temperature</th>\n",
       "      <th>Humidity</th>\n",
       "      <th>Light</th>\n",
       "      <th>CO2</th>\n",
       "      <th>HumidityRatio</th>\n",
       "      <th>Classe_energetique</th>\n",
       "      <th>Security</th>\n",
       "    </tr>\n",
       "  </thead>\n",
       "  <tbody>\n",
       "    <tr>\n",
       "      <th>0</th>\n",
       "      <td>04/02/2015 17:51</td>\n",
       "      <td>23.18</td>\n",
       "      <td>27.2720</td>\n",
       "      <td>426.0</td>\n",
       "      <td>721.25</td>\n",
       "      <td>0.004793</td>\n",
       "      <td>A</td>\n",
       "      <td>oui</td>\n",
       "    </tr>\n",
       "    <tr>\n",
       "      <th>1</th>\n",
       "      <td>04/02/2015 17:51</td>\n",
       "      <td>23.15</td>\n",
       "      <td>27.2675</td>\n",
       "      <td>429.5</td>\n",
       "      <td>714.00</td>\n",
       "      <td>0.004783</td>\n",
       "      <td>A</td>\n",
       "      <td>oui</td>\n",
       "    </tr>\n",
       "    <tr>\n",
       "      <th>2</th>\n",
       "      <td>04/02/2015 17:53</td>\n",
       "      <td>23.15</td>\n",
       "      <td>27.2450</td>\n",
       "      <td>426.0</td>\n",
       "      <td>713.50</td>\n",
       "      <td>0.004779</td>\n",
       "      <td>A</td>\n",
       "      <td>oui</td>\n",
       "    </tr>\n",
       "    <tr>\n",
       "      <th>3</th>\n",
       "      <td>04/02/2015 17:54</td>\n",
       "      <td>23.15</td>\n",
       "      <td>27.2000</td>\n",
       "      <td>426.0</td>\n",
       "      <td>708.25</td>\n",
       "      <td>0.004772</td>\n",
       "      <td>A</td>\n",
       "      <td>oui</td>\n",
       "    </tr>\n",
       "    <tr>\n",
       "      <th>4</th>\n",
       "      <td>04/02/2015 17:55</td>\n",
       "      <td>23.10</td>\n",
       "      <td>27.2000</td>\n",
       "      <td>426.0</td>\n",
       "      <td>704.50</td>\n",
       "      <td>0.004757</td>\n",
       "      <td>A</td>\n",
       "      <td>oui</td>\n",
       "    </tr>\n",
       "  </tbody>\n",
       "</table>\n",
       "</div>\n",
       "      <button class=\"colab-df-convert\" onclick=\"convertToInteractive('df-8231e77f-6e5a-4e17-bdff-fd84ef1020a2')\"\n",
       "              title=\"Convert this dataframe to an interactive table.\"\n",
       "              style=\"display:none;\">\n",
       "        \n",
       "  <svg xmlns=\"http://www.w3.org/2000/svg\" height=\"24px\"viewBox=\"0 0 24 24\"\n",
       "       width=\"24px\">\n",
       "    <path d=\"M0 0h24v24H0V0z\" fill=\"none\"/>\n",
       "    <path d=\"M18.56 5.44l.94 2.06.94-2.06 2.06-.94-2.06-.94-.94-2.06-.94 2.06-2.06.94zm-11 1L8.5 8.5l.94-2.06 2.06-.94-2.06-.94L8.5 2.5l-.94 2.06-2.06.94zm10 10l.94 2.06.94-2.06 2.06-.94-2.06-.94-.94-2.06-.94 2.06-2.06.94z\"/><path d=\"M17.41 7.96l-1.37-1.37c-.4-.4-.92-.59-1.43-.59-.52 0-1.04.2-1.43.59L10.3 9.45l-7.72 7.72c-.78.78-.78 2.05 0 2.83L4 21.41c.39.39.9.59 1.41.59.51 0 1.02-.2 1.41-.59l7.78-7.78 2.81-2.81c.8-.78.8-2.07 0-2.86zM5.41 20L4 18.59l7.72-7.72 1.47 1.35L5.41 20z\"/>\n",
       "  </svg>\n",
       "      </button>\n",
       "      \n",
       "  <style>\n",
       "    .colab-df-container {\n",
       "      display:flex;\n",
       "      flex-wrap:wrap;\n",
       "      gap: 12px;\n",
       "    }\n",
       "\n",
       "    .colab-df-convert {\n",
       "      background-color: #E8F0FE;\n",
       "      border: none;\n",
       "      border-radius: 50%;\n",
       "      cursor: pointer;\n",
       "      display: none;\n",
       "      fill: #1967D2;\n",
       "      height: 32px;\n",
       "      padding: 0 0 0 0;\n",
       "      width: 32px;\n",
       "    }\n",
       "\n",
       "    .colab-df-convert:hover {\n",
       "      background-color: #E2EBFA;\n",
       "      box-shadow: 0px 1px 2px rgba(60, 64, 67, 0.3), 0px 1px 3px 1px rgba(60, 64, 67, 0.15);\n",
       "      fill: #174EA6;\n",
       "    }\n",
       "\n",
       "    [theme=dark] .colab-df-convert {\n",
       "      background-color: #3B4455;\n",
       "      fill: #D2E3FC;\n",
       "    }\n",
       "\n",
       "    [theme=dark] .colab-df-convert:hover {\n",
       "      background-color: #434B5C;\n",
       "      box-shadow: 0px 1px 3px 1px rgba(0, 0, 0, 0.15);\n",
       "      filter: drop-shadow(0px 1px 2px rgba(0, 0, 0, 0.3));\n",
       "      fill: #FFFFFF;\n",
       "    }\n",
       "  </style>\n",
       "\n",
       "      <script>\n",
       "        const buttonEl =\n",
       "          document.querySelector('#df-8231e77f-6e5a-4e17-bdff-fd84ef1020a2 button.colab-df-convert');\n",
       "        buttonEl.style.display =\n",
       "          google.colab.kernel.accessAllowed ? 'block' : 'none';\n",
       "\n",
       "        async function convertToInteractive(key) {\n",
       "          const element = document.querySelector('#df-8231e77f-6e5a-4e17-bdff-fd84ef1020a2');\n",
       "          const dataTable =\n",
       "            await google.colab.kernel.invokeFunction('convertToInteractive',\n",
       "                                                     [key], {});\n",
       "          if (!dataTable) return;\n",
       "\n",
       "          const docLinkHtml = 'Like what you see? Visit the ' +\n",
       "            '<a target=\"_blank\" href=https://colab.research.google.com/notebooks/data_table.ipynb>data table notebook</a>'\n",
       "            + ' to learn more about interactive tables.';\n",
       "          element.innerHTML = '';\n",
       "          dataTable['output_type'] = 'display_data';\n",
       "          await google.colab.output.renderOutput(dataTable, element);\n",
       "          const docLink = document.createElement('div');\n",
       "          docLink.innerHTML = docLinkHtml;\n",
       "          element.appendChild(docLink);\n",
       "        }\n",
       "      </script>\n",
       "    </div>\n",
       "  </div>\n",
       "  "
      ],
      "text/plain": [
       "               date  Temperature  Humidity  Light     CO2  HumidityRatio  \\\n",
       "0  04/02/2015 17:51        23.18   27.2720  426.0  721.25       0.004793   \n",
       "1  04/02/2015 17:51        23.15   27.2675  429.5  714.00       0.004783   \n",
       "2  04/02/2015 17:53        23.15   27.2450  426.0  713.50       0.004779   \n",
       "3  04/02/2015 17:54        23.15   27.2000  426.0  708.25       0.004772   \n",
       "4  04/02/2015 17:55        23.10   27.2000  426.0  704.50       0.004757   \n",
       "\n",
       "  Classe_energetique Security  \n",
       "0                  A      oui  \n",
       "1                  A      oui  \n",
       "2                  A      oui  \n",
       "3                  A      oui  \n",
       "4                  A      oui  "
      ]
     },
     "execution_count": 98,
     "metadata": {},
     "output_type": "execute_result"
    }
   ],
   "source": [
    "raw_data_conv = raw_data_conv.dropna(axis=1, how='all')\n",
    "raw_data_conv.head()"
   ]
  },
  {
   "cell_type": "code",
   "execution_count": null,
   "metadata": {
    "colab": {
     "base_uri": "https://localhost:8080/"
    },
    "id": "uEP7SirSFrpO",
    "outputId": "c57aff3a-ae06-44de-818c-9e85601d8fe6"
   },
   "outputs": [
    {
     "name": "stdout",
     "output_type": "stream",
     "text": [
      "<class 'pandas.core.frame.DataFrame'>\n",
      "RangeIndex: 17895 entries, 0 to 17894\n",
      "Data columns (total 8 columns):\n",
      " #   Column              Non-Null Count  Dtype         \n",
      "---  ------              --------------  -----         \n",
      " 0   date                17895 non-null  datetime64[ns]\n",
      " 1   Temperature         17871 non-null  float64       \n",
      " 2   Humidity            17895 non-null  float64       \n",
      " 3   Light               17764 non-null  float64       \n",
      " 4   CO2                 17830 non-null  float64       \n",
      " 5   HumidityRatio       17872 non-null  float64       \n",
      " 6   Classe_energetique  17895 non-null  string        \n",
      " 7   Security            17895 non-null  string        \n",
      "dtypes: datetime64[ns](1), float64(5), string(2)\n",
      "memory usage: 1.1 MB\n"
     ]
    }
   ],
   "source": [
    "from datetime import datetime\n",
    "raw_data_conv['date'] = pd.to_datetime(raw_data_conv['date'])\n",
    "raw_data_conv.info()"
   ]
  },
  {
   "cell_type": "code",
   "execution_count": null,
   "metadata": {
    "colab": {
     "base_uri": "https://localhost:8080/"
    },
    "id": "9MLeXNKa8e27",
    "outputId": "6af2bfdb-8a4d-4a27-c1ae-382b80c73313"
   },
   "outputs": [
    {
     "name": "stdout",
     "output_type": "stream",
     "text": [
      "non    12684\n",
      "oui     5160\n",
      "nan       51\n",
      "Name: Security, dtype: Int64\n"
     ]
    },
    {
     "data": {
      "text/plain": [
       "non    12735\n",
       "oui     5160\n",
       "Name: Security, dtype: Int64"
      ]
     },
     "execution_count": 100,
     "metadata": {},
     "output_type": "execute_result"
    }
   ],
   "source": [
    "print(raw_data_conv['Security'].value_counts())\n",
    "raw_data_conv['Security'] = raw_data_conv['Security'].replace(\"nan\", \"non\")\n",
    "raw_data_conv[\"Security\"].value_counts()"
   ]
  },
  {
   "cell_type": "code",
   "execution_count": null,
   "metadata": {
    "colab": {
     "base_uri": "https://localhost:8080/"
    },
    "id": "Dr-Q8jI-IzTW",
    "outputId": "fe745a3a-778f-469e-f780-4502f3bdda94"
   },
   "outputs": [
    {
     "name": "stdout",
     "output_type": "stream",
     "text": [
      "C      7974\n",
      "D      4710\n",
      "B      3311\n",
      "A      1871\n",
      "nan      29\n",
      "Name: Classe_energetique, dtype: Int64\n"
     ]
    }
   ],
   "source": [
    "print(raw_data_conv['Classe_energetique'].value_counts())\n"
   ]
  },
  {
   "cell_type": "code",
   "execution_count": null,
   "metadata": {
    "colab": {
     "base_uri": "https://localhost:8080/"
    },
    "id": "0C2SBjwOCQm3",
    "outputId": "43b88134-a5ac-4ed2-ac24-96f1dc51503b"
   },
   "outputs": [
    {
     "name": "stdout",
     "output_type": "stream",
     "text": [
      "Index(['Temperature', 'Humidity', 'Light', 'CO2', 'HumidityRatio'], dtype='object')\n"
     ]
    }
   ],
   "source": [
    "#raw_data_conv['Security'].value_counts()\n",
    "# récupérer les colonnes à convertir\n",
    "floatcols = raw_data_conv.select_dtypes(include='float64').columns\n",
    "print(floatcols)"
   ]
  },
  {
   "cell_type": "code",
   "execution_count": null,
   "metadata": {
    "id": "5jqkmoN6EI-B"
   },
   "outputs": [],
   "source": [
    "data_median =  raw_data_conv[floatcols].fillna(raw_data_conv[floatcols].median())\n",
    "data_moyenne = raw_data_conv[floatcols].fillna(raw_data_conv[floatcols].mean())\n",
    "data_mode = raw_data_conv[floatcols].fillna(raw_data_conv[floatcols].mode())"
   ]
  },
  {
   "cell_type": "code",
   "execution_count": null,
   "metadata": {
    "colab": {
     "base_uri": "https://localhost:8080/"
    },
    "id": "L-3l-qctEMRo",
    "outputId": "e6f4f49f-0cfc-4977-d9f2-92cdc6cede69"
   },
   "outputs": [
    {
     "name": "stdout",
     "output_type": "stream",
     "text": [
      " /nles stats descriptives après imputation par la médiane :         Temperature      Humidity         Light           CO2  HumidityRatio\n",
      "count  17895.000000  17895.000000  17895.000000  17895.000000   17895.000000\n",
      "mean      20.826040     27.998747    121.453183    686.791801       0.004258\n",
      "std        1.035847      5.169896    202.207255    313.505558       0.000784\n",
      "min       19.000000     16.745000      0.000000    412.750000       0.002674\n",
      "25%       20.100000     24.890000      0.000000    458.750000       0.003767\n",
      "50%       20.600000     27.793333      0.000000    565.000000       0.004343\n",
      "75%       21.500000     31.856667    217.916667    792.000000       0.004860\n",
      "max       24.390000     39.500000   1581.000000   2076.500000       0.006476\n",
      " /nles stats descriptives après imputation par la moyenne :         Temperature      Humidity         Light           CO2  HumidityRatio\n",
      "count  17895.000000  17895.000000  17895.000000  17895.000000   17895.000000\n",
      "mean      20.826343     27.998747    122.348836    687.235798       0.004258\n",
      "std        1.035814      5.169896    201.938080    313.419299       0.000784\n",
      "min       19.000000     16.745000      0.000000    412.750000       0.002674\n",
      "25%       20.100000     24.890000      0.000000    458.750000       0.003767\n",
      "50%       20.625000     27.793333      0.000000    565.500000       0.004342\n",
      "75%       21.500000     31.856667    217.916667    792.000000       0.004860\n",
      "max       24.390000     39.500000   1581.000000   2076.500000       0.006476\n",
      " /nles stats descriptives après imputation par le mode :         Temperature      Humidity         Light           CO2  HumidityRatio\n",
      "count  17871.000000  17895.000000  17764.000000  17830.000000   17872.000000\n",
      "mean      20.826343     27.998747    122.348836    687.235798       0.004258\n",
      "std        1.036510      5.169896    202.681347    313.990102       0.000785\n",
      "min       19.000000     16.745000      0.000000    412.750000       0.002674\n",
      "25%       20.100000     24.890000      0.000000    458.500000       0.003765\n",
      "50%       20.600000     27.793333      0.000000    565.000000       0.004343\n",
      "75%       21.500000     31.856667    227.250000    793.000000       0.004860\n",
      "max       24.390000     39.500000   1581.000000   2076.500000       0.006476\n",
      " /nles stats descriptives avant imputation:         Temperature      Humidity         Light           CO2  HumidityRatio\n",
      "count  17871.000000  17895.000000  17764.000000  17830.000000   17872.000000\n",
      "mean      20.826343     27.998747    122.348836    687.235798       0.004258\n",
      "std        1.036510      5.169896    202.681347    313.990102       0.000785\n",
      "min       19.000000     16.745000      0.000000    412.750000       0.002674\n",
      "25%       20.100000     24.890000      0.000000    458.500000       0.003765\n",
      "50%       20.600000     27.793333      0.000000    565.000000       0.004343\n",
      "75%       21.500000     31.856667    227.250000    793.000000       0.004860\n",
      "max       24.390000     39.500000   1581.000000   2076.500000       0.006476\n"
     ]
    }
   ],
   "source": [
    "print(\" les stats descriptives après imputation par la médiane :\", data_median.describe())\n",
    "print(\" les stats descriptives après imputation par la moyenne :\", data_moyenne.describe())\n",
    "print(\" les stats descriptives après imputation par le mode :\", data_mode.describe())\n",
    "print(\" les stats descriptives avant imputation:\", raw_data_conv.describe())"
   ]
  },
  {
   "cell_type": "code",
   "execution_count": null,
   "metadata": {
    "colab": {
     "base_uri": "https://localhost:8080/"
    },
    "id": "wyxg_kLg6i4w",
    "outputId": "0f0e4042-93ea-4467-b05e-28267dff600f"
   },
   "outputs": [
    {
     "data": {
      "text/plain": [
       "Light                 0.007320\n",
       "CO2                   0.003632\n",
       "Temperature           0.001341\n",
       "HumidityRatio         0.001285\n",
       "date                  0.000000\n",
       "Humidity              0.000000\n",
       "Classe_energetique    0.000000\n",
       "Security              0.000000\n",
       "dtype: float64"
      ]
     },
     "execution_count": 109,
     "metadata": {},
     "output_type": "execute_result"
    }
   ],
   "source": [
    "raw_data_conv.isnull().mean().sort_values(ascending=False)"
   ]
  },
  {
   "cell_type": "code",
   "execution_count": null,
   "metadata": {
    "colab": {
     "base_uri": "https://localhost:8080/"
    },
    "id": "65lizobk6n0d",
    "outputId": "884a0a3a-af50-41af-f2ce-d702c9cac83b"
   },
   "outputs": [
    {
     "name": "stdout",
     "output_type": "stream",
     "text": [
      "(17895, 8)\n",
      "(17895, 4)\n"
     ]
    }
   ],
   "source": [
    "print(raw_data_conv.shape)\n",
    "# 1 pour supprimer les colonnes contenant des valeurs manquantes\n",
    "data_supp_col = raw_data_conv.dropna(axis=1)\n",
    "\n",
    "print(data_supp_col.shape)"
   ]
  },
  {
   "cell_type": "code",
   "execution_count": null,
   "metadata": {
    "colab": {
     "base_uri": "https://localhost:8080/",
     "height": 206
    },
    "id": "fl6X6_Ru63HW",
    "outputId": "9863aa04-e940-4168-9c4e-82635a868416"
   },
   "outputs": [
    {
     "data": {
      "text/html": [
       "\n",
       "  <div id=\"df-433e5c54-d18c-4511-965e-89bec6896811\">\n",
       "    <div class=\"colab-df-container\">\n",
       "      <div>\n",
       "<style scoped>\n",
       "    .dataframe tbody tr th:only-of-type {\n",
       "        vertical-align: middle;\n",
       "    }\n",
       "\n",
       "    .dataframe tbody tr th {\n",
       "        vertical-align: top;\n",
       "    }\n",
       "\n",
       "    .dataframe thead th {\n",
       "        text-align: right;\n",
       "    }\n",
       "</style>\n",
       "<table border=\"1\" class=\"dataframe\">\n",
       "  <thead>\n",
       "    <tr style=\"text-align: right;\">\n",
       "      <th></th>\n",
       "      <th>date</th>\n",
       "      <th>Humidity</th>\n",
       "      <th>Classe_energetique</th>\n",
       "      <th>Security</th>\n",
       "    </tr>\n",
       "  </thead>\n",
       "  <tbody>\n",
       "    <tr>\n",
       "      <th>0</th>\n",
       "      <td>2015-04-02 17:51:00</td>\n",
       "      <td>27.2720</td>\n",
       "      <td>A</td>\n",
       "      <td>oui</td>\n",
       "    </tr>\n",
       "    <tr>\n",
       "      <th>1</th>\n",
       "      <td>2015-04-02 17:51:00</td>\n",
       "      <td>27.2675</td>\n",
       "      <td>A</td>\n",
       "      <td>oui</td>\n",
       "    </tr>\n",
       "    <tr>\n",
       "      <th>2</th>\n",
       "      <td>2015-04-02 17:53:00</td>\n",
       "      <td>27.2450</td>\n",
       "      <td>A</td>\n",
       "      <td>oui</td>\n",
       "    </tr>\n",
       "    <tr>\n",
       "      <th>3</th>\n",
       "      <td>2015-04-02 17:54:00</td>\n",
       "      <td>27.2000</td>\n",
       "      <td>A</td>\n",
       "      <td>oui</td>\n",
       "    </tr>\n",
       "    <tr>\n",
       "      <th>4</th>\n",
       "      <td>2015-04-02 17:55:00</td>\n",
       "      <td>27.2000</td>\n",
       "      <td>A</td>\n",
       "      <td>oui</td>\n",
       "    </tr>\n",
       "  </tbody>\n",
       "</table>\n",
       "</div>\n",
       "      <button class=\"colab-df-convert\" onclick=\"convertToInteractive('df-433e5c54-d18c-4511-965e-89bec6896811')\"\n",
       "              title=\"Convert this dataframe to an interactive table.\"\n",
       "              style=\"display:none;\">\n",
       "        \n",
       "  <svg xmlns=\"http://www.w3.org/2000/svg\" height=\"24px\"viewBox=\"0 0 24 24\"\n",
       "       width=\"24px\">\n",
       "    <path d=\"M0 0h24v24H0V0z\" fill=\"none\"/>\n",
       "    <path d=\"M18.56 5.44l.94 2.06.94-2.06 2.06-.94-2.06-.94-.94-2.06-.94 2.06-2.06.94zm-11 1L8.5 8.5l.94-2.06 2.06-.94-2.06-.94L8.5 2.5l-.94 2.06-2.06.94zm10 10l.94 2.06.94-2.06 2.06-.94-2.06-.94-.94-2.06-.94 2.06-2.06.94z\"/><path d=\"M17.41 7.96l-1.37-1.37c-.4-.4-.92-.59-1.43-.59-.52 0-1.04.2-1.43.59L10.3 9.45l-7.72 7.72c-.78.78-.78 2.05 0 2.83L4 21.41c.39.39.9.59 1.41.59.51 0 1.02-.2 1.41-.59l7.78-7.78 2.81-2.81c.8-.78.8-2.07 0-2.86zM5.41 20L4 18.59l7.72-7.72 1.47 1.35L5.41 20z\"/>\n",
       "  </svg>\n",
       "      </button>\n",
       "      \n",
       "  <style>\n",
       "    .colab-df-container {\n",
       "      display:flex;\n",
       "      flex-wrap:wrap;\n",
       "      gap: 12px;\n",
       "    }\n",
       "\n",
       "    .colab-df-convert {\n",
       "      background-color: #E8F0FE;\n",
       "      border: none;\n",
       "      border-radius: 50%;\n",
       "      cursor: pointer;\n",
       "      display: none;\n",
       "      fill: #1967D2;\n",
       "      height: 32px;\n",
       "      padding: 0 0 0 0;\n",
       "      width: 32px;\n",
       "    }\n",
       "\n",
       "    .colab-df-convert:hover {\n",
       "      background-color: #E2EBFA;\n",
       "      box-shadow: 0px 1px 2px rgba(60, 64, 67, 0.3), 0px 1px 3px 1px rgba(60, 64, 67, 0.15);\n",
       "      fill: #174EA6;\n",
       "    }\n",
       "\n",
       "    [theme=dark] .colab-df-convert {\n",
       "      background-color: #3B4455;\n",
       "      fill: #D2E3FC;\n",
       "    }\n",
       "\n",
       "    [theme=dark] .colab-df-convert:hover {\n",
       "      background-color: #434B5C;\n",
       "      box-shadow: 0px 1px 3px 1px rgba(0, 0, 0, 0.15);\n",
       "      filter: drop-shadow(0px 1px 2px rgba(0, 0, 0, 0.3));\n",
       "      fill: #FFFFFF;\n",
       "    }\n",
       "  </style>\n",
       "\n",
       "      <script>\n",
       "        const buttonEl =\n",
       "          document.querySelector('#df-433e5c54-d18c-4511-965e-89bec6896811 button.colab-df-convert');\n",
       "        buttonEl.style.display =\n",
       "          google.colab.kernel.accessAllowed ? 'block' : 'none';\n",
       "\n",
       "        async function convertToInteractive(key) {\n",
       "          const element = document.querySelector('#df-433e5c54-d18c-4511-965e-89bec6896811');\n",
       "          const dataTable =\n",
       "            await google.colab.kernel.invokeFunction('convertToInteractive',\n",
       "                                                     [key], {});\n",
       "          if (!dataTable) return;\n",
       "\n",
       "          const docLinkHtml = 'Like what you see? Visit the ' +\n",
       "            '<a target=\"_blank\" href=https://colab.research.google.com/notebooks/data_table.ipynb>data table notebook</a>'\n",
       "            + ' to learn more about interactive tables.';\n",
       "          element.innerHTML = '';\n",
       "          dataTable['output_type'] = 'display_data';\n",
       "          await google.colab.output.renderOutput(dataTable, element);\n",
       "          const docLink = document.createElement('div');\n",
       "          docLink.innerHTML = docLinkHtml;\n",
       "          element.appendChild(docLink);\n",
       "        }\n",
       "      </script>\n",
       "    </div>\n",
       "  </div>\n",
       "  "
      ],
      "text/plain": [
       "                 date  Humidity Classe_energetique Security\n",
       "0 2015-04-02 17:51:00   27.2720                  A      oui\n",
       "1 2015-04-02 17:51:00   27.2675                  A      oui\n",
       "2 2015-04-02 17:53:00   27.2450                  A      oui\n",
       "3 2015-04-02 17:54:00   27.2000                  A      oui\n",
       "4 2015-04-02 17:55:00   27.2000                  A      oui"
      ]
     },
     "execution_count": 106,
     "metadata": {},
     "output_type": "execute_result"
    }
   ],
   "source": [
    "data_supp_col.head()"
   ]
  },
  {
   "cell_type": "code",
   "execution_count": null,
   "metadata": {
    "id": "PfOuA18b7Ho2"
   },
   "outputs": [],
   "source": []
  }
 ],
 "metadata": {
  "colab": {
   "collapsed_sections": [],
   "name": "Tp blanc prep données.ipynb",
   "provenance": []
  },
  "kernelspec": {
   "display_name": "Python 3 (ipykernel)",
   "language": "python",
   "name": "python3"
  },
  "language_info": {
   "codemirror_mode": {
    "name": "ipython",
    "version": 3
   },
   "file_extension": ".py",
   "mimetype": "text/x-python",
   "name": "python",
   "nbconvert_exporter": "python",
   "pygments_lexer": "ipython3",
   "version": "3.9.7"
  }
 },
 "nbformat": 4,
 "nbformat_minor": 1
}