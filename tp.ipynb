{
 "cells": [
  {
   "cell_type": "markdown",
   "metadata": {},
   "source": [
    "# Problématique métier"
   ]
  },
  {
   "cell_type": "markdown",
   "metadata": {},
   "source": [
    "Le but est de prédire la condition opérationel du \"point d'eau\".\n",
    "\n",
    "Les status possibles sont les suivants : \n",
    "* functional\n",
    "* functional needs repair\n",
    "* non functional"
   ]
  },
  {
   "cell_type": "markdown",
   "metadata": {},
   "source": [
    "# Préparation des données"
   ]
  },
  {
   "cell_type": "code",
   "execution_count": 1,
   "metadata": {
    "id": "ipk8QZzX4fNy"
   },
   "outputs": [],
   "source": [
    "import numpy as np\n",
    "import matplotlib.pyplot as plt\n",
    "import seaborn as sns\n",
    "import pandas as pd\n",
    "#pd.set_option('max_columns', None)"
   ]
  },
  {
   "cell_type": "code",
   "execution_count": 2,
   "metadata": {
    "colab": {
     "base_uri": "https://localhost:8080/"
    },
    "id": "zNP2XYnw4oge",
    "outputId": "312fd33d-636d-4c81-ad73-dfc88869ae1f"
   },
   "outputs": [
    {
     "name": "stderr",
     "output_type": "stream",
     "text": [
      "D:\\ESGI\\5AL\\ML\\ML-TP\\venv\\lib\\site-packages\\IPython\\core\\interactiveshell.py:3369: FutureWarning: In a future version of pandas all arguments of read_csv except for the argument 'filepath_or_buffer' will be keyword-only.\n",
      "  exec(code_obj, self.user_global_ns, self.user_ns)\n"
     ]
    }
   ],
   "source": [
    "raw_data = pd.read_csv(\"input/features.csv\", \",\")"
   ]
  },
  {
   "cell_type": "code",
   "execution_count": 3,
   "metadata": {
    "colab": {
     "base_uri": "https://localhost:8080/",
     "height": 206
    },
    "id": "NtSLAL4446bT",
    "outputId": "631a1c55-8531-44b0-b6c1-0edbb4fe1490"
   },
   "outputs": [
    {
     "data": {
      "text/html": [
       "<div>\n",
       "<style scoped>\n",
       "    .dataframe tbody tr th:only-of-type {\n",
       "        vertical-align: middle;\n",
       "    }\n",
       "\n",
       "    .dataframe tbody tr th {\n",
       "        vertical-align: top;\n",
       "    }\n",
       "\n",
       "    .dataframe thead th {\n",
       "        text-align: right;\n",
       "    }\n",
       "</style>\n",
       "<table border=\"1\" class=\"dataframe\">\n",
       "  <thead>\n",
       "    <tr style=\"text-align: right;\">\n",
       "      <th></th>\n",
       "      <th>id</th>\n",
       "      <th>amount_tsh</th>\n",
       "      <th>date_recorded</th>\n",
       "      <th>funder</th>\n",
       "      <th>gps_height</th>\n",
       "      <th>installer</th>\n",
       "      <th>longitude</th>\n",
       "      <th>latitude</th>\n",
       "      <th>wpt_name</th>\n",
       "      <th>num_private</th>\n",
       "      <th>...</th>\n",
       "      <th>payment_type</th>\n",
       "      <th>water_quality</th>\n",
       "      <th>quality_group</th>\n",
       "      <th>quantity</th>\n",
       "      <th>quantity_group</th>\n",
       "      <th>source</th>\n",
       "      <th>source_type</th>\n",
       "      <th>source_class</th>\n",
       "      <th>waterpoint_type</th>\n",
       "      <th>waterpoint_type_group</th>\n",
       "    </tr>\n",
       "  </thead>\n",
       "  <tbody>\n",
       "    <tr>\n",
       "      <th>0</th>\n",
       "      <td>69572</td>\n",
       "      <td>6000.0</td>\n",
       "      <td>2011-03-14</td>\n",
       "      <td>Roman</td>\n",
       "      <td>1390</td>\n",
       "      <td>Roman</td>\n",
       "      <td>34.938093</td>\n",
       "      <td>-9.856322</td>\n",
       "      <td>none</td>\n",
       "      <td>0</td>\n",
       "      <td>...</td>\n",
       "      <td>annually</td>\n",
       "      <td>soft</td>\n",
       "      <td>good</td>\n",
       "      <td>enough</td>\n",
       "      <td>enough</td>\n",
       "      <td>spring</td>\n",
       "      <td>spring</td>\n",
       "      <td>groundwater</td>\n",
       "      <td>communal standpipe</td>\n",
       "      <td>communal standpipe</td>\n",
       "    </tr>\n",
       "    <tr>\n",
       "      <th>1</th>\n",
       "      <td>8776</td>\n",
       "      <td>0.0</td>\n",
       "      <td>2013-03-06</td>\n",
       "      <td>Grumeti</td>\n",
       "      <td>1399</td>\n",
       "      <td>GRUMETI</td>\n",
       "      <td>34.698766</td>\n",
       "      <td>-2.147466</td>\n",
       "      <td>Zahanati</td>\n",
       "      <td>0</td>\n",
       "      <td>...</td>\n",
       "      <td>never pay</td>\n",
       "      <td>soft</td>\n",
       "      <td>good</td>\n",
       "      <td>insufficient</td>\n",
       "      <td>insufficient</td>\n",
       "      <td>rainwater harvesting</td>\n",
       "      <td>rainwater harvesting</td>\n",
       "      <td>surface</td>\n",
       "      <td>communal standpipe</td>\n",
       "      <td>communal standpipe</td>\n",
       "    </tr>\n",
       "    <tr>\n",
       "      <th>2</th>\n",
       "      <td>34310</td>\n",
       "      <td>25.0</td>\n",
       "      <td>2013-02-25</td>\n",
       "      <td>Lottery Club</td>\n",
       "      <td>686</td>\n",
       "      <td>World vision</td>\n",
       "      <td>37.460664</td>\n",
       "      <td>-3.821329</td>\n",
       "      <td>Kwa Mahundi</td>\n",
       "      <td>0</td>\n",
       "      <td>...</td>\n",
       "      <td>per bucket</td>\n",
       "      <td>soft</td>\n",
       "      <td>good</td>\n",
       "      <td>enough</td>\n",
       "      <td>enough</td>\n",
       "      <td>dam</td>\n",
       "      <td>dam</td>\n",
       "      <td>surface</td>\n",
       "      <td>communal standpipe multiple</td>\n",
       "      <td>communal standpipe</td>\n",
       "    </tr>\n",
       "    <tr>\n",
       "      <th>3</th>\n",
       "      <td>67743</td>\n",
       "      <td>0.0</td>\n",
       "      <td>2013-01-28</td>\n",
       "      <td>Unicef</td>\n",
       "      <td>263</td>\n",
       "      <td>UNICEF</td>\n",
       "      <td>38.486161</td>\n",
       "      <td>-11.155298</td>\n",
       "      <td>Zahanati Ya Nanyumbu</td>\n",
       "      <td>0</td>\n",
       "      <td>...</td>\n",
       "      <td>never pay</td>\n",
       "      <td>soft</td>\n",
       "      <td>good</td>\n",
       "      <td>dry</td>\n",
       "      <td>dry</td>\n",
       "      <td>machine dbh</td>\n",
       "      <td>borehole</td>\n",
       "      <td>groundwater</td>\n",
       "      <td>communal standpipe multiple</td>\n",
       "      <td>communal standpipe</td>\n",
       "    </tr>\n",
       "    <tr>\n",
       "      <th>4</th>\n",
       "      <td>19728</td>\n",
       "      <td>0.0</td>\n",
       "      <td>2011-07-13</td>\n",
       "      <td>Action In A</td>\n",
       "      <td>0</td>\n",
       "      <td>Artisan</td>\n",
       "      <td>31.130847</td>\n",
       "      <td>-1.825359</td>\n",
       "      <td>Shuleni</td>\n",
       "      <td>0</td>\n",
       "      <td>...</td>\n",
       "      <td>never pay</td>\n",
       "      <td>soft</td>\n",
       "      <td>good</td>\n",
       "      <td>seasonal</td>\n",
       "      <td>seasonal</td>\n",
       "      <td>rainwater harvesting</td>\n",
       "      <td>rainwater harvesting</td>\n",
       "      <td>surface</td>\n",
       "      <td>communal standpipe</td>\n",
       "      <td>communal standpipe</td>\n",
       "    </tr>\n",
       "  </tbody>\n",
       "</table>\n",
       "<p>5 rows × 40 columns</p>\n",
       "</div>"
      ],
      "text/plain": [
       "      id  amount_tsh date_recorded        funder  gps_height     installer  \\\n",
       "0  69572      6000.0    2011-03-14         Roman        1390         Roman   \n",
       "1   8776         0.0    2013-03-06       Grumeti        1399       GRUMETI   \n",
       "2  34310        25.0    2013-02-25  Lottery Club         686  World vision   \n",
       "3  67743         0.0    2013-01-28        Unicef         263        UNICEF   \n",
       "4  19728         0.0    2011-07-13   Action In A           0       Artisan   \n",
       "\n",
       "   longitude   latitude              wpt_name  num_private  ... payment_type  \\\n",
       "0  34.938093  -9.856322                  none            0  ...     annually   \n",
       "1  34.698766  -2.147466              Zahanati            0  ...    never pay   \n",
       "2  37.460664  -3.821329           Kwa Mahundi            0  ...   per bucket   \n",
       "3  38.486161 -11.155298  Zahanati Ya Nanyumbu            0  ...    never pay   \n",
       "4  31.130847  -1.825359               Shuleni            0  ...    never pay   \n",
       "\n",
       "  water_quality quality_group      quantity  quantity_group  \\\n",
       "0          soft          good        enough          enough   \n",
       "1          soft          good  insufficient    insufficient   \n",
       "2          soft          good        enough          enough   \n",
       "3          soft          good           dry             dry   \n",
       "4          soft          good      seasonal        seasonal   \n",
       "\n",
       "                 source           source_type  source_class  \\\n",
       "0                spring                spring   groundwater   \n",
       "1  rainwater harvesting  rainwater harvesting       surface   \n",
       "2                   dam                   dam       surface   \n",
       "3           machine dbh              borehole   groundwater   \n",
       "4  rainwater harvesting  rainwater harvesting       surface   \n",
       "\n",
       "               waterpoint_type waterpoint_type_group  \n",
       "0           communal standpipe    communal standpipe  \n",
       "1           communal standpipe    communal standpipe  \n",
       "2  communal standpipe multiple    communal standpipe  \n",
       "3  communal standpipe multiple    communal standpipe  \n",
       "4           communal standpipe    communal standpipe  \n",
       "\n",
       "[5 rows x 40 columns]"
      ]
     },
     "execution_count": 3,
     "metadata": {},
     "output_type": "execute_result"
    }
   ],
   "source": [
    "# Regarder dans la base\n",
    "raw_data.head() # afficher les 5 premières lignes"
   ]
  },
  {
   "cell_type": "code",
   "execution_count": 4,
   "metadata": {
    "colab": {
     "base_uri": "https://localhost:8080/"
    },
    "id": "sgeQAhOX47Pq",
    "outputId": "99c985b2-124a-4c62-aa06-e9578d8040ea"
   },
   "outputs": [
    {
     "data": {
      "text/plain": [
       "59400"
      ]
     },
     "execution_count": 4,
     "metadata": {},
     "output_type": "execute_result"
    }
   ],
   "source": [
    "# Vérification si chaque lignes à bien un id\n",
    "len(raw_data[\"id\"].unique())"
   ]
  },
  {
   "cell_type": "code",
   "execution_count": 5,
   "metadata": {
    "colab": {
     "base_uri": "https://localhost:8080/"
    },
    "id": "qSS01mSF5E0P",
    "outputId": "36a6a8c3-af5d-40ad-ce71-c9fc72b3545b"
   },
   "outputs": [
    {
     "name": "stdout",
     "output_type": "stream",
     "text": [
      "(59400, 40)\n",
      "<class 'pandas.core.frame.DataFrame'>\n",
      "RangeIndex: 59400 entries, 0 to 59399\n",
      "Data columns (total 40 columns):\n",
      " #   Column                 Non-Null Count  Dtype  \n",
      "---  ------                 --------------  -----  \n",
      " 0   id                     59400 non-null  int64  \n",
      " 1   amount_tsh             59400 non-null  float64\n",
      " 2   date_recorded          59400 non-null  object \n",
      " 3   funder                 55765 non-null  object \n",
      " 4   gps_height             59400 non-null  int64  \n",
      " 5   installer              55745 non-null  object \n",
      " 6   longitude              59400 non-null  float64\n",
      " 7   latitude               59400 non-null  float64\n",
      " 8   wpt_name               59400 non-null  object \n",
      " 9   num_private            59400 non-null  int64  \n",
      " 10  basin                  59400 non-null  object \n",
      " 11  subvillage             59029 non-null  object \n",
      " 12  region                 59400 non-null  object \n",
      " 13  region_code            59400 non-null  int64  \n",
      " 14  district_code          59400 non-null  int64  \n",
      " 15  lga                    59400 non-null  object \n",
      " 16  ward                   59400 non-null  object \n",
      " 17  population             59400 non-null  int64  \n",
      " 18  public_meeting         56066 non-null  object \n",
      " 19  recorded_by            59400 non-null  object \n",
      " 20  scheme_management      55523 non-null  object \n",
      " 21  scheme_name            31234 non-null  object \n",
      " 22  permit                 56344 non-null  object \n",
      " 23  construction_year      59400 non-null  int64  \n",
      " 24  extraction_type        59400 non-null  object \n",
      " 25  extraction_type_group  59400 non-null  object \n",
      " 26  extraction_type_class  59400 non-null  object \n",
      " 27  management             59400 non-null  object \n",
      " 28  management_group       59400 non-null  object \n",
      " 29  payment                59400 non-null  object \n",
      " 30  payment_type           59400 non-null  object \n",
      " 31  water_quality          59400 non-null  object \n",
      " 32  quality_group          59400 non-null  object \n",
      " 33  quantity               59400 non-null  object \n",
      " 34  quantity_group         59400 non-null  object \n",
      " 35  source                 59400 non-null  object \n",
      " 36  source_type            59400 non-null  object \n",
      " 37  source_class           59400 non-null  object \n",
      " 38  waterpoint_type        59400 non-null  object \n",
      " 39  waterpoint_type_group  59400 non-null  object \n",
      "dtypes: float64(3), int64(7), object(30)\n",
      "memory usage: 18.1+ MB\n"
     ]
    }
   ],
   "source": [
    "print(raw_data.shape)\n",
    "raw_data.info()"
   ]
  },
  {
   "cell_type": "markdown",
   "metadata": {},
   "source": [
    "## Recherche des valeurs manquantes"
   ]
  },
  {
   "cell_type": "code",
   "execution_count": 6,
   "metadata": {},
   "outputs": [
    {
     "name": "stdout",
     "output_type": "stream",
     "text": [
      "scheme_name              28166\n",
      "scheme_management         3877\n",
      "installer                 3655\n",
      "funder                    3635\n",
      "public_meeting            3334\n",
      "permit                    3056\n",
      "subvillage                 371\n",
      "management_group             0\n",
      "waterpoint_type              0\n",
      "extraction_type              0\n",
      "extraction_type_group        0\n",
      "source_class                 0\n",
      "extraction_type_class        0\n",
      "management                   0\n",
      "source_type                  0\n",
      "source                       0\n",
      "payment_type                 0\n",
      "water_quality                0\n",
      "construction_year            0\n",
      "quality_group                0\n",
      "quantity                     0\n",
      "quantity_group               0\n",
      "payment                      0\n",
      "id                           0\n",
      "amount_tsh                   0\n",
      "recorded_by                  0\n",
      "population                   0\n",
      "ward                         0\n",
      "lga                          0\n",
      "district_code                0\n",
      "region_code                  0\n",
      "region                       0\n",
      "basin                        0\n",
      "num_private                  0\n",
      "wpt_name                     0\n",
      "latitude                     0\n",
      "longitude                    0\n",
      "gps_height                   0\n",
      "date_recorded                0\n",
      "waterpoint_type_group        0\n",
      "dtype: int64\n"
     ]
    }
   ],
   "source": [
    "# nombre de valeurs manquantes\n",
    "print(raw_data.isnull().sum().sort_values(ascending=False))"
   ]
  },
  {
   "cell_type": "markdown",
   "metadata": {},
   "source": [
    "Après analyse, nous allons enlever le scheme_name"
   ]
  },
  {
   "cell_type": "code",
   "execution_count": 7,
   "metadata": {},
   "outputs": [
    {
     "name": "stdout",
     "output_type": "stream",
     "text": [
      "scheme_name              0.474175\n",
      "scheme_management        0.065269\n",
      "installer                0.061532\n",
      "funder                   0.061195\n",
      "public_meeting           0.056128\n",
      "permit                   0.051448\n",
      "subvillage               0.006246\n",
      "management_group         0.000000\n",
      "waterpoint_type          0.000000\n",
      "extraction_type          0.000000\n",
      "extraction_type_group    0.000000\n",
      "source_class             0.000000\n",
      "extraction_type_class    0.000000\n",
      "management               0.000000\n",
      "source_type              0.000000\n",
      "source                   0.000000\n",
      "payment_type             0.000000\n",
      "water_quality            0.000000\n",
      "construction_year        0.000000\n",
      "quality_group            0.000000\n",
      "quantity                 0.000000\n",
      "quantity_group           0.000000\n",
      "payment                  0.000000\n",
      "id                       0.000000\n",
      "amount_tsh               0.000000\n",
      "recorded_by              0.000000\n",
      "population               0.000000\n",
      "ward                     0.000000\n",
      "lga                      0.000000\n",
      "district_code            0.000000\n",
      "region_code              0.000000\n",
      "region                   0.000000\n",
      "basin                    0.000000\n",
      "num_private              0.000000\n",
      "wpt_name                 0.000000\n",
      "latitude                 0.000000\n",
      "longitude                0.000000\n",
      "gps_height               0.000000\n",
      "date_recorded            0.000000\n",
      "waterpoint_type_group    0.000000\n",
      "dtype: float64\n"
     ]
    }
   ],
   "source": [
    "# Proportion de valeurs manquantes\n",
    "print(raw_data.isnull().mean().sort_values(ascending=False))"
   ]
  },
  {
   "cell_type": "markdown",
   "metadata": {},
   "source": [
    "## Préparation des données"
   ]
  },
  {
   "cell_type": "code",
   "execution_count": 8,
   "metadata": {},
   "outputs": [],
   "source": [
    "string_list = [\"funder\", \"installer\", \"wpt_name\", \"basin\", \"subvillage\", \"region\", \"lga\", \"ward\", \"recorded_by\", \"scheme_management\", \"scheme_name\", \"extraction_type\", \"extraction_type_group\", \"extraction_type_class\", \"management\", \"management_group\", \"payment\", \"payment_type\", \"water_quality\", \"quality_group\", \"quantity\", \"quantity_group\", \"source\", \"source_type\", \"source_class\", \"waterpoint_type\", \"waterpoint_type_group\"]"
   ]
  },
  {
   "cell_type": "code",
   "execution_count": 9,
   "metadata": {
    "colab": {
     "base_uri": "https://localhost:8080/"
    },
    "id": "46xbpZTA5S6D",
    "outputId": "2d4f9e89-f2d6-41e6-b460-d2c03a6c7ec0"
   },
   "outputs": [
    {
     "name": "stdout",
     "output_type": "stream",
     "text": [
      "<class 'pandas.core.frame.DataFrame'>\n",
      "RangeIndex: 59400 entries, 0 to 59399\n",
      "Data columns (total 40 columns):\n",
      " #   Column                 Non-Null Count  Dtype  \n",
      "---  ------                 --------------  -----  \n",
      " 0   id                     59400 non-null  int64  \n",
      " 1   amount_tsh             59400 non-null  float64\n",
      " 2   date_recorded          59400 non-null  object \n",
      " 3   funder                 59400 non-null  string \n",
      " 4   gps_height             59400 non-null  int64  \n",
      " 5   installer              59400 non-null  string \n",
      " 6   longitude              59400 non-null  float64\n",
      " 7   latitude               59400 non-null  float64\n",
      " 8   wpt_name               59400 non-null  string \n",
      " 9   num_private            59400 non-null  int64  \n",
      " 10  basin                  59400 non-null  string \n",
      " 11  subvillage             59400 non-null  string \n",
      " 12  region                 59400 non-null  string \n",
      " 13  region_code            59400 non-null  int64  \n",
      " 14  district_code          59400 non-null  int64  \n",
      " 15  lga                    59400 non-null  string \n",
      " 16  ward                   59400 non-null  string \n",
      " 17  population             59400 non-null  int64  \n",
      " 18  public_meeting         56066 non-null  object \n",
      " 19  recorded_by            59400 non-null  string \n",
      " 20  scheme_management      59400 non-null  string \n",
      " 21  scheme_name            59400 non-null  string \n",
      " 22  permit                 56344 non-null  object \n",
      " 23  construction_year      59400 non-null  int64  \n",
      " 24  extraction_type        59400 non-null  string \n",
      " 25  extraction_type_group  59400 non-null  string \n",
      " 26  extraction_type_class  59400 non-null  string \n",
      " 27  management             59400 non-null  string \n",
      " 28  management_group       59400 non-null  string \n",
      " 29  payment                59400 non-null  string \n",
      " 30  payment_type           59400 non-null  string \n",
      " 31  water_quality          59400 non-null  string \n",
      " 32  quality_group          59400 non-null  string \n",
      " 33  quantity               59400 non-null  string \n",
      " 34  quantity_group         59400 non-null  string \n",
      " 35  source                 59400 non-null  string \n",
      " 36  source_type            59400 non-null  string \n",
      " 37  source_class           59400 non-null  string \n",
      " 38  waterpoint_type        59400 non-null  string \n",
      " 39  waterpoint_type_group  59400 non-null  string \n",
      "dtypes: float64(3), int64(7), object(3), string(27)\n",
      "memory usage: 18.1+ MB\n"
     ]
    }
   ],
   "source": [
    "raw_data_conv = raw_data.copy()\n",
    "#a mettre avant\n",
    "raw_data_conv[string_list] = raw_data_conv[string_list].astype(str)\n",
    "raw_data_conv[string_list] = raw_data_conv[string_list].astype(\"string\")\n",
    "raw_data_conv[string_list] = raw_data_conv[string_list].replace({pd.NA: np.nan})\n",
    "raw_data_conv.info()"
   ]
  },
  {
   "cell_type": "markdown",
   "metadata": {},
   "source": [
    "Convervion des dates"
   ]
  },
  {
   "cell_type": "code",
   "execution_count": 10,
   "metadata": {},
   "outputs": [],
   "source": [
    "raw_data_conv['date_recorded'] =  pd.to_datetime(raw_data_conv['date_recorded'], format='%Y-%m-%d')"
   ]
  },
  {
   "cell_type": "code",
   "execution_count": 11,
   "metadata": {
    "colab": {
     "base_uri": "https://localhost:8080/"
    },
    "id": "NDEo448a6Cj8",
    "outputId": "ecff2937-f440-4ab3-b29c-f0b9a5c66e98"
   },
   "outputs": [
    {
     "name": "stdout",
     "output_type": "stream",
     "text": [
      "<class 'pandas.core.frame.DataFrame'>\n",
      "RangeIndex: 59400 entries, 0 to 59399\n",
      "Data columns (total 40 columns):\n",
      " #   Column                 Non-Null Count  Dtype         \n",
      "---  ------                 --------------  -----         \n",
      " 0   id                     59400 non-null  int64         \n",
      " 1   amount_tsh             59400 non-null  float64       \n",
      " 2   date_recorded          59400 non-null  datetime64[ns]\n",
      " 3   funder                 59400 non-null  string        \n",
      " 4   gps_height             59400 non-null  int64         \n",
      " 5   installer              59400 non-null  string        \n",
      " 6   longitude              59400 non-null  float64       \n",
      " 7   latitude               59400 non-null  float64       \n",
      " 8   wpt_name               59400 non-null  string        \n",
      " 9   num_private            59400 non-null  int64         \n",
      " 10  basin                  59400 non-null  string        \n",
      " 11  subvillage             59400 non-null  string        \n",
      " 12  region                 59400 non-null  string        \n",
      " 13  region_code            59400 non-null  int64         \n",
      " 14  district_code          59400 non-null  int64         \n",
      " 15  lga                    59400 non-null  string        \n",
      " 16  ward                   59400 non-null  string        \n",
      " 17  population             59400 non-null  int64         \n",
      " 18  public_meeting         56066 non-null  object        \n",
      " 19  recorded_by            59400 non-null  string        \n",
      " 20  scheme_management      59400 non-null  string        \n",
      " 21  scheme_name            59400 non-null  string        \n",
      " 22  permit                 56344 non-null  object        \n",
      " 23  construction_year      59400 non-null  int64         \n",
      " 24  extraction_type        59400 non-null  string        \n",
      " 25  extraction_type_group  59400 non-null  string        \n",
      " 26  extraction_type_class  59400 non-null  string        \n",
      " 27  management             59400 non-null  string        \n",
      " 28  management_group       59400 non-null  string        \n",
      " 29  payment                59400 non-null  string        \n",
      " 30  payment_type           59400 non-null  string        \n",
      " 31  water_quality          59400 non-null  string        \n",
      " 32  quality_group          59400 non-null  string        \n",
      " 33  quantity               59400 non-null  string        \n",
      " 34  quantity_group         59400 non-null  string        \n",
      " 35  source                 59400 non-null  string        \n",
      " 36  source_type            59400 non-null  string        \n",
      " 37  source_class           59400 non-null  string        \n",
      " 38  waterpoint_type        59400 non-null  string        \n",
      " 39  waterpoint_type_group  59400 non-null  string        \n",
      "dtypes: datetime64[ns](1), float64(3), int64(7), object(2), string(27)\n",
      "memory usage: 18.1+ MB\n"
     ]
    }
   ],
   "source": [
    "raw_data_conv.info()"
   ]
  },
  {
   "cell_type": "markdown",
   "metadata": {
    "pycharm": {
     "name": "#%% md\n"
    }
   },
   "source": [
    "Convertion des colonnes \"object\" restantes en boolean"
   ]
  },
  {
   "cell_type": "code",
   "execution_count": 12,
   "metadata": {
    "pycharm": {
     "name": "#%%\n"
    }
   },
   "outputs": [
    {
     "name": "stdout",
     "output_type": "stream",
     "text": [
      "Index(['public_meeting', 'permit'], dtype='object')\n"
     ]
    }
   ],
   "source": [
    "# récupérer les colonnes à convertir\n",
    "objectcols = raw_data_conv.select_dtypes(include='object').columns\n",
    "print(objectcols)"
   ]
  },
  {
   "cell_type": "code",
   "execution_count": 13,
   "metadata": {
    "pycharm": {
     "name": "#%%\n"
    }
   },
   "outputs": [],
   "source": [
    "# Convertion des données en boolean\n",
    "raw_data_conv[objectcols] = raw_data_conv[objectcols].astype(bool)\n",
    "raw_data_conv[objectcols] = raw_data_conv[objectcols].astype(\"bool\")\n",
    "raw_data_conv[objectcols] = raw_data_conv[objectcols].replace({pd.NA: np.nan})"
   ]
  },
  {
   "cell_type": "code",
   "execution_count": 14,
   "metadata": {
    "pycharm": {
     "name": "#%%\n"
    }
   },
   "outputs": [
    {
     "name": "stdout",
     "output_type": "stream",
     "text": [
      "<class 'pandas.core.frame.DataFrame'>\n",
      "RangeIndex: 59400 entries, 0 to 59399\n",
      "Data columns (total 40 columns):\n",
      " #   Column                 Non-Null Count  Dtype         \n",
      "---  ------                 --------------  -----         \n",
      " 0   id                     59400 non-null  int64         \n",
      " 1   amount_tsh             59400 non-null  float64       \n",
      " 2   date_recorded          59400 non-null  datetime64[ns]\n",
      " 3   funder                 59400 non-null  string        \n",
      " 4   gps_height             59400 non-null  int64         \n",
      " 5   installer              59400 non-null  string        \n",
      " 6   longitude              59400 non-null  float64       \n",
      " 7   latitude               59400 non-null  float64       \n",
      " 8   wpt_name               59400 non-null  string        \n",
      " 9   num_private            59400 non-null  int64         \n",
      " 10  basin                  59400 non-null  string        \n",
      " 11  subvillage             59400 non-null  string        \n",
      " 12  region                 59400 non-null  string        \n",
      " 13  region_code            59400 non-null  int64         \n",
      " 14  district_code          59400 non-null  int64         \n",
      " 15  lga                    59400 non-null  string        \n",
      " 16  ward                   59400 non-null  string        \n",
      " 17  population             59400 non-null  int64         \n",
      " 18  public_meeting         59400 non-null  bool          \n",
      " 19  recorded_by            59400 non-null  string        \n",
      " 20  scheme_management      59400 non-null  string        \n",
      " 21  scheme_name            59400 non-null  string        \n",
      " 22  permit                 59400 non-null  bool          \n",
      " 23  construction_year      59400 non-null  int64         \n",
      " 24  extraction_type        59400 non-null  string        \n",
      " 25  extraction_type_group  59400 non-null  string        \n",
      " 26  extraction_type_class  59400 non-null  string        \n",
      " 27  management             59400 non-null  string        \n",
      " 28  management_group       59400 non-null  string        \n",
      " 29  payment                59400 non-null  string        \n",
      " 30  payment_type           59400 non-null  string        \n",
      " 31  water_quality          59400 non-null  string        \n",
      " 32  quality_group          59400 non-null  string        \n",
      " 33  quantity               59400 non-null  string        \n",
      " 34  quantity_group         59400 non-null  string        \n",
      " 35  source                 59400 non-null  string        \n",
      " 36  source_type            59400 non-null  string        \n",
      " 37  source_class           59400 non-null  string        \n",
      " 38  waterpoint_type        59400 non-null  string        \n",
      " 39  waterpoint_type_group  59400 non-null  string        \n",
      "dtypes: bool(2), datetime64[ns](1), float64(3), int64(7), string(27)\n",
      "memory usage: 17.3 MB\n"
     ]
    }
   ],
   "source": [
    "raw_data_conv.info()"
   ]
  },
  {
   "cell_type": "markdown",
   "metadata": {
    "pycharm": {
     "name": "#%% md\n"
    }
   },
   "source": [
    "## Préparation de la target"
   ]
  },
  {
   "cell_type": "code",
   "execution_count": 15,
   "metadata": {
    "pycharm": {
     "name": "#%%\n"
    }
   },
   "outputs": [
    {
     "name": "stdout",
     "output_type": "stream",
     "text": [
      "<class 'pandas.core.frame.DataFrame'>\n",
      "RangeIndex: 59400 entries, 0 to 59399\n",
      "Data columns (total 1 columns):\n",
      " #   Column        Non-Null Count  Dtype \n",
      "---  ------        --------------  ----- \n",
      " 0   status_group  59400 non-null  object\n",
      "dtypes: object(1)\n",
      "memory usage: 464.2+ KB\n"
     ]
    }
   ],
   "source": [
    "target = pd.read_csv(\"input/target.csv\", delimiter=\",\")\n",
    "y = target.drop(\"id\", axis=1)\n",
    "y.info()"
   ]
  },
  {
   "cell_type": "code",
   "execution_count": 16,
   "metadata": {
    "pycharm": {
     "name": "#%%\n"
    }
   },
   "outputs": [
    {
     "name": "stdout",
     "output_type": "stream",
     "text": [
      "<class 'pandas.core.frame.DataFrame'>\n",
      "RangeIndex: 59400 entries, 0 to 59399\n",
      "Data columns (total 1 columns):\n",
      " #   Column        Non-Null Count  Dtype \n",
      "---  ------        --------------  ----- \n",
      " 0   status_group  59400 non-null  string\n",
      "dtypes: string(1)\n",
      "memory usage: 464.2 KB\n"
     ]
    }
   ],
   "source": [
    "# Convertion du \"status_group\" en string\n",
    "col = \"status_group\"\n",
    "y[col] = y[col].astype(str)\n",
    "y[col] = y[col].astype(\"string\")\n",
    "y[col] = y[col].replace({pd.NA: np.nan})\n",
    "y.info()"
   ]
  },
  {
   "cell_type": "markdown",
   "metadata": {
    "pycharm": {
     "name": "#%% md\n"
    }
   },
   "source": [
    "# Imputation & Sélection des variables explicatives"
   ]
  },
  {
   "cell_type": "markdown",
   "metadata": {
    "pycharm": {
     "name": "#%% md\n"
    }
   },
   "source": [
    "### Imputation"
   ]
  },
  {
   "cell_type": "markdown",
   "metadata": {
    "pycharm": {
     "name": "#%% md\n"
    }
   },
   "source": [
    "Après analyse des valeures manquantes : \n",
    "* scheme_name              28166 => à supprimer car plus de 50 % des datas\n",
    "* scheme_management         3877 => mode\n",
    "* installer                 3655 => mode\n",
    "* funder                    3635 => mode\n",
    "* public_meeting            3334 => mode\n",
    "* permit                    3056 => mode\n",
    "* subvillage                 371 => mode"
   ]
  },
  {
   "cell_type": "code",
   "execution_count": 17,
   "metadata": {
    "pycharm": {
     "name": "#%%\n"
    }
   },
   "outputs": [
    {
     "name": "stderr",
     "output_type": "stream",
     "text": [
      "D:\\ESGI\\5AL\\ML\\ML-TP\\venv\\lib\\site-packages\\sklearn\\base.py:450: UserWarning: X does not have valid feature names, but SimpleImputer was fitted with feature names\n",
      "  warnings.warn(\n"
     ]
    }
   ],
   "source": [
    "from sklearn.impute import SimpleImputer\n",
    "\n",
    "colstomode = [\"scheme_management\", \"installer\", \"funder\", \"public_meeting\", \"permit\", \"subvillage\"]\n",
    "imputer = SimpleImputer(missing_values=np.nan, strategy='most_frequent').fit(raw_data_conv[colstomode])\n",
    "\n",
    "# mean, most_frequent, median\n",
    "\n",
    "data_impute = imputer.transform(raw_data_conv[colstomode].values)\n",
    "\n",
    "data_impute = pd.DataFrame(data_impute, columns = colstomode)"
   ]
  },
  {
   "cell_type": "code",
   "execution_count": 18,
   "metadata": {
    "pycharm": {
     "name": "#%%\n"
    }
   },
   "outputs": [],
   "source": [
    "raw_data_conv = raw_data_conv.drop(['scheme_name'], axis=1)"
   ]
  },
  {
   "cell_type": "code",
   "execution_count": 19,
   "metadata": {
    "pycharm": {
     "name": "#%%\n"
    }
   },
   "outputs": [
    {
     "data": {
      "text/html": [
       "<div>\n",
       "<style scoped>\n",
       "    .dataframe tbody tr th:only-of-type {\n",
       "        vertical-align: middle;\n",
       "    }\n",
       "\n",
       "    .dataframe tbody tr th {\n",
       "        vertical-align: top;\n",
       "    }\n",
       "\n",
       "    .dataframe thead th {\n",
       "        text-align: right;\n",
       "    }\n",
       "</style>\n",
       "<table border=\"1\" class=\"dataframe\">\n",
       "  <thead>\n",
       "    <tr style=\"text-align: right;\">\n",
       "      <th></th>\n",
       "      <th>id</th>\n",
       "      <th>amount_tsh</th>\n",
       "      <th>date_recorded</th>\n",
       "      <th>funder</th>\n",
       "      <th>gps_height</th>\n",
       "      <th>installer</th>\n",
       "      <th>longitude</th>\n",
       "      <th>latitude</th>\n",
       "      <th>wpt_name</th>\n",
       "      <th>num_private</th>\n",
       "      <th>...</th>\n",
       "      <th>payment_type</th>\n",
       "      <th>water_quality</th>\n",
       "      <th>quality_group</th>\n",
       "      <th>quantity</th>\n",
       "      <th>quantity_group</th>\n",
       "      <th>source</th>\n",
       "      <th>source_type</th>\n",
       "      <th>source_class</th>\n",
       "      <th>waterpoint_type</th>\n",
       "      <th>waterpoint_type_group</th>\n",
       "    </tr>\n",
       "  </thead>\n",
       "  <tbody>\n",
       "    <tr>\n",
       "      <th>0</th>\n",
       "      <td>69572</td>\n",
       "      <td>6000.0</td>\n",
       "      <td>2011-03-14</td>\n",
       "      <td>Roman</td>\n",
       "      <td>1390</td>\n",
       "      <td>Roman</td>\n",
       "      <td>34.938093</td>\n",
       "      <td>-9.856322</td>\n",
       "      <td>none</td>\n",
       "      <td>0</td>\n",
       "      <td>...</td>\n",
       "      <td>annually</td>\n",
       "      <td>soft</td>\n",
       "      <td>good</td>\n",
       "      <td>enough</td>\n",
       "      <td>enough</td>\n",
       "      <td>spring</td>\n",
       "      <td>spring</td>\n",
       "      <td>groundwater</td>\n",
       "      <td>communal standpipe</td>\n",
       "      <td>communal standpipe</td>\n",
       "    </tr>\n",
       "    <tr>\n",
       "      <th>1</th>\n",
       "      <td>8776</td>\n",
       "      <td>0.0</td>\n",
       "      <td>2013-03-06</td>\n",
       "      <td>Grumeti</td>\n",
       "      <td>1399</td>\n",
       "      <td>GRUMETI</td>\n",
       "      <td>34.698766</td>\n",
       "      <td>-2.147466</td>\n",
       "      <td>Zahanati</td>\n",
       "      <td>0</td>\n",
       "      <td>...</td>\n",
       "      <td>never pay</td>\n",
       "      <td>soft</td>\n",
       "      <td>good</td>\n",
       "      <td>insufficient</td>\n",
       "      <td>insufficient</td>\n",
       "      <td>rainwater harvesting</td>\n",
       "      <td>rainwater harvesting</td>\n",
       "      <td>surface</td>\n",
       "      <td>communal standpipe</td>\n",
       "      <td>communal standpipe</td>\n",
       "    </tr>\n",
       "    <tr>\n",
       "      <th>2</th>\n",
       "      <td>34310</td>\n",
       "      <td>25.0</td>\n",
       "      <td>2013-02-25</td>\n",
       "      <td>Lottery Club</td>\n",
       "      <td>686</td>\n",
       "      <td>World vision</td>\n",
       "      <td>37.460664</td>\n",
       "      <td>-3.821329</td>\n",
       "      <td>Kwa Mahundi</td>\n",
       "      <td>0</td>\n",
       "      <td>...</td>\n",
       "      <td>per bucket</td>\n",
       "      <td>soft</td>\n",
       "      <td>good</td>\n",
       "      <td>enough</td>\n",
       "      <td>enough</td>\n",
       "      <td>dam</td>\n",
       "      <td>dam</td>\n",
       "      <td>surface</td>\n",
       "      <td>communal standpipe multiple</td>\n",
       "      <td>communal standpipe</td>\n",
       "    </tr>\n",
       "    <tr>\n",
       "      <th>3</th>\n",
       "      <td>67743</td>\n",
       "      <td>0.0</td>\n",
       "      <td>2013-01-28</td>\n",
       "      <td>Unicef</td>\n",
       "      <td>263</td>\n",
       "      <td>UNICEF</td>\n",
       "      <td>38.486161</td>\n",
       "      <td>-11.155298</td>\n",
       "      <td>Zahanati Ya Nanyumbu</td>\n",
       "      <td>0</td>\n",
       "      <td>...</td>\n",
       "      <td>never pay</td>\n",
       "      <td>soft</td>\n",
       "      <td>good</td>\n",
       "      <td>dry</td>\n",
       "      <td>dry</td>\n",
       "      <td>machine dbh</td>\n",
       "      <td>borehole</td>\n",
       "      <td>groundwater</td>\n",
       "      <td>communal standpipe multiple</td>\n",
       "      <td>communal standpipe</td>\n",
       "    </tr>\n",
       "    <tr>\n",
       "      <th>4</th>\n",
       "      <td>19728</td>\n",
       "      <td>0.0</td>\n",
       "      <td>2011-07-13</td>\n",
       "      <td>Action In A</td>\n",
       "      <td>0</td>\n",
       "      <td>Artisan</td>\n",
       "      <td>31.130847</td>\n",
       "      <td>-1.825359</td>\n",
       "      <td>Shuleni</td>\n",
       "      <td>0</td>\n",
       "      <td>...</td>\n",
       "      <td>never pay</td>\n",
       "      <td>soft</td>\n",
       "      <td>good</td>\n",
       "      <td>seasonal</td>\n",
       "      <td>seasonal</td>\n",
       "      <td>rainwater harvesting</td>\n",
       "      <td>rainwater harvesting</td>\n",
       "      <td>surface</td>\n",
       "      <td>communal standpipe</td>\n",
       "      <td>communal standpipe</td>\n",
       "    </tr>\n",
       "  </tbody>\n",
       "</table>\n",
       "<p>5 rows × 39 columns</p>\n",
       "</div>"
      ],
      "text/plain": [
       "      id  amount_tsh date_recorded        funder  gps_height     installer  \\\n",
       "0  69572      6000.0    2011-03-14         Roman        1390         Roman   \n",
       "1   8776         0.0    2013-03-06       Grumeti        1399       GRUMETI   \n",
       "2  34310        25.0    2013-02-25  Lottery Club         686  World vision   \n",
       "3  67743         0.0    2013-01-28        Unicef         263        UNICEF   \n",
       "4  19728         0.0    2011-07-13   Action In A           0       Artisan   \n",
       "\n",
       "   longitude   latitude              wpt_name  num_private  ... payment_type  \\\n",
       "0  34.938093  -9.856322                  none            0  ...     annually   \n",
       "1  34.698766  -2.147466              Zahanati            0  ...    never pay   \n",
       "2  37.460664  -3.821329           Kwa Mahundi            0  ...   per bucket   \n",
       "3  38.486161 -11.155298  Zahanati Ya Nanyumbu            0  ...    never pay   \n",
       "4  31.130847  -1.825359               Shuleni            0  ...    never pay   \n",
       "\n",
       "  water_quality quality_group      quantity  quantity_group  \\\n",
       "0          soft          good        enough          enough   \n",
       "1          soft          good  insufficient    insufficient   \n",
       "2          soft          good        enough          enough   \n",
       "3          soft          good           dry             dry   \n",
       "4          soft          good      seasonal        seasonal   \n",
       "\n",
       "                 source           source_type  source_class  \\\n",
       "0                spring                spring   groundwater   \n",
       "1  rainwater harvesting  rainwater harvesting       surface   \n",
       "2                   dam                   dam       surface   \n",
       "3           machine dbh              borehole   groundwater   \n",
       "4  rainwater harvesting  rainwater harvesting       surface   \n",
       "\n",
       "               waterpoint_type waterpoint_type_group  \n",
       "0           communal standpipe    communal standpipe  \n",
       "1           communal standpipe    communal standpipe  \n",
       "2  communal standpipe multiple    communal standpipe  \n",
       "3  communal standpipe multiple    communal standpipe  \n",
       "4           communal standpipe    communal standpipe  \n",
       "\n",
       "[5 rows x 39 columns]"
      ]
     },
     "execution_count": 19,
     "metadata": {},
     "output_type": "execute_result"
    }
   ],
   "source": [
    "raw_data_conv = raw_data_conv.dropna(axis=1, how='all')\n",
    "raw_data_conv.head()"
   ]
  },
  {
   "cell_type": "markdown",
   "metadata": {
    "pycharm": {
     "name": "#%% md\n"
    }
   },
   "source": [
    "### Sélection des variables"
   ]
  },
  {
   "cell_type": "code",
   "execution_count": 20,
   "metadata": {
    "pycharm": {
     "name": "#%%\n"
    }
   },
   "outputs": [],
   "source": [
    "# Suppression des variables : id, date_recorded\n",
    "data_clean = raw_data_conv.drop(['id', 'date_recorded'], axis=1)"
   ]
  },
  {
   "cell_type": "code",
   "execution_count": 21,
   "metadata": {
    "pycharm": {
     "name": "#%%\n"
    }
   },
   "outputs": [
    {
     "name": "stdout",
     "output_type": "stream",
     "text": [
      "<class 'pandas.core.frame.DataFrame'>\n",
      "RangeIndex: 59400 entries, 0 to 59399\n",
      "Data columns (total 37 columns):\n",
      " #   Column                 Non-Null Count  Dtype  \n",
      "---  ------                 --------------  -----  \n",
      " 0   amount_tsh             59400 non-null  float64\n",
      " 1   funder                 59400 non-null  string \n",
      " 2   gps_height             59400 non-null  int64  \n",
      " 3   installer              59400 non-null  string \n",
      " 4   longitude              59400 non-null  float64\n",
      " 5   latitude               59400 non-null  float64\n",
      " 6   wpt_name               59400 non-null  string \n",
      " 7   num_private            59400 non-null  int64  \n",
      " 8   basin                  59400 non-null  string \n",
      " 9   subvillage             59400 non-null  string \n",
      " 10  region                 59400 non-null  string \n",
      " 11  region_code            59400 non-null  int64  \n",
      " 12  district_code          59400 non-null  int64  \n",
      " 13  lga                    59400 non-null  string \n",
      " 14  ward                   59400 non-null  string \n",
      " 15  population             59400 non-null  int64  \n",
      " 16  public_meeting         59400 non-null  bool   \n",
      " 17  recorded_by            59400 non-null  string \n",
      " 18  scheme_management      59400 non-null  string \n",
      " 19  permit                 59400 non-null  bool   \n",
      " 20  construction_year      59400 non-null  int64  \n",
      " 21  extraction_type        59400 non-null  string \n",
      " 22  extraction_type_group  59400 non-null  string \n",
      " 23  extraction_type_class  59400 non-null  string \n",
      " 24  management             59400 non-null  string \n",
      " 25  management_group       59400 non-null  string \n",
      " 26  payment                59400 non-null  string \n",
      " 27  payment_type           59400 non-null  string \n",
      " 28  water_quality          59400 non-null  string \n",
      " 29  quality_group          59400 non-null  string \n",
      " 30  quantity               59400 non-null  string \n",
      " 31  quantity_group         59400 non-null  string \n",
      " 32  source                 59400 non-null  string \n",
      " 33  source_type            59400 non-null  string \n",
      " 34  source_class           59400 non-null  string \n",
      " 35  waterpoint_type        59400 non-null  string \n",
      " 36  waterpoint_type_group  59400 non-null  string \n",
      "dtypes: bool(2), float64(3), int64(6), string(26)\n",
      "memory usage: 16.0 MB\n"
     ]
    }
   ],
   "source": [
    "data_clean.info()"
   ]
  },
  {
   "cell_type": "markdown",
   "metadata": {
    "pycharm": {
     "name": "#%% md\n"
    }
   },
   "source": [
    "# Création des models"
   ]
  },
  {
   "cell_type": "markdown",
   "metadata": {
    "pycharm": {
     "name": "#%% md\n"
    }
   },
   "source": [
    "## Splitting des données"
   ]
  },
  {
   "cell_type": "code",
   "execution_count": 22,
   "metadata": {
    "pycharm": {
     "name": "#%%\n"
    }
   },
   "outputs": [],
   "source": [
    "from sklearn.model_selection import train_test_split\n",
    "from sklearn.metrics import f1_score, confusion_matrix, classification_report\n",
    "from sklearn.model_selection import learning_curve\n",
    "from sklearn.model_selection import cross_val_score"
   ]
  },
  {
   "cell_type": "code",
   "execution_count": 23,
   "metadata": {},
   "outputs": [
    {
     "name": "stdout",
     "output_type": "stream",
     "text": [
      "Train set: (47520, 37)\n",
      "Test set: (11880, 37)\n"
     ]
    }
   ],
   "source": [
    "X_train, X_test, y_train, y_test = train_test_split(data_clean, y, test_size=0.2, random_state=5)\n",
    "\n",
    "print('Train set:', X_train.shape)\n",
    "print('Test set:', X_test.shape)"
   ]
  },
  {
   "cell_type": "markdown",
   "metadata": {
    "pycharm": {
     "name": "#%% md\n"
    }
   },
   "source": [
    "## KNN"
   ]
  },
  {
   "cell_type": "markdown",
   "metadata": {
    "pycharm": {
     "name": "#%% md\n"
    }
   },
   "source": [
    "### Création"
   ]
  },
  {
   "cell_type": "code",
   "execution_count": null,
   "metadata": {
    "pycharm": {
     "name": "#%%\n"
    }
   },
   "outputs": [],
   "source": [
    "from sklearn.model_selection import GridSearchCV\n",
    "from sklearn.neighbors import KNeighborsClassifier\n",
    "# trouver le k optimal pour le nb de neighbors avant la declaration du knn ci dessous \n",
    "\n",
    "## Automatique\n",
    "# définissons les paramètress\n",
    "param_grid = {'n_neighbors': np.arange(1, 20),\n",
    "              'metric': ['euclidean', 'manhattan']}\n",
    "grid_knn = GridSearchCV(KNeighborsClassifier(), param_grid, cv=5)\n",
    "grid_knn.fit(X_train, y_train)\n",
    "#print(grid_knn.best_score_)\n",
    "print(grid_knn.best_params_)\n",
    "\n",
    "\n",
    "from sklearn.neighbors import KNeighborsClassifier\n",
    "\n",
    "# déclaration de l'intention de knn\n",
    "knn = KNeighborsClassifier(n_neighbors=grid_knn.best_params_[\"n_neighbors\"])\n",
    "\n",
    "# Entrainement du modèle\n",
    "knn.fit(X_train, y_train)"
   ]
  },
  {
   "cell_type": "markdown",
   "metadata": {
    "pycharm": {
     "name": "#%% md\n"
    }
   },
   "source": [
    "### Evaluation"
   ]
  },
  {
   "cell_type": "code",
   "execution_count": null,
   "metadata": {
    "pycharm": {
     "name": "#%%\n"
    }
   },
   "outputs": [],
   "source": [
    "# Evaluation --------------\n",
    "\n",
    "# Simple\n",
    "\n",
    "#print('train score:', knn.score(X_train, y_train))\n",
    "#print('test score:', knn.score(X_test, y_test))\n",
    "\n",
    "from sklearn.metrics import f1_score, confusion_matrix, classification_report\n",
    "\n",
    "y_test_predit = knn.predict(X_test)\n",
    "\n",
    "confusion_matrix(y_test, y_test_predit)\n",
    "\n",
    "# calcul de la précision, du rappel et du F-score\n",
    "#print(classification_report(y_test, y_test_predit))\n",
    "\n",
    "\n",
    "# Cross validation\n",
    "from sklearn.model_selection import cross_val_score\n",
    "cross_val_score(knn, X_train, y_train, cv=5, scoring='accuracy')\n",
    "cross_val_score(knn, X_train, y_train, cv=5, scoring='accuracy').mean()\n",
    "\n",
    "# Courbe d'apprentissage\n",
    "from sklearn.model_selection import learning_curve\n",
    "\n",
    "N, train_score, val_score = learning_curve(knn, X_train, y_train, train_sizes=np.linspace(0.1, 1, 10), cv=5)\n",
    "plt.plot(N, train_score.mean(axis=1), label='train')\n",
    "plt.plot(N, val_score.mean(axis=1), label='validation')\n",
    "plt.xlabel('train_sizes')\n",
    "plt.legend()"
   ]
  },
  {
   "cell_type": "markdown",
   "metadata": {
    "pycharm": {
     "name": "#%% md\n"
    }
   },
   "source": [
    "## Random Forest"
   ]
  },
  {
   "cell_type": "markdown",
   "metadata": {
    "pycharm": {
     "name": "#%% md\n"
    }
   },
   "source": [
    "### Création"
   ]
  },
  {
   "cell_type": "code",
   "execution_count": null,
   "metadata": {
    "pycharm": {
     "name": "#%%\n"
    }
   },
   "outputs": [],
   "source": [
    "from sklearn.ensemble import RandomForestClassifier\n",
    "rf = RandomForestClassifier(random_state=0)\n",
    "# Entrainement du modèle\n",
    "rf.fit(X_train, y_train)"
   ]
  },
  {
   "cell_type": "markdown",
   "metadata": {
    "pycharm": {
     "name": "#%% md\n"
    }
   },
   "source": [
    "### Evaluation"
   ]
  },
  {
   "cell_type": "code",
   "execution_count": null,
   "metadata": {},
   "outputs": [],
   "source": [
    "# Calcul de score\n",
    "\n",
    "print('train score:', rf.score(X_train, y_train))\n",
    "print('test score:', rf.score(X_test, y_test))\n",
    "\n",
    "y_test_rf_predit = rf.predict(X_test)\n",
    "\n",
    "N_rf, train_score_rf, val_score_rf = learning_curve(rf, X_train, y_train, \n",
    "                                                    train_sizes=np.linspace(0.1, 1, 10),\n",
    "                                                    cv=5, scoring='accuracy')\n",
    "\n",
    "confusion_matrix(y_test, y_test_rf_predit)\n",
    "\n",
    "plt.plot(N_rf, train_score_rf.mean(axis=1), label='train_rf')\n",
    "plt.plot(N_rf, val_score_rf.mean(axis=1), label='validation_rf')\n",
    "plt.xlabel('train_sizes')\n",
    "plt.legend()\n",
    "\n",
    "# calcul de la précision, du rappel et du F-score\n",
    "print(classification_report(y_test, y_test_rf_predit))\n",
    "\n",
    "cross_val_score(rf, X_train, y_train, cv=5, scoring='accuracy')\n",
    "cross_val_score(rf, X_train, y_train, cv=5, scoring='accuracy').mean()\n",
    "pd.DataFrame(rf.feature_importances_).plot.bar(figsize=(12, 8))"
   ]
  },
  {
   "cell_type": "markdown",
   "metadata": {},
   "source": [
    "## Arbre de décision"
   ]
  },
  {
   "cell_type": "code",
   "execution_count": null,
   "metadata": {},
   "outputs": [],
   "source": [
    "from sklearn.tree import DecisionTreeClassifier\n",
    "dt = DecisionTreeClassifier()\n",
    "dt.fit(X_train, y_train)\n",
    "print('train score:', dt.score(X_train, y_train))\n",
    "print('test score:', dt.score(X_test, y_test))\n",
    "y_test_dt_predit = dt.predict(X_test)\n",
    "\n",
    "#confusion_matrix(y_test, y_test_dt_predit)\n",
    "\n",
    "#print(classification_report(y_test, y_test_dt_predit))\n",
    "from sklearn.tree import export_graphviz\n",
    "FEATURE_NAMES = [\"age\", \"sex\", \"cp\", \"trestbps\", \"chol\", \"fbs\", \"thalach\", \"exang\", \"oldpeak\", \"slope\", \"ca\", \"thal\"]\n",
    "#export_graphviz(dt, 'tree.dot', feature_names = FEATURE_NAMES)\n",
    "!dot -Tpng tree.dot -o tree.png\n",
    "import matplotlib.pyplot as plt\n",
    "#import cv2 #pip install opencv-python opencv-python-headless\n",
    "#%matplotlib inline\n",
    "#img = cv2.imread('tree.png')\n",
    "#plt.figure(figsize = (20, 20))\n",
    "#plt.imshow(img)"
   ]
  },
  {
   "cell_type": "markdown",
   "metadata": {},
   "source": [
    "## Regression linéaire"
   ]
  },
  {
   "cell_type": "markdown",
   "metadata": {},
   "source": [
    "### Création"
   ]
  },
  {
   "cell_type": "code",
   "execution_count": null,
   "metadata": {},
   "outputs": [],
   "source": [
    "from sklearn.linear_model import LinearRegression\n",
    "from sklearn.metrics import mean_squared_error\n",
    "from sklearn.metrics import r2_score\n",
    "from sklearn.preprocessing import PolynomialFeatures\n",
    "polynomial_features= PolynomialFeatures(degree=3)\n",
    "X_train_poly = polynomial_features.fit_transform(X_train)\n",
    "X_test_poly = polynomial_features.fit_transform(X_test)\n",
    "\n",
    "# Entrainement\n",
    "linreg = LinearRegression()\n",
    "linreg.fit(X_train_poly, y_train)"
   ]
  },
  {
   "cell_type": "markdown",
   "metadata": {},
   "source": [
    "### Evaluation"
   ]
  },
  {
   "cell_type": "code",
   "execution_count": null,
   "metadata": {},
   "outputs": [],
   "source": [
    "# Evaluation\n",
    "y_train_predict = linreg.predict(X_train_poly)\n",
    "y_test_predict = linreg.predict(X_test_poly)\n",
    "mse_train = mean_squared_error(y_train, y_train_predict)\n",
    "rmse_train = (np.sqrt(mse_train))\n",
    "r2_train = r2_score(y_train, y_train_predict)\n",
    "mse_test = mean_squared_error(y_test, y_test_predict)\n",
    "rmse_test = (np.sqrt(mse_test))\n",
    "r2_test = r2_score(y_test, y_test_predict)\n",
    "print('La performance du modèle sur la base dapprentissage')\n",
    "print('--------------------------------------')\n",
    "print('mse du train {}'.format(mse_train), ' et test {}'.format(mse_test))\n",
    "print(\"L'erreur quadratique moyenne du train est {}\".format(rmse_train), \" et test est {}\".format(rmse_test))\n",
    "print('le score R2 du train est {}'.format(r2_train), ' et test est {}'.format(r2_test))\n",
    "print('\\n')"
   ]
  },
  {
   "cell_type": "markdown",
   "metadata": {},
   "source": [
    "# Conclusion"
   ]
  },
  {
   "cell_type": "code",
   "execution_count": null,
   "metadata": {},
   "outputs": [],
   "source": []
  }
 ],
 "metadata": {
  "colab": {
   "collapsed_sections": [],
   "name": "Tp blanc prep données.ipynb",
   "provenance": []
  },
  "kernelspec": {
   "display_name": "Python 3 (ipykernel)",
   "language": "python",
   "name": "python3"
  },
  "language_info": {
   "codemirror_mode": {
    "name": "ipython",
    "version": 3
   },
   "file_extension": ".py",
   "mimetype": "text/x-python",
   "name": "python",
   "nbconvert_exporter": "python",
   "pygments_lexer": "ipython3",
   "version": "3.9.7"
  }
 },
 "nbformat": 4,
 "nbformat_minor": 1
}
