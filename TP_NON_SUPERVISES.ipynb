{
 "cells": [
  {
   "cell_type": "markdown",
   "metadata": {
    "colab_type": "text",
    "id": "view-in-github"
   },
   "source": [
    "<a href=\"https://colab.research.google.com/github/MachineLearnia/Python-Machine-Learning/blob/master/24%20-%20Sklearn%20%3A%20Apprentissage%20Non-supervis%C3%A9.ipynb\" target=\"_parent\"><img src=\"https://colab.research.google.com/assets/colab-badge.svg\" alt=\"Open In Colab\"/></a>"
   ]
  },
  {
   "cell_type": "markdown",
   "metadata": {
    "colab_type": "text",
    "id": "JJHL6LQpG6np"
   },
   "source": [
    "# 24/30 Apprentissage Non-Supervisé"
   ]
  },
  {
   "cell_type": "code",
   "execution_count": 1,
   "metadata": {
    "colab": {},
    "colab_type": "code",
    "id": "6w1Nit4_Fk5L"
   },
   "outputs": [],
   "source": [
    "import numpy as np\n",
    "import matplotlib.pyplot as plt\n",
    "from sklearn.datasets import make_blobs"
   ]
  },
  {
   "cell_type": "markdown",
   "metadata": {
    "colab_type": "text",
    "id": "AbMWrDTWHOMD"
   },
   "source": [
    "## 1. K-Means Clustering"
   ]
  },
  {
   "cell_type": "code",
   "execution_count": 2,
   "metadata": {
    "colab": {},
    "colab_type": "code",
    "id": "_OlOre26HTLb"
   },
   "outputs": [],
   "source": [
    "from sklearn.cluster import KMeans"
   ]
  },
  {
   "cell_type": "code",
   "execution_count": 3,
   "metadata": {
    "colab": {
     "base_uri": "https://localhost:8080/",
     "height": 282
    },
    "colab_type": "code",
    "id": "ykSChVc_G5_k",
    "outputId": "84bb8979-0662-45f3-d51d-03f36940b1dc"
   },
   "outputs": [
    {
     "data": {
      "text/plain": [
       "<matplotlib.collections.PathCollection at 0x1f0996938b0>"
      ]
     },
     "execution_count": 3,
     "metadata": {},
     "output_type": "execute_result"
    },
    {
     "data": {
      "image/png": "[encoded data removed]",
      "text/plain": [
       "<Figure size 432x288 with 1 Axes>"
      ]
     },
     "metadata": {
      "needs_background": "light"
     },
     "output_type": "display_data"
    }
   ],
   "source": [
    "# Génération de données\n",
    "X, y = make_blobs(n_samples=100, centers=3, cluster_std=0.4, random_state=0)\n",
    "plt.scatter(X[:,0], X[:,1])"
   ]
  },
  {
   "cell_type": "markdown",
   "metadata": {},
   "source": [
    "# Modélisation"
   ]
  },
  {
   "cell_type": "markdown",
   "metadata": {},
   "source": [
    "## Kmeans"
   ]
  },
  {
   "cell_type": "code",
   "execution_count": 4,
   "metadata": {},
   "outputs": [
    {
     "data": {
      "text/plain": [
       "KMeans(n_clusters=3)"
      ]
     },
     "execution_count": 4,
     "metadata": {},
     "output_type": "execute_result"
    }
   ],
   "source": [
    "# création du modèle\n",
    "model_kmeans = KMeans(n_clusters=3)\n",
    "model_kmeans.fit(X)"
   ]
  },
  {
   "cell_type": "code",
   "execution_count": 7,
   "metadata": {
    "colab": {
     "base_uri": "https://localhost:8080/",
     "height": 282
    },
    "colab_type": "code",
    "id": "zTbmYAXHHVXa",
    "outputId": "bee1ea78-a4fe-47cf-e9d8-3bc357f56722"
   },
   "outputs": [
    {
     "name": "stdout",
     "output_type": "stream",
     "text": [
      "-30.870531280140675\n"
     ]
    },
    {
     "data": {
      "text/plain": [
       "30.87053128014067"
      ]
     },
     "execution_count": 7,
     "metadata": {},
     "output_type": "execute_result"
    }
   ],
   "source": [
    "# Evaluation\n",
    "print(model_kmeans.score(X))\n",
    "model_kmeans.inertia_"
   ]
  },
  {
   "cell_type": "code",
   "execution_count": 8,
   "metadata": {},
   "outputs": [
    {
     "data": {
      "text/plain": [
       "array([0, 1, 0, 1, 1, 1, 2, 2, 0, 1, 1, 1, 0, 1, 2, 0, 2, 1, 2, 2, 2, 2,\n",
       "       2, 1, 0, 0, 0, 0, 2, 2, 1, 0, 0, 1, 2, 2, 1, 0, 0, 2, 2, 0, 0, 1,\n",
       "       1, 1, 0, 0, 2, 2, 2, 0, 1, 0, 2, 2, 0, 0, 1, 0, 0, 2, 2, 2, 2, 0,\n",
       "       1, 2, 0, 1, 2, 1, 1, 0, 0, 1, 1, 1, 2, 0, 1, 1, 0, 1, 0, 1, 1, 1,\n",
       "       0, 1, 0, 0, 2, 2, 2, 2, 1, 1, 2, 2])"
      ]
     },
     "execution_count": 8,
     "metadata": {},
     "output_type": "execute_result"
    }
   ],
   "source": [
    "#Création des clusters/classes sur la base train\n",
    "clusters_kmeans = model_kmeans.predict(X)\n",
    "\n",
    "clusters_kmeans\n"
   ]
  },
  {
   "cell_type": "code",
   "execution_count": 9,
   "metadata": {},
   "outputs": [
    {
     "data": {
      "text/plain": [
       "1    34\n",
       "2    33\n",
       "0    33\n",
       "Name: clusters, dtype: int64"
      ]
     },
     "execution_count": 9,
     "metadata": {},
     "output_type": "execute_result"
    }
   ],
   "source": [
    "import pandas as pd\n",
    "\n",
    "clusters_kmeans1 = pd.DataFrame({'clusters':clusters_kmeans})\n",
    "clusters_kmeans1['clusters'].value_counts()\n",
    "\n"
   ]
  },
  {
   "cell_type": "code",
   "execution_count": 10,
   "metadata": {},
   "outputs": [
    {
     "data": {
      "text/html": [
       "<div>\n",
       "<style scoped>\n",
       "    .dataframe tbody tr th:only-of-type {\n",
       "        vertical-align: middle;\n",
       "    }\n",
       "\n",
       "    .dataframe tbody tr th {\n",
       "        vertical-align: top;\n",
       "    }\n",
       "\n",
       "    .dataframe thead th {\n",
       "        text-align: right;\n",
       "    }\n",
       "</style>\n",
       "<table border=\"1\" class=\"dataframe\">\n",
       "  <thead>\n",
       "    <tr style=\"text-align: right;\">\n",
       "      <th></th>\n",
       "      <th>clusters</th>\n",
       "    </tr>\n",
       "  </thead>\n",
       "  <tbody>\n",
       "    <tr>\n",
       "      <th>0</th>\n",
       "      <td>0</td>\n",
       "    </tr>\n",
       "    <tr>\n",
       "      <th>1</th>\n",
       "      <td>1</td>\n",
       "    </tr>\n",
       "    <tr>\n",
       "      <th>2</th>\n",
       "      <td>0</td>\n",
       "    </tr>\n",
       "    <tr>\n",
       "      <th>3</th>\n",
       "      <td>1</td>\n",
       "    </tr>\n",
       "    <tr>\n",
       "      <th>4</th>\n",
       "      <td>1</td>\n",
       "    </tr>\n",
       "    <tr>\n",
       "      <th>...</th>\n",
       "      <td>...</td>\n",
       "    </tr>\n",
       "    <tr>\n",
       "      <th>95</th>\n",
       "      <td>2</td>\n",
       "    </tr>\n",
       "    <tr>\n",
       "      <th>96</th>\n",
       "      <td>1</td>\n",
       "    </tr>\n",
       "    <tr>\n",
       "      <th>97</th>\n",
       "      <td>1</td>\n",
       "    </tr>\n",
       "    <tr>\n",
       "      <th>98</th>\n",
       "      <td>2</td>\n",
       "    </tr>\n",
       "    <tr>\n",
       "      <th>99</th>\n",
       "      <td>2</td>\n",
       "    </tr>\n",
       "  </tbody>\n",
       "</table>\n",
       "<p>100 rows × 1 columns</p>\n",
       "</div>"
      ],
      "text/plain": [
       "    clusters\n",
       "0          0\n",
       "1          1\n",
       "2          0\n",
       "3          1\n",
       "4          1\n",
       "..       ...\n",
       "95         2\n",
       "96         1\n",
       "97         1\n",
       "98         2\n",
       "99         2\n",
       "\n",
       "[100 rows x 1 columns]"
      ]
     },
     "execution_count": 10,
     "metadata": {},
     "output_type": "execute_result"
    }
   ],
   "source": [
    "clusters_kmeans1"
   ]
  },
  {
   "cell_type": "code",
   "execution_count": 11,
   "metadata": {},
   "outputs": [
    {
     "data": {
      "text/plain": [
       "<matplotlib.collections.PathCollection at 0x1f09d2d48b0>"
      ]
     },
     "execution_count": 11,
     "metadata": {},
     "output_type": "execute_result"
    },
    {
     "data": {
      "image/png": "[encoded data removed]",
      "text/plain": [
       "<Figure size 432x288 with 1 Axes>"
      ]
     },
     "metadata": {
      "needs_background": "light"
     },
     "output_type": "display_data"
    }
   ],
   "source": [
    "# Visualisation des clusters\n",
    "plt.scatter(X[:,0], X[:,1], c = clusters_kmeans)\n",
    "plt.scatter(model_kmeans.cluster_centers_[:,0], model_kmeans.cluster_centers_[:,1], c='r')"
   ]
  },
  {
   "cell_type": "code",
   "execution_count": 12,
   "metadata": {},
   "outputs": [
    {
     "data": {
      "text/plain": [
       "2"
      ]
     },
     "execution_count": 12,
     "metadata": {},
     "output_type": "execute_result"
    }
   ],
   "source": [
    "# connaitre le nombre de variables explicatives\n",
    "model_kmeans.n_features_in_"
   ]
  },
  {
   "cell_type": "code",
   "execution_count": 13,
   "metadata": {},
   "outputs": [
    {
     "data": {
      "text/plain": [
       "3"
      ]
     },
     "execution_count": 13,
     "metadata": {},
     "output_type": "execute_result"
    }
   ],
   "source": [
    "# connaitre le nombre de cluster\n",
    "model_kmeans.n_clusters"
   ]
  },
  {
   "cell_type": "code",
   "execution_count": 14,
   "metadata": {},
   "outputs": [
    {
     "data": {
      "text/plain": [
       "array([[ 2.08889087,  1.07930405],\n",
       "       [ 0.92702654,  4.27385438],\n",
       "       [-1.55022199,  2.90542155]])"
      ]
     },
     "execution_count": 14,
     "metadata": {},
     "output_type": "execute_result"
    }
   ],
   "source": [
    "# connaitre les centres\n",
    "model_kmeans.cluster_centers_"
   ]
  },
  {
   "cell_type": "markdown",
   "metadata": {
    "colab_type": "text",
    "id": "cALI-5h2Hc7v"
   },
   "source": [
    "### Elbow Method"
   ]
  },
  {
   "cell_type": "code",
   "execution_count": 15,
   "metadata": {},
   "outputs": [
    {
     "name": "stderr",
     "output_type": "stream",
     "text": [
      "C:\\Users\\Lewis\\anaconda3\\lib\\site-packages\\sklearn\\cluster\\_kmeans.py:1036: UserWarning: KMeans is known to have a memory leak on Windows with MKL, when there are less chunks than available threads. You can avoid it by setting the environment variable OMP_NUM_THREADS=1.\n",
      "  warnings.warn(\n"
     ]
    }
   ],
   "source": [
    "# Recherche du k optimal par la méthode du coude\n",
    "inertia = []\n",
    "K_range = range(1, 20)\n",
    "for k in K_range:\n",
    "    model = KMeans(n_clusters=k).fit(X)\n",
    "    inertia.append(model.inertia_)"
   ]
  },
  {
   "cell_type": "code",
   "execution_count": 16,
   "metadata": {
    "colab": {
     "base_uri": "https://localhost:8080/",
     "height": 296
    },
    "colab_type": "code",
    "id": "MIBd3MvvHNFi",
    "outputId": "71be8a80-8ad0-4922-eab0-207a08699fa2"
   },
   "outputs": [
    {
     "data": {
      "text/plain": [
       "Text(0, 0.5, 'Cout du modele (Inertia)')"
      ]
     },
     "execution_count": 16,
     "metadata": {},
     "output_type": "execute_result"
    },
    {
     "data": {
      "image/png": "[encoded data removed]",
      "text/plain": [
       "<Figure size 432x288 with 1 Axes>"
      ]
     },
     "metadata": {
      "needs_background": "light"
     },
     "output_type": "display_data"
    }
   ],
   "source": [
    "# Visualisation du coude\n",
    "plt.plot(K_range, inertia)\n",
    "plt.xlabel('nombre de clusters')\n",
    "plt.ylabel('Cout du modele (Inertia)')"
   ]
  },
  {
   "cell_type": "markdown",
   "metadata": {
    "colab_type": "text",
    "id": "T-yhxJraHiLU"
   },
   "source": [
    "## 2. Detection d'anomalies avec Isolation Forest"
   ]
  },
  {
   "cell_type": "code",
   "execution_count": null,
   "metadata": {
    "colab": {},
    "colab_type": "code",
    "id": "Ydb36Yv3Hocs"
   },
   "outputs": [],
   "source": [
    "from sklearn.ensemble import IsolationForest"
   ]
  },
  {
   "cell_type": "code",
   "execution_count": null,
   "metadata": {
    "colab": {
     "base_uri": "https://localhost:8080/",
     "height": 282
    },
    "colab_type": "code",
    "id": "irVqoD85HX-e",
    "outputId": "c83165e1-742b-4f00-b6b5-17a202a786d9"
   },
   "outputs": [],
   "source": [
    "# Générer les données\n",
    "X, y = make_blobs(n_samples=50, centers=1, cluster_std=0.1, random_state=0)\n",
    "X[-1,:] = np.array([2.25, 5])\n",
    "\n",
    "plt.scatter(X[:,0], X[:, 1])"
   ]
  },
  {
   "cell_type": "code",
   "execution_count": null,
   "metadata": {
    "colab": {
     "base_uri": "https://localhost:8080/",
     "height": 282
    },
    "colab_type": "code",
    "id": "_lXr47YMHpjE",
    "outputId": "2b49bd16-6e94-4cd4-934d-847e03d04da4"
   },
   "outputs": [],
   "source": [
    "# Création du modèle d'isolation Forest\n",
    "\n",
    "model_isofo = IsolationForest(contamination=0.01)\n",
    "\n",
    "anomalies = model_isofo.fit(X)"
   ]
  },
  {
   "cell_type": "code",
   "execution_count": null,
   "metadata": {},
   "outputs": [],
   "source": [
    "# Clusters des anomalies\n",
    "clusters_ano = anomalies.predict(X)"
   ]
  },
  {
   "cell_type": "code",
   "execution_count": null,
   "metadata": {},
   "outputs": [],
   "source": [
    "# Visualisation des clusters des anomalies\n",
    "plt.scatter(X[:,0], X[:, 1], c=clusters_ano)"
   ]
  },
  {
   "cell_type": "markdown",
   "metadata": {
    "colab_type": "text",
    "id": "6FZd_JgCH8Oo"
   },
   "source": [
    "### Application : Digits Outliers"
   ]
  },
  {
   "cell_type": "code",
   "execution_count": null,
   "metadata": {},
   "outputs": [],
   "source": [
    "from sklearn.datasets import load_digits\n",
    "\n",
    "# chargement des données\n",
    "\n",
    "digits = load_digits()"
   ]
  },
  {
   "cell_type": "code",
   "execution_count": null,
   "metadata": {
    "colab": {
     "base_uri": "https://localhost:8080/",
     "height": 282
    },
    "colab_type": "code",
    "id": "iVcUplhDHqvc",
    "outputId": "18843a41-8645-48e8-e807-7b0d6ea95c2e"
   },
   "outputs": [],
   "source": [
    "# récupérer des les images\n",
    "images = digits.images\n",
    "\n",
    "# variables explicatives oufeatures\n",
    "X = digits.data\n",
    "\n",
    "# Variables à expliquer ou Target\n",
    "y = digits.target\n",
    "\n"
   ]
  },
  {
   "cell_type": "code",
   "execution_count": null,
   "metadata": {},
   "outputs": [],
   "source": [
    "# Affichage d'une image\n",
    "plt.imshow(images[7])"
   ]
  },
  {
   "cell_type": "code",
   "execution_count": null,
   "metadata": {
    "colab": {
     "base_uri": "https://localhost:8080/",
     "height": 121
    },
    "colab_type": "code",
    "id": "lWmC9D6pIDb5",
    "outputId": "c24a41df-0c6b-4acb-b013-85e50139ac70"
   },
   "outputs": [],
   "source": [
    "model_isofo2 = IsolationForest(random_state=0, contamination=0.02)\n",
    "\n",
    "ano = model_isofo2.fit(X)\n",
    "\n",
    "outliers = ano.predict(X) == -1\n",
    "\n",
    "outliers"
   ]
  },
  {
   "cell_type": "code",
   "execution_count": null,
   "metadata": {},
   "outputs": [],
   "source": [
    "# compter les outliers\n",
    "outliers1 = pd.DataFrame({'clusters':outliers})\n",
    "outliers1['clusters'].value_counts()"
   ]
  },
  {
   "cell_type": "code",
   "execution_count": null,
   "metadata": {},
   "outputs": [],
   "source": [
    "\n",
    "outliers_true = list(filter(lambda out: out == True, outliers))\n",
    "outliers_true = np.array(outliers_true)\n",
    "outliers_true"
   ]
  },
  {
   "cell_type": "code",
   "execution_count": null,
   "metadata": {},
   "outputs": [],
   "source": [
    "plt.figure(figsize=(12, 3))\n",
    "for i in range(20):\n",
    "  plt.subplot(1, 20, i+1)\n",
    "  plt.imshow(images[outliers][i])\n",
    "  plt.title(y[outliers][i])"
   ]
  },
  {
   "cell_type": "markdown",
   "metadata": {
    "colab_type": "text",
    "id": "32EpPE97IjTS"
   },
   "source": [
    "## 2. PCA : Reduction de dimension"
   ]
  },
  {
   "cell_type": "markdown",
   "metadata": {
    "colab_type": "text",
    "id": "hUMHCTfbJU4A"
   },
   "source": [
    "### Visualisation 2D"
   ]
  },
  {
   "cell_type": "code",
   "execution_count": null,
   "metadata": {
    "colab": {
     "base_uri": "https://localhost:8080/",
     "height": 51
    },
    "colab_type": "code",
    "id": "FdvuMg8MIJal",
    "outputId": "c6c4aee9-3456-452f-aca7-9bed4d9c8ad1"
   },
   "outputs": [],
   "source": [
    "from sklearn.decomposition import PCA\n",
    "\n",
    "model = PCA(n_components=2)\n",
    "model.fit(X)"
   ]
  },
  {
   "cell_type": "code",
   "execution_count": null,
   "metadata": {
    "colab": {
     "base_uri": "https://localhost:8080/",
     "height": 282
    },
    "colab_type": "code",
    "id": "M98o7O2_IntT",
    "outputId": "677b5e36-4b63-4ae5-9253-e3d40d16514b"
   },
   "outputs": [],
   "source": [
    "x_pca = model.transform(X)\n",
    "plt.scatter(x_pca[:,0], x_pca[:,1], c=y)"
   ]
  },
  {
   "cell_type": "code",
   "execution_count": null,
   "metadata": {
    "colab": {
     "base_uri": "https://localhost:8080/",
     "height": 269
    },
    "colab_type": "code",
    "id": "BDKdWP3TIoaO",
    "outputId": "7b4f6305-e46b-4f49-a91f-5442a4ffa553"
   },
   "outputs": [],
   "source": [
    "plt.figure()\n",
    "plt.xlim(-30, 30)\n",
    "plt.ylim(-30, 30)\n",
    "\n",
    "for i in range(100):\n",
    "    plt.text(x_pca[i,0], x_pca[i,1], str(y[i]))"
   ]
  },
  {
   "cell_type": "markdown",
   "metadata": {
    "colab_type": "text",
    "id": "BmjMjivqJZSw"
   },
   "source": [
    "### Compression de données"
   ]
  },
  {
   "cell_type": "code",
   "execution_count": null,
   "metadata": {
    "colab": {
     "base_uri": "https://localhost:8080/",
     "height": 282
    },
    "colab_type": "code",
    "id": "4BYpr_DEIrG6",
    "outputId": "7a936877-585b-4c8f-e408-d549b8ac5645"
   },
   "outputs": [],
   "source": [
    "n_dims = X.shape[1]\n",
    "model = PCA(n_components=n_dims)\n",
    "model.fit(X)\n",
    "\n",
    "variances = model.explained_variance_ratio_\n",
    "\n",
    "meilleur_dims = np.argmax(np.cumsum(variances) > 0.90)\n",
    "\n",
    "\n",
    "plt.bar(range(n_dims), np.cumsum(variances))\n",
    "plt.hlines(0.90, 0, meilleur_dims, colors='r')\n",
    "plt.vlines(meilleur_dims, 0, 0.90, colors='r')\n"
   ]
  },
  {
   "cell_type": "code",
   "execution_count": null,
   "metadata": {
    "colab": {
     "base_uri": "https://localhost:8080/",
     "height": 51
    },
    "colab_type": "code",
    "id": "2X0Sz_6NJfNw",
    "outputId": "17e5b88c-9fa8-468d-a893-17705ac59fc8"
   },
   "outputs": [],
   "source": [
    "model = PCA(n_components=0.99)\n",
    "model.fit(X)"
   ]
  },
  {
   "cell_type": "code",
   "execution_count": null,
   "metadata": {
    "colab": {
     "base_uri": "https://localhost:8080/",
     "height": 233
    },
    "colab_type": "code",
    "id": "0UDJEAIrLooY",
    "outputId": "194b4526-b0ef-405d-bf3a-d51831e858d6"
   },
   "outputs": [],
   "source": [
    "X_compress = model.fit_transform(X)\n",
    "X_decompress = model.inverse_transform(X_compress)\n",
    "\n",
    "plt.subplot(1, 2, 1)\n",
    "plt.imshow(X[0,:].reshape((8,8)), cmap='gray')\n",
    "plt.title('originel')\n",
    "plt.subplot(1, 2, 2)\n",
    "plt.imshow(X_decompress[0,:].reshape((8,8)), cmap='gray')\n",
    "plt.title('Compressé')"
   ]
  },
  {
   "cell_type": "code",
   "execution_count": null,
   "metadata": {
    "colab": {},
    "colab_type": "code",
    "id": "jCvustw9NsNT"
   },
   "outputs": [],
   "source": []
  }
 ],
 "metadata": {
  "colab": {
   "authorship_tag": "ABX9TyMkFPGWyDnOkG15HtfAhlFS",
   "include_colab_link": true,
   "name": "Untitled7.ipynb",
   "provenance": []
  },
  "kernelspec": {
   "display_name": "Python 3 (ipykernel)",
   "language": "python",
   "name": "python3"
  },
  "language_info": {
   "codemirror_mode": {
    "name": "ipython",
    "version": 3
   },
   "file_extension": ".py",
   "mimetype": "text/x-python",
   "name": "python",
   "nbconvert_exporter": "python",
   "pygments_lexer": "ipython3",
   "version": "3.9.7"
  }
 },
 "nbformat": 4,
 "nbformat_minor": 1
}