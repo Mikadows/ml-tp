{
 "cells": [
  {
   "cell_type": "markdown",
   "metadata": {},
   "source": [
    "Etudiants (GROUPE 3): \n",
    "   * Marion MOTA\n",
    "   * Aymeric LARVET\n",
    "   * Maxime D'HARBOULLE\n",
    "   * Julien DA CORTE\n",
    "   * Gwendal SIWIOREK"
   ]
  },
  {
   "cell_type": "markdown",
   "metadata": {
    "pycharm": {
     "name": "#%% md\n"
    }
   },
   "source": [
    "# Problématique métier"
   ]
  },
  {
   "cell_type": "markdown",
   "metadata": {
    "pycharm": {
     "name": "#%% md\n"
    }
   },
   "source": [
    "Notre objectif durant cette étude est de déterminer si un personne va se faire vacciner ou non (pour le H1N1) selon ses informations. Le dataset est basé sur des personnes basées aux USA.\n"
   ]
  },
  {
   "cell_type": "markdown",
   "metadata": {
    "pycharm": {
     "name": "#%% md\n"
    }
   },
   "source": [
    "# Préparation des données"
   ]
  },
  {
   "cell_type": "code",
   "execution_count": 1,
   "metadata": {
    "id": "ipk8QZzX4fNy",
    "pycharm": {
     "name": "#%%\n"
    }
   },
   "outputs": [],
   "source": [
    "import numpy as np\n",
    "import matplotlib.pyplot as plt\n",
    "import seaborn as sns\n",
    "import pandas as pd\n",
    "#pd.set_option('max_columns', None)"
   ]
  },
  {
   "cell_type": "code",
   "execution_count": 2,
   "metadata": {
    "colab": {
     "base_uri": "https://localhost:8080/"
    },
    "id": "zNP2XYnw4oge",
    "outputId": "312fd33d-636d-4c81-ad73-dfc88869ae1f",
    "pycharm": {
     "name": "#%%\n"
    }
   },
   "outputs": [
    {
     "name": "stderr",
     "output_type": "stream",
     "text": [
      "D:\\ESGI\\5AL\\ML\\ML-TP\\venv\\lib\\site-packages\\IPython\\core\\interactiveshell.py:3369: FutureWarning: In a future version of pandas all arguments of read_csv except for the argument 'filepath_or_buffer' will be keyword-only.\n",
      "  exec(code_obj, self.user_global_ns, self.user_ns)\n"
     ]
    }
   ],
   "source": [
    "raw_data = pd.read_csv(\"input/training_set_features.csv\", \",\")"
   ]
  },
  {
   "cell_type": "code",
   "execution_count": 3,
   "metadata": {
    "colab": {
     "base_uri": "https://localhost:8080/",
     "height": 206
    },
    "id": "NtSLAL4446bT",
    "outputId": "631a1c55-8531-44b0-b6c1-0edbb4fe1490",
    "pycharm": {
     "name": "#%%\n"
    },
    "scrolled": true
   },
   "outputs": [
    {
     "data": {
      "text/html": [
       "<div>\n",
       "<style scoped>\n",
       "    .dataframe tbody tr th:only-of-type {\n",
       "        vertical-align: middle;\n",
       "    }\n",
       "\n",
       "    .dataframe tbody tr th {\n",
       "        vertical-align: top;\n",
       "    }\n",
       "\n",
       "    .dataframe thead th {\n",
       "        text-align: right;\n",
       "    }\n",
       "</style>\n",
       "<table border=\"1\" class=\"dataframe\">\n",
       "  <thead>\n",
       "    <tr style=\"text-align: right;\">\n",
       "      <th></th>\n",
       "      <th>respondent_id</th>\n",
       "      <th>h1n1_concern</th>\n",
       "      <th>h1n1_knowledge</th>\n",
       "      <th>behavioral_antiviral_meds</th>\n",
       "      <th>behavioral_avoidance</th>\n",
       "      <th>behavioral_face_mask</th>\n",
       "      <th>behavioral_wash_hands</th>\n",
       "      <th>behavioral_large_gatherings</th>\n",
       "      <th>behavioral_outside_home</th>\n",
       "      <th>behavioral_touch_face</th>\n",
       "      <th>...</th>\n",
       "      <th>income_poverty</th>\n",
       "      <th>marital_status</th>\n",
       "      <th>rent_or_own</th>\n",
       "      <th>employment_status</th>\n",
       "      <th>hhs_geo_region</th>\n",
       "      <th>census_msa</th>\n",
       "      <th>household_adults</th>\n",
       "      <th>household_children</th>\n",
       "      <th>employment_industry</th>\n",
       "      <th>employment_occupation</th>\n",
       "    </tr>\n",
       "  </thead>\n",
       "  <tbody>\n",
       "    <tr>\n",
       "      <th>0</th>\n",
       "      <td>0</td>\n",
       "      <td>1.0</td>\n",
       "      <td>0.0</td>\n",
       "      <td>0.0</td>\n",
       "      <td>0.0</td>\n",
       "      <td>0.0</td>\n",
       "      <td>0.0</td>\n",
       "      <td>0.0</td>\n",
       "      <td>1.0</td>\n",
       "      <td>1.0</td>\n",
       "      <td>...</td>\n",
       "      <td>Below Poverty</td>\n",
       "      <td>Not Married</td>\n",
       "      <td>Own</td>\n",
       "      <td>Not in Labor Force</td>\n",
       "      <td>oxchjgsf</td>\n",
       "      <td>Non-MSA</td>\n",
       "      <td>0.0</td>\n",
       "      <td>0.0</td>\n",
       "      <td>NaN</td>\n",
       "      <td>NaN</td>\n",
       "    </tr>\n",
       "    <tr>\n",
       "      <th>1</th>\n",
       "      <td>1</td>\n",
       "      <td>3.0</td>\n",
       "      <td>2.0</td>\n",
       "      <td>0.0</td>\n",
       "      <td>1.0</td>\n",
       "      <td>0.0</td>\n",
       "      <td>1.0</td>\n",
       "      <td>0.0</td>\n",
       "      <td>1.0</td>\n",
       "      <td>1.0</td>\n",
       "      <td>...</td>\n",
       "      <td>Below Poverty</td>\n",
       "      <td>Not Married</td>\n",
       "      <td>Rent</td>\n",
       "      <td>Employed</td>\n",
       "      <td>bhuqouqj</td>\n",
       "      <td>MSA, Not Principle  City</td>\n",
       "      <td>0.0</td>\n",
       "      <td>0.0</td>\n",
       "      <td>pxcmvdjn</td>\n",
       "      <td>xgwztkwe</td>\n",
       "    </tr>\n",
       "    <tr>\n",
       "      <th>2</th>\n",
       "      <td>2</td>\n",
       "      <td>1.0</td>\n",
       "      <td>1.0</td>\n",
       "      <td>0.0</td>\n",
       "      <td>1.0</td>\n",
       "      <td>0.0</td>\n",
       "      <td>0.0</td>\n",
       "      <td>0.0</td>\n",
       "      <td>0.0</td>\n",
       "      <td>0.0</td>\n",
       "      <td>...</td>\n",
       "      <td>&lt;= $75,000, Above Poverty</td>\n",
       "      <td>Not Married</td>\n",
       "      <td>Own</td>\n",
       "      <td>Employed</td>\n",
       "      <td>qufhixun</td>\n",
       "      <td>MSA, Not Principle  City</td>\n",
       "      <td>2.0</td>\n",
       "      <td>0.0</td>\n",
       "      <td>rucpziij</td>\n",
       "      <td>xtkaffoo</td>\n",
       "    </tr>\n",
       "    <tr>\n",
       "      <th>3</th>\n",
       "      <td>3</td>\n",
       "      <td>1.0</td>\n",
       "      <td>1.0</td>\n",
       "      <td>0.0</td>\n",
       "      <td>1.0</td>\n",
       "      <td>0.0</td>\n",
       "      <td>1.0</td>\n",
       "      <td>1.0</td>\n",
       "      <td>0.0</td>\n",
       "      <td>0.0</td>\n",
       "      <td>...</td>\n",
       "      <td>Below Poverty</td>\n",
       "      <td>Not Married</td>\n",
       "      <td>Rent</td>\n",
       "      <td>Not in Labor Force</td>\n",
       "      <td>lrircsnp</td>\n",
       "      <td>MSA, Principle City</td>\n",
       "      <td>0.0</td>\n",
       "      <td>0.0</td>\n",
       "      <td>NaN</td>\n",
       "      <td>NaN</td>\n",
       "    </tr>\n",
       "    <tr>\n",
       "      <th>4</th>\n",
       "      <td>4</td>\n",
       "      <td>2.0</td>\n",
       "      <td>1.0</td>\n",
       "      <td>0.0</td>\n",
       "      <td>1.0</td>\n",
       "      <td>0.0</td>\n",
       "      <td>1.0</td>\n",
       "      <td>1.0</td>\n",
       "      <td>0.0</td>\n",
       "      <td>1.0</td>\n",
       "      <td>...</td>\n",
       "      <td>&lt;= $75,000, Above Poverty</td>\n",
       "      <td>Married</td>\n",
       "      <td>Own</td>\n",
       "      <td>Employed</td>\n",
       "      <td>qufhixun</td>\n",
       "      <td>MSA, Not Principle  City</td>\n",
       "      <td>1.0</td>\n",
       "      <td>0.0</td>\n",
       "      <td>wxleyezf</td>\n",
       "      <td>emcorrxb</td>\n",
       "    </tr>\n",
       "  </tbody>\n",
       "</table>\n",
       "<p>5 rows × 36 columns</p>\n",
       "</div>"
      ],
      "text/plain": [
       "   respondent_id  h1n1_concern  h1n1_knowledge  behavioral_antiviral_meds  \\\n",
       "0              0           1.0             0.0                        0.0   \n",
       "1              1           3.0             2.0                        0.0   \n",
       "2              2           1.0             1.0                        0.0   \n",
       "3              3           1.0             1.0                        0.0   \n",
       "4              4           2.0             1.0                        0.0   \n",
       "\n",
       "   behavioral_avoidance  behavioral_face_mask  behavioral_wash_hands  \\\n",
       "0                   0.0                   0.0                    0.0   \n",
       "1                   1.0                   0.0                    1.0   \n",
       "2                   1.0                   0.0                    0.0   \n",
       "3                   1.0                   0.0                    1.0   \n",
       "4                   1.0                   0.0                    1.0   \n",
       "\n",
       "   behavioral_large_gatherings  behavioral_outside_home  \\\n",
       "0                          0.0                      1.0   \n",
       "1                          0.0                      1.0   \n",
       "2                          0.0                      0.0   \n",
       "3                          1.0                      0.0   \n",
       "4                          1.0                      0.0   \n",
       "\n",
       "   behavioral_touch_face  ...             income_poverty  marital_status  \\\n",
       "0                    1.0  ...              Below Poverty     Not Married   \n",
       "1                    1.0  ...              Below Poverty     Not Married   \n",
       "2                    0.0  ...  <= $75,000, Above Poverty     Not Married   \n",
       "3                    0.0  ...              Below Poverty     Not Married   \n",
       "4                    1.0  ...  <= $75,000, Above Poverty         Married   \n",
       "\n",
       "   rent_or_own   employment_status  hhs_geo_region                census_msa  \\\n",
       "0          Own  Not in Labor Force        oxchjgsf                   Non-MSA   \n",
       "1         Rent            Employed        bhuqouqj  MSA, Not Principle  City   \n",
       "2          Own            Employed        qufhixun  MSA, Not Principle  City   \n",
       "3         Rent  Not in Labor Force        lrircsnp       MSA, Principle City   \n",
       "4          Own            Employed        qufhixun  MSA, Not Principle  City   \n",
       "\n",
       "   household_adults  household_children  employment_industry  \\\n",
       "0               0.0                 0.0                  NaN   \n",
       "1               0.0                 0.0             pxcmvdjn   \n",
       "2               2.0                 0.0             rucpziij   \n",
       "3               0.0                 0.0                  NaN   \n",
       "4               1.0                 0.0             wxleyezf   \n",
       "\n",
       "   employment_occupation  \n",
       "0                    NaN  \n",
       "1               xgwztkwe  \n",
       "2               xtkaffoo  \n",
       "3                    NaN  \n",
       "4               emcorrxb  \n",
       "\n",
       "[5 rows x 36 columns]"
      ]
     },
     "execution_count": 3,
     "metadata": {},
     "output_type": "execute_result"
    }
   ],
   "source": [
    "# Regarder dans la base\n",
    "raw_data.head() # afficher les 5 premières lignes"
   ]
  },
  {
   "cell_type": "code",
   "execution_count": 4,
   "metadata": {
    "colab": {
     "base_uri": "https://localhost:8080/"
    },
    "id": "qSS01mSF5E0P",
    "outputId": "36a6a8c3-af5d-40ad-ce71-c9fc72b3545b",
    "pycharm": {
     "name": "#%%\n"
    }
   },
   "outputs": [
    {
     "name": "stdout",
     "output_type": "stream",
     "text": [
      "(26707, 36)\n",
      "<class 'pandas.core.frame.DataFrame'>\n",
      "RangeIndex: 26707 entries, 0 to 26706\n",
      "Data columns (total 36 columns):\n",
      " #   Column                       Non-Null Count  Dtype  \n",
      "---  ------                       --------------  -----  \n",
      " 0   respondent_id                26707 non-null  int64  \n",
      " 1   h1n1_concern                 26615 non-null  float64\n",
      " 2   h1n1_knowledge               26591 non-null  float64\n",
      " 3   behavioral_antiviral_meds    26636 non-null  float64\n",
      " 4   behavioral_avoidance         26499 non-null  float64\n",
      " 5   behavioral_face_mask         26688 non-null  float64\n",
      " 6   behavioral_wash_hands        26665 non-null  float64\n",
      " 7   behavioral_large_gatherings  26620 non-null  float64\n",
      " 8   behavioral_outside_home      26625 non-null  float64\n",
      " 9   behavioral_touch_face        26579 non-null  float64\n",
      " 10  doctor_recc_h1n1             24547 non-null  float64\n",
      " 11  doctor_recc_seasonal         24547 non-null  float64\n",
      " 12  chronic_med_condition        25736 non-null  float64\n",
      " 13  child_under_6_months         25887 non-null  float64\n",
      " 14  health_worker                25903 non-null  float64\n",
      " 15  health_insurance             14433 non-null  float64\n",
      " 16  opinion_h1n1_vacc_effective  26316 non-null  float64\n",
      " 17  opinion_h1n1_risk            26319 non-null  float64\n",
      " 18  opinion_h1n1_sick_from_vacc  26312 non-null  float64\n",
      " 19  opinion_seas_vacc_effective  26245 non-null  float64\n",
      " 20  opinion_seas_risk            26193 non-null  float64\n",
      " 21  opinion_seas_sick_from_vacc  26170 non-null  float64\n",
      " 22  age_group                    26707 non-null  object \n",
      " 23  education                    25300 non-null  object \n",
      " 24  race                         26707 non-null  object \n",
      " 25  sex                          26707 non-null  object \n",
      " 26  income_poverty               22284 non-null  object \n",
      " 27  marital_status               25299 non-null  object \n",
      " 28  rent_or_own                  24665 non-null  object \n",
      " 29  employment_status            25244 non-null  object \n",
      " 30  hhs_geo_region               26707 non-null  object \n",
      " 31  census_msa                   26707 non-null  object \n",
      " 32  household_adults             26458 non-null  float64\n",
      " 33  household_children           26458 non-null  float64\n",
      " 34  employment_industry          13377 non-null  object \n",
      " 35  employment_occupation        13237 non-null  object \n",
      "dtypes: float64(23), int64(1), object(12)\n",
      "memory usage: 7.3+ MB\n"
     ]
    }
   ],
   "source": [
    "print(raw_data.shape)\n",
    "raw_data.info()"
   ]
  },
  {
   "cell_type": "markdown",
   "metadata": {},
   "source": [
    "Après étude nous devons effectuer les traitements suivants sur le dataset : \n",
    "* Suppression de la colonne \"respondent_id\".\n",
    "* Cast des colonnes objets en String."
   ]
  },
  {
   "cell_type": "code",
   "execution_count": 5,
   "metadata": {
    "pycharm": {
     "name": "#%%\n"
    }
   },
   "outputs": [
    {
     "name": "stderr",
     "output_type": "stream",
     "text": [
      "D:\\ESGI\\5AL\\ML\\ML-TP\\venv\\lib\\site-packages\\IPython\\core\\interactiveshell.py:3369: FutureWarning: In a future version of pandas all arguments of read_csv except for the argument 'filepath_or_buffer' will be keyword-only.\n",
      "  exec(code_obj, self.user_global_ns, self.user_ns)\n"
     ]
    }
   ],
   "source": [
    "# Chargement de la target\n",
    "raw_y = pd.read_csv(\"input/training_set_labels.csv\", \",\")"
   ]
  },
  {
   "cell_type": "code",
   "execution_count": 6,
   "metadata": {
    "pycharm": {
     "name": "#%%\n"
    }
   },
   "outputs": [
    {
     "name": "stdout",
     "output_type": "stream",
     "text": [
      "(26707, 3)\n",
      "<class 'pandas.core.frame.DataFrame'>\n",
      "RangeIndex: 26707 entries, 0 to 26706\n",
      "Data columns (total 3 columns):\n",
      " #   Column            Non-Null Count  Dtype\n",
      "---  ------            --------------  -----\n",
      " 0   respondent_id     26707 non-null  int64\n",
      " 1   h1n1_vaccine      26707 non-null  int64\n",
      " 2   seasonal_vaccine  26707 non-null  int64\n",
      "dtypes: int64(3)\n",
      "memory usage: 626.1 KB\n"
     ]
    }
   ],
   "source": [
    "print(raw_y.shape)\n",
    "raw_y.info()"
   ]
  },
  {
   "cell_type": "markdown",
   "metadata": {},
   "source": [
    "Après étude nous devons effectuer les traitements suivants sur le dataset : \n",
    "* Suppression des colonnes suivantes => respondent_id, seasonal_vaccine"
   ]
  },
  {
   "cell_type": "code",
   "execution_count": 7,
   "metadata": {
    "pycharm": {
     "name": "#%%\n"
    }
   },
   "outputs": [],
   "source": [
    "remove_list = ['respondent_id', 'seasonal_vaccine']\n",
    "y = raw_y.drop(columns=remove_list)\n",
    "raw_data = raw_data.drop(columns=['respondent_id']) "
   ]
  },
  {
   "cell_type": "code",
   "execution_count": 8,
   "metadata": {
    "pycharm": {
     "name": "#%%\n"
    }
   },
   "outputs": [
    {
     "name": "stdout",
     "output_type": "stream",
     "text": [
      "<class 'pandas.core.frame.DataFrame'>\n",
      "RangeIndex: 26707 entries, 0 to 26706\n",
      "Data columns (total 1 columns):\n",
      " #   Column        Non-Null Count  Dtype\n",
      "---  ------        --------------  -----\n",
      " 0   h1n1_vaccine  26707 non-null  int64\n",
      "dtypes: int64(1)\n",
      "memory usage: 208.8 KB\n"
     ]
    }
   ],
   "source": [
    "y.info()"
   ]
  },
  {
   "cell_type": "code",
   "execution_count": 9,
   "metadata": {
    "pycharm": {
     "name": "#%%\n"
    }
   },
   "outputs": [
    {
     "name": "stdout",
     "output_type": "stream",
     "text": [
      "<class 'pandas.core.frame.DataFrame'>\n",
      "RangeIndex: 26707 entries, 0 to 26706\n",
      "Data columns (total 35 columns):\n",
      " #   Column                       Non-Null Count  Dtype  \n",
      "---  ------                       --------------  -----  \n",
      " 0   h1n1_concern                 26615 non-null  float64\n",
      " 1   h1n1_knowledge               26591 non-null  float64\n",
      " 2   behavioral_antiviral_meds    26636 non-null  float64\n",
      " 3   behavioral_avoidance         26499 non-null  float64\n",
      " 4   behavioral_face_mask         26688 non-null  float64\n",
      " 5   behavioral_wash_hands        26665 non-null  float64\n",
      " 6   behavioral_large_gatherings  26620 non-null  float64\n",
      " 7   behavioral_outside_home      26625 non-null  float64\n",
      " 8   behavioral_touch_face        26579 non-null  float64\n",
      " 9   doctor_recc_h1n1             24547 non-null  float64\n",
      " 10  doctor_recc_seasonal         24547 non-null  float64\n",
      " 11  chronic_med_condition        25736 non-null  float64\n",
      " 12  child_under_6_months         25887 non-null  float64\n",
      " 13  health_worker                25903 non-null  float64\n",
      " 14  health_insurance             14433 non-null  float64\n",
      " 15  opinion_h1n1_vacc_effective  26316 non-null  float64\n",
      " 16  opinion_h1n1_risk            26319 non-null  float64\n",
      " 17  opinion_h1n1_sick_from_vacc  26312 non-null  float64\n",
      " 18  opinion_seas_vacc_effective  26245 non-null  float64\n",
      " 19  opinion_seas_risk            26193 non-null  float64\n",
      " 20  opinion_seas_sick_from_vacc  26170 non-null  float64\n",
      " 21  age_group                    26707 non-null  object \n",
      " 22  education                    25300 non-null  object \n",
      " 23  race                         26707 non-null  object \n",
      " 24  sex                          26707 non-null  object \n",
      " 25  income_poverty               22284 non-null  object \n",
      " 26  marital_status               25299 non-null  object \n",
      " 27  rent_or_own                  24665 non-null  object \n",
      " 28  employment_status            25244 non-null  object \n",
      " 29  hhs_geo_region               26707 non-null  object \n",
      " 30  census_msa                   26707 non-null  object \n",
      " 31  household_adults             26458 non-null  float64\n",
      " 32  household_children           26458 non-null  float64\n",
      " 33  employment_industry          13377 non-null  object \n",
      " 34  employment_occupation        13237 non-null  object \n",
      "dtypes: float64(23), object(12)\n",
      "memory usage: 7.1+ MB\n"
     ]
    }
   ],
   "source": [
    "raw_data.info()"
   ]
  },
  {
   "cell_type": "markdown",
   "metadata": {},
   "source": [
    "## Conversion des types objets en string."
   ]
  },
  {
   "cell_type": "code",
   "execution_count": 10,
   "metadata": {},
   "outputs": [
    {
     "data": {
      "text/plain": [
       "Index(['age_group', 'education', 'race', 'sex', 'income_poverty',\n",
       "       'marital_status', 'rent_or_own', 'employment_status', 'hhs_geo_region',\n",
       "       'census_msa', 'employment_industry', 'employment_occupation'],\n",
       "      dtype='object')"
      ]
     },
     "execution_count": 10,
     "metadata": {},
     "output_type": "execute_result"
    }
   ],
   "source": [
    "# récupérer les colonnes à convertir\n",
    "stringcols = raw_data.select_dtypes(include='object').columns\n",
    "stringcols"
   ]
  },
  {
   "cell_type": "code",
   "execution_count": 11,
   "metadata": {},
   "outputs": [
    {
     "name": "stdout",
     "output_type": "stream",
     "text": [
      "<class 'pandas.core.frame.DataFrame'>\n",
      "RangeIndex: 26707 entries, 0 to 26706\n",
      "Data columns (total 35 columns):\n",
      " #   Column                       Non-Null Count  Dtype  \n",
      "---  ------                       --------------  -----  \n",
      " 0   h1n1_concern                 26615 non-null  float64\n",
      " 1   h1n1_knowledge               26591 non-null  float64\n",
      " 2   behavioral_antiviral_meds    26636 non-null  float64\n",
      " 3   behavioral_avoidance         26499 non-null  float64\n",
      " 4   behavioral_face_mask         26688 non-null  float64\n",
      " 5   behavioral_wash_hands        26665 non-null  float64\n",
      " 6   behavioral_large_gatherings  26620 non-null  float64\n",
      " 7   behavioral_outside_home      26625 non-null  float64\n",
      " 8   behavioral_touch_face        26579 non-null  float64\n",
      " 9   doctor_recc_h1n1             24547 non-null  float64\n",
      " 10  doctor_recc_seasonal         24547 non-null  float64\n",
      " 11  chronic_med_condition        25736 non-null  float64\n",
      " 12  child_under_6_months         25887 non-null  float64\n",
      " 13  health_worker                25903 non-null  float64\n",
      " 14  health_insurance             14433 non-null  float64\n",
      " 15  opinion_h1n1_vacc_effective  26316 non-null  float64\n",
      " 16  opinion_h1n1_risk            26319 non-null  float64\n",
      " 17  opinion_h1n1_sick_from_vacc  26312 non-null  float64\n",
      " 18  opinion_seas_vacc_effective  26245 non-null  float64\n",
      " 19  opinion_seas_risk            26193 non-null  float64\n",
      " 20  opinion_seas_sick_from_vacc  26170 non-null  float64\n",
      " 21  age_group                    26707 non-null  string \n",
      " 22  education                    26707 non-null  string \n",
      " 23  race                         26707 non-null  string \n",
      " 24  sex                          26707 non-null  string \n",
      " 25  income_poverty               26707 non-null  string \n",
      " 26  marital_status               26707 non-null  string \n",
      " 27  rent_or_own                  26707 non-null  string \n",
      " 28  employment_status            26707 non-null  string \n",
      " 29  hhs_geo_region               26707 non-null  string \n",
      " 30  census_msa                   26707 non-null  string \n",
      " 31  household_adults             26458 non-null  float64\n",
      " 32  household_children           26458 non-null  float64\n",
      " 33  employment_industry          26707 non-null  string \n",
      " 34  employment_occupation        26707 non-null  string \n",
      "dtypes: float64(23), string(12)\n",
      "memory usage: 7.1 MB\n"
     ]
    }
   ],
   "source": [
    "raw_data_conv = raw_data.copy()\n",
    "raw_data_conv[stringcols] = raw_data_conv[stringcols].astype(str)\n",
    "raw_data_conv[stringcols] = raw_data_conv[stringcols].astype(\"string\")\n",
    "raw_data_conv[stringcols] = raw_data_conv[stringcols].replace({pd.NA: np.nan})\n",
    "raw_data_conv.info()"
   ]
  },
  {
   "cell_type": "markdown",
   "metadata": {},
   "source": [
    "Nous avons maintenant une target propre et un dataset correctement typé."
   ]
  },
  {
   "cell_type": "markdown",
   "metadata": {
    "pycharm": {
     "name": "#%% md\n"
    }
   },
   "source": [
    "## Recherche des valeurs manquantes"
   ]
  },
  {
   "cell_type": "code",
   "execution_count": 12,
   "metadata": {
    "pycharm": {
     "name": "#%%\n"
    }
   },
   "outputs": [
    {
     "name": "stdout",
     "output_type": "stream",
     "text": [
      "employment_occupation          13470\n",
      "employment_industry            13330\n",
      "health_insurance               12274\n",
      "income_poverty                  4423\n",
      "doctor_recc_h1n1                2160\n",
      "doctor_recc_seasonal            2160\n",
      "rent_or_own                     2042\n",
      "employment_status               1463\n",
      "marital_status                  1408\n",
      "education                       1407\n",
      "chronic_med_condition            971\n",
      "child_under_6_months             820\n",
      "health_worker                    804\n",
      "opinion_seas_sick_from_vacc      537\n",
      "opinion_seas_risk                514\n",
      "opinion_seas_vacc_effective      462\n",
      "opinion_h1n1_sick_from_vacc      395\n",
      "opinion_h1n1_vacc_effective      391\n",
      "opinion_h1n1_risk                388\n",
      "household_children               249\n",
      "household_adults                 249\n",
      "behavioral_avoidance             208\n",
      "behavioral_touch_face            128\n",
      "h1n1_knowledge                   116\n",
      "h1n1_concern                      92\n",
      "behavioral_large_gatherings       87\n",
      "behavioral_outside_home           82\n",
      "behavioral_antiviral_meds         71\n",
      "behavioral_wash_hands             42\n",
      "behavioral_face_mask              19\n",
      "sex                                0\n",
      "race                               0\n",
      "hhs_geo_region                     0\n",
      "census_msa                         0\n",
      "age_group                          0\n",
      "dtype: int64\n"
     ]
    }
   ],
   "source": [
    "# nombre de valeurs manquantes\n",
    "print(raw_data.isnull().sum().sort_values(ascending=False))"
   ]
  },
  {
   "cell_type": "code",
   "execution_count": 13,
   "metadata": {},
   "outputs": [
    {
     "name": "stdout",
     "output_type": "stream",
     "text": [
      "employment_occupation          0.504362\n",
      "employment_industry            0.499120\n",
      "health_insurance               0.459580\n",
      "income_poverty                 0.165612\n",
      "doctor_recc_h1n1               0.080878\n",
      "doctor_recc_seasonal           0.080878\n",
      "rent_or_own                    0.076459\n",
      "employment_status              0.054780\n",
      "marital_status                 0.052720\n",
      "education                      0.052683\n",
      "chronic_med_condition          0.036358\n",
      "child_under_6_months           0.030704\n",
      "health_worker                  0.030104\n",
      "opinion_seas_sick_from_vacc    0.020107\n",
      "opinion_seas_risk              0.019246\n",
      "opinion_seas_vacc_effective    0.017299\n",
      "opinion_h1n1_sick_from_vacc    0.014790\n",
      "opinion_h1n1_vacc_effective    0.014640\n",
      "opinion_h1n1_risk              0.014528\n",
      "household_children             0.009323\n",
      "household_adults               0.009323\n",
      "behavioral_avoidance           0.007788\n",
      "behavioral_touch_face          0.004793\n",
      "h1n1_knowledge                 0.004343\n",
      "h1n1_concern                   0.003445\n",
      "behavioral_large_gatherings    0.003258\n",
      "behavioral_outside_home        0.003070\n",
      "behavioral_antiviral_meds      0.002658\n",
      "behavioral_wash_hands          0.001573\n",
      "behavioral_face_mask           0.000711\n",
      "sex                            0.000000\n",
      "race                           0.000000\n",
      "hhs_geo_region                 0.000000\n",
      "census_msa                     0.000000\n",
      "age_group                      0.000000\n",
      "dtype: float64\n"
     ]
    }
   ],
   "source": [
    "# Proportion de valeurs manquantes\n",
    "print(raw_data.isnull().mean().sort_values(ascending=False))"
   ]
  },
  {
   "cell_type": "markdown",
   "metadata": {
    "pycharm": {
     "name": "#%% md\n"
    }
   },
   "source": [
    "Après analyse, nous avons 3 colonnes avec un fort taux de données manquantes (employment_occupation, employment_industry, health_insurance).\n",
    "\n",
    "\n",
    "Ce sont des informations qui nous semblent très importantes, néanmoins du fait des 50% de données manquantes nous devons les supprimer. Etant donné qu'aux USA les personnes n'ont pas d'assurance maladie la colonne health_insurance ne nous semble pas pertinente."
   ]
  },
  {
   "cell_type": "code",
   "execution_count": 14,
   "metadata": {
    "pycharm": {
     "name": "#%%\n"
    }
   },
   "outputs": [],
   "source": [
    "# Suppression \n",
    "remove_cant_impute_list = ['employment_occupation', 'employment_industry', 'health_insurance']\n",
    "raw_data = raw_data.drop(columns=remove_cant_impute_list)"
   ]
  },
  {
   "cell_type": "markdown",
   "metadata": {
    "pycharm": {
     "name": "#%% md\n"
    }
   },
   "source": [
    "# Imputation & Sélection des variables explicatives"
   ]
  },
  {
   "cell_type": "markdown",
   "metadata": {
    "pycharm": {
     "name": "#%% md\n"
    }
   },
   "source": [
    "### Imputation"
   ]
  },
  {
   "cell_type": "markdown",
   "metadata": {
    "pycharm": {
     "name": "#%% md\n"
    }
   },
   "source": [
    "Après analyse des valeures manquantes : \n",
    "* Toutes les valeurs sont catégorielles, donc on va les imputer par leur mode (valeure la plus fréquente)"
   ]
  },
  {
   "cell_type": "code",
   "execution_count": 15,
   "metadata": {
    "pycharm": {
     "name": "#%%\n"
    }
   },
   "outputs": [
    {
     "name": "stderr",
     "output_type": "stream",
     "text": [
      "D:\\ESGI\\5AL\\ML\\ML-TP\\venv\\lib\\site-packages\\sklearn\\base.py:450: UserWarning: X does not have valid feature names, but SimpleImputer was fitted with feature names\n",
      "  warnings.warn(\n"
     ]
    },
    {
     "name": "stdout",
     "output_type": "stream",
     "text": [
      "      h1n1_concern h1n1_knowledge behavioral_antiviral_meds  \\\n",
      "0              1.0            0.0                       0.0   \n",
      "1              3.0            2.0                       0.0   \n",
      "2              1.0            1.0                       0.0   \n",
      "3              1.0            1.0                       0.0   \n",
      "4              2.0            1.0                       0.0   \n",
      "...            ...            ...                       ...   \n",
      "26702          2.0            0.0                       0.0   \n",
      "26703          1.0            2.0                       0.0   \n",
      "26704          2.0            2.0                       0.0   \n",
      "26705          1.0            1.0                       0.0   \n",
      "26706          0.0            0.0                       0.0   \n",
      "\n",
      "      behavioral_avoidance behavioral_face_mask behavioral_wash_hands  \\\n",
      "0                      0.0                  0.0                   0.0   \n",
      "1                      1.0                  0.0                   1.0   \n",
      "2                      1.0                  0.0                   0.0   \n",
      "3                      1.0                  0.0                   1.0   \n",
      "4                      1.0                  0.0                   1.0   \n",
      "...                    ...                  ...                   ...   \n",
      "26702                  1.0                  0.0                   0.0   \n",
      "26703                  1.0                  0.0                   1.0   \n",
      "26704                  1.0                  1.0                   1.0   \n",
      "26705                  0.0                  0.0                   0.0   \n",
      "26706                  1.0                  0.0                   0.0   \n",
      "\n",
      "      behavioral_large_gatherings behavioral_outside_home  \\\n",
      "0                             0.0                     1.0   \n",
      "1                             0.0                     1.0   \n",
      "2                             0.0                     0.0   \n",
      "3                             1.0                     0.0   \n",
      "4                             1.0                     0.0   \n",
      "...                           ...                     ...   \n",
      "26702                         0.0                     1.0   \n",
      "26703                         0.0                     0.0   \n",
      "26704                         1.0                     0.0   \n",
      "26705                         0.0                     0.0   \n",
      "26706                         0.0                     0.0   \n",
      "\n",
      "      behavioral_touch_face doctor_recc_h1n1  ...      race     sex  \\\n",
      "0                       1.0              0.0  ...     White  Female   \n",
      "1                       1.0              0.0  ...     White    Male   \n",
      "2                       0.0              0.0  ...     White    Male   \n",
      "3                       0.0              0.0  ...     White  Female   \n",
      "4                       1.0              0.0  ...     White  Female   \n",
      "...                     ...              ...  ...       ...     ...   \n",
      "26702                   0.0              0.0  ...     White  Female   \n",
      "26703                   0.0              1.0  ...     White    Male   \n",
      "26704                   1.0              0.0  ...     White  Female   \n",
      "26705                   1.0              0.0  ...  Hispanic  Female   \n",
      "26706                   0.0              0.0  ...     White    Male   \n",
      "\n",
      "                  income_poverty marital_status rent_or_own  \\\n",
      "0                  Below Poverty    Not Married         Own   \n",
      "1                  Below Poverty    Not Married        Rent   \n",
      "2      <= $75,000, Above Poverty    Not Married         Own   \n",
      "3                  Below Poverty    Not Married        Rent   \n",
      "4      <= $75,000, Above Poverty        Married         Own   \n",
      "...                          ...            ...         ...   \n",
      "26702  <= $75,000, Above Poverty    Not Married         Own   \n",
      "26703  <= $75,000, Above Poverty    Not Married        Rent   \n",
      "26704  <= $75,000, Above Poverty    Not Married         Own   \n",
      "26705  <= $75,000, Above Poverty        Married        Rent   \n",
      "26706  <= $75,000, Above Poverty        Married         Own   \n",
      "\n",
      "        employment_status hhs_geo_region                census_msa  \\\n",
      "0      Not in Labor Force       oxchjgsf                   Non-MSA   \n",
      "1                Employed       bhuqouqj  MSA, Not Principle  City   \n",
      "2                Employed       qufhixun  MSA, Not Principle  City   \n",
      "3      Not in Labor Force       lrircsnp       MSA, Principle City   \n",
      "4                Employed       qufhixun  MSA, Not Principle  City   \n",
      "...                   ...            ...                       ...   \n",
      "26702  Not in Labor Force       qufhixun                   Non-MSA   \n",
      "26703            Employed       lzgpxyit       MSA, Principle City   \n",
      "26704            Employed       lzgpxyit  MSA, Not Principle  City   \n",
      "26705            Employed       lrircsnp                   Non-MSA   \n",
      "26706  Not in Labor Force       mlyzmhmf       MSA, Principle City   \n",
      "\n",
      "      household_adults household_children  \n",
      "0                  0.0                0.0  \n",
      "1                  0.0                0.0  \n",
      "2                  2.0                0.0  \n",
      "3                  0.0                0.0  \n",
      "4                  1.0                0.0  \n",
      "...                ...                ...  \n",
      "26702              0.0                0.0  \n",
      "26703              1.0                0.0  \n",
      "26704              0.0                0.0  \n",
      "26705              1.0                0.0  \n",
      "26706              1.0                0.0  \n",
      "\n",
      "[26707 rows x 32 columns]\n",
      "<class 'pandas.core.frame.DataFrame'>\n",
      "RangeIndex: 26707 entries, 0 to 26706\n",
      "Data columns (total 32 columns):\n",
      " #   Column                       Non-Null Count  Dtype \n",
      "---  ------                       --------------  ----- \n",
      " 0   h1n1_concern                 26707 non-null  object\n",
      " 1   h1n1_knowledge               26707 non-null  object\n",
      " 2   behavioral_antiviral_meds    26707 non-null  object\n",
      " 3   behavioral_avoidance         26707 non-null  object\n",
      " 4   behavioral_face_mask         26707 non-null  object\n",
      " 5   behavioral_wash_hands        26707 non-null  object\n",
      " 6   behavioral_large_gatherings  26707 non-null  object\n",
      " 7   behavioral_outside_home      26707 non-null  object\n",
      " 8   behavioral_touch_face        26707 non-null  object\n",
      " 9   doctor_recc_h1n1             26707 non-null  object\n",
      " 10  doctor_recc_seasonal         26707 non-null  object\n",
      " 11  chronic_med_condition        26707 non-null  object\n",
      " 12  child_under_6_months         26707 non-null  object\n",
      " 13  health_worker                26707 non-null  object\n",
      " 14  opinion_h1n1_vacc_effective  26707 non-null  object\n",
      " 15  opinion_h1n1_risk            26707 non-null  object\n",
      " 16  opinion_h1n1_sick_from_vacc  26707 non-null  object\n",
      " 17  opinion_seas_vacc_effective  26707 non-null  object\n",
      " 18  opinion_seas_risk            26707 non-null  object\n",
      " 19  opinion_seas_sick_from_vacc  26707 non-null  object\n",
      " 20  age_group                    26707 non-null  object\n",
      " 21  education                    26707 non-null  object\n",
      " 22  race                         26707 non-null  object\n",
      " 23  sex                          26707 non-null  object\n",
      " 24  income_poverty               26707 non-null  object\n",
      " 25  marital_status               26707 non-null  object\n",
      " 26  rent_or_own                  26707 non-null  object\n",
      " 27  employment_status            26707 non-null  object\n",
      " 28  hhs_geo_region               26707 non-null  object\n",
      " 29  census_msa                   26707 non-null  object\n",
      " 30  household_adults             26707 non-null  object\n",
      " 31  household_children           26707 non-null  object\n",
      "dtypes: object(32)\n",
      "memory usage: 6.5+ MB\n",
      "None\n"
     ]
    },
    {
     "data": {
      "text/html": [
       "<div>\n",
       "<style scoped>\n",
       "    .dataframe tbody tr th:only-of-type {\n",
       "        vertical-align: middle;\n",
       "    }\n",
       "\n",
       "    .dataframe tbody tr th {\n",
       "        vertical-align: top;\n",
       "    }\n",
       "\n",
       "    .dataframe thead th {\n",
       "        text-align: right;\n",
       "    }\n",
       "</style>\n",
       "<table border=\"1\" class=\"dataframe\">\n",
       "  <thead>\n",
       "    <tr style=\"text-align: right;\">\n",
       "      <th></th>\n",
       "      <th>h1n1_concern</th>\n",
       "      <th>h1n1_knowledge</th>\n",
       "      <th>behavioral_antiviral_meds</th>\n",
       "      <th>behavioral_avoidance</th>\n",
       "      <th>behavioral_face_mask</th>\n",
       "      <th>behavioral_wash_hands</th>\n",
       "      <th>behavioral_large_gatherings</th>\n",
       "      <th>behavioral_outside_home</th>\n",
       "      <th>behavioral_touch_face</th>\n",
       "      <th>doctor_recc_h1n1</th>\n",
       "      <th>...</th>\n",
       "      <th>race</th>\n",
       "      <th>sex</th>\n",
       "      <th>income_poverty</th>\n",
       "      <th>marital_status</th>\n",
       "      <th>rent_or_own</th>\n",
       "      <th>employment_status</th>\n",
       "      <th>hhs_geo_region</th>\n",
       "      <th>census_msa</th>\n",
       "      <th>household_adults</th>\n",
       "      <th>household_children</th>\n",
       "    </tr>\n",
       "  </thead>\n",
       "  <tbody>\n",
       "    <tr>\n",
       "      <th>count</th>\n",
       "      <td>26707.0</td>\n",
       "      <td>26707.0</td>\n",
       "      <td>26707.0</td>\n",
       "      <td>26707.0</td>\n",
       "      <td>26707.0</td>\n",
       "      <td>26707.0</td>\n",
       "      <td>26707.0</td>\n",
       "      <td>26707.0</td>\n",
       "      <td>26707.0</td>\n",
       "      <td>26707.0</td>\n",
       "      <td>...</td>\n",
       "      <td>26707</td>\n",
       "      <td>26707</td>\n",
       "      <td>26707</td>\n",
       "      <td>26707</td>\n",
       "      <td>26707</td>\n",
       "      <td>26707</td>\n",
       "      <td>26707</td>\n",
       "      <td>26707</td>\n",
       "      <td>26707.0</td>\n",
       "      <td>26707.0</td>\n",
       "    </tr>\n",
       "    <tr>\n",
       "      <th>unique</th>\n",
       "      <td>4.0</td>\n",
       "      <td>3.0</td>\n",
       "      <td>2.0</td>\n",
       "      <td>2.0</td>\n",
       "      <td>2.0</td>\n",
       "      <td>2.0</td>\n",
       "      <td>2.0</td>\n",
       "      <td>2.0</td>\n",
       "      <td>2.0</td>\n",
       "      <td>2.0</td>\n",
       "      <td>...</td>\n",
       "      <td>4</td>\n",
       "      <td>2</td>\n",
       "      <td>3</td>\n",
       "      <td>2</td>\n",
       "      <td>2</td>\n",
       "      <td>3</td>\n",
       "      <td>10</td>\n",
       "      <td>3</td>\n",
       "      <td>4.0</td>\n",
       "      <td>4.0</td>\n",
       "    </tr>\n",
       "    <tr>\n",
       "      <th>top</th>\n",
       "      <td>2.0</td>\n",
       "      <td>1.0</td>\n",
       "      <td>0.0</td>\n",
       "      <td>1.0</td>\n",
       "      <td>0.0</td>\n",
       "      <td>1.0</td>\n",
       "      <td>0.0</td>\n",
       "      <td>0.0</td>\n",
       "      <td>1.0</td>\n",
       "      <td>0.0</td>\n",
       "      <td>...</td>\n",
       "      <td>White</td>\n",
       "      <td>Female</td>\n",
       "      <td>&lt;= $75,000, Above Poverty</td>\n",
       "      <td>Married</td>\n",
       "      <td>Own</td>\n",
       "      <td>Employed</td>\n",
       "      <td>lzgpxyit</td>\n",
       "      <td>MSA, Not Principle  City</td>\n",
       "      <td>1.0</td>\n",
       "      <td>0.0</td>\n",
       "    </tr>\n",
       "    <tr>\n",
       "      <th>freq</th>\n",
       "      <td>10667.0</td>\n",
       "      <td>14714.0</td>\n",
       "      <td>25406.0</td>\n",
       "      <td>19436.0</td>\n",
       "      <td>24866.0</td>\n",
       "      <td>22057.0</td>\n",
       "      <td>17160.0</td>\n",
       "      <td>17726.0</td>\n",
       "      <td>18129.0</td>\n",
       "      <td>21299.0</td>\n",
       "      <td>...</td>\n",
       "      <td>21222</td>\n",
       "      <td>15858</td>\n",
       "      <td>17200</td>\n",
       "      <td>14963</td>\n",
       "      <td>20778</td>\n",
       "      <td>15023</td>\n",
       "      <td>4297</td>\n",
       "      <td>11645</td>\n",
       "      <td>14723.0</td>\n",
       "      <td>18921.0</td>\n",
       "    </tr>\n",
       "  </tbody>\n",
       "</table>\n",
       "<p>4 rows × 32 columns</p>\n",
       "</div>"
      ],
      "text/plain": [
       "        h1n1_concern  h1n1_knowledge  behavioral_antiviral_meds  \\\n",
       "count        26707.0         26707.0                    26707.0   \n",
       "unique           4.0             3.0                        2.0   \n",
       "top              2.0             1.0                        0.0   \n",
       "freq         10667.0         14714.0                    25406.0   \n",
       "\n",
       "        behavioral_avoidance  behavioral_face_mask  behavioral_wash_hands  \\\n",
       "count                26707.0               26707.0                26707.0   \n",
       "unique                   2.0                   2.0                    2.0   \n",
       "top                      1.0                   0.0                    1.0   \n",
       "freq                 19436.0               24866.0                22057.0   \n",
       "\n",
       "        behavioral_large_gatherings  behavioral_outside_home  \\\n",
       "count                       26707.0                  26707.0   \n",
       "unique                          2.0                      2.0   \n",
       "top                             0.0                      0.0   \n",
       "freq                        17160.0                  17726.0   \n",
       "\n",
       "        behavioral_touch_face  doctor_recc_h1n1  ...   race     sex  \\\n",
       "count                 26707.0           26707.0  ...  26707   26707   \n",
       "unique                    2.0               2.0  ...      4       2   \n",
       "top                       1.0               0.0  ...  White  Female   \n",
       "freq                  18129.0           21299.0  ...  21222   15858   \n",
       "\n",
       "                   income_poverty  marital_status  rent_or_own  \\\n",
       "count                       26707           26707        26707   \n",
       "unique                          3               2            2   \n",
       "top     <= $75,000, Above Poverty         Married          Own   \n",
       "freq                        17200           14963        20778   \n",
       "\n",
       "        employment_status  hhs_geo_region                census_msa  \\\n",
       "count               26707           26707                     26707   \n",
       "unique                  3              10                         3   \n",
       "top              Employed        lzgpxyit  MSA, Not Principle  City   \n",
       "freq                15023            4297                     11645   \n",
       "\n",
       "        household_adults  household_children  \n",
       "count            26707.0             26707.0  \n",
       "unique               4.0                 4.0  \n",
       "top                  1.0                 0.0  \n",
       "freq             14723.0             18921.0  \n",
       "\n",
       "[4 rows x 32 columns]"
      ]
     },
     "execution_count": 15,
     "metadata": {},
     "output_type": "execute_result"
    }
   ],
   "source": [
    "from sklearn.impute import SimpleImputer\n",
    "\n",
    "columns = raw_data.columns\n",
    "raw_data_conv = raw_data\n",
    "imputer = SimpleImputer(missing_values=np.nan, strategy='most_frequent').fit(raw_data_conv[columns])\n",
    "\n",
    "# mean (=moyenne), most_frequent (=mode), median\n",
    "\n",
    "data_impute = imputer.transform(raw_data_conv[columns].values)\n",
    "\n",
    "data_impute_auto_float = pd.DataFrame(data_impute, columns = columns)\n",
    "\n",
    "print(data_impute_auto_float)\n",
    "print(data_impute_auto_float.info())\n",
    "\n",
    "data_impute_auto_float.describe()"
   ]
  },
  {
   "cell_type": "code",
   "execution_count": 16,
   "metadata": {
    "pycharm": {
     "name": "#%%\n"
    },
    "scrolled": true
   },
   "outputs": [
    {
     "name": "stdout",
     "output_type": "stream",
     "text": [
      "<class 'pandas.core.frame.DataFrame'>\n",
      "RangeIndex: 26707 entries, 0 to 26706\n",
      "Data columns (total 32 columns):\n",
      " #   Column                       Non-Null Count  Dtype \n",
      "---  ------                       --------------  ----- \n",
      " 0   h1n1_concern                 26707 non-null  object\n",
      " 1   h1n1_knowledge               26707 non-null  object\n",
      " 2   behavioral_antiviral_meds    26707 non-null  object\n",
      " 3   behavioral_avoidance         26707 non-null  object\n",
      " 4   behavioral_face_mask         26707 non-null  object\n",
      " 5   behavioral_wash_hands        26707 non-null  object\n",
      " 6   behavioral_large_gatherings  26707 non-null  object\n",
      " 7   behavioral_outside_home      26707 non-null  object\n",
      " 8   behavioral_touch_face        26707 non-null  object\n",
      " 9   doctor_recc_h1n1             26707 non-null  object\n",
      " 10  doctor_recc_seasonal         26707 non-null  object\n",
      " 11  chronic_med_condition        26707 non-null  object\n",
      " 12  child_under_6_months         26707 non-null  object\n",
      " 13  health_worker                26707 non-null  object\n",
      " 14  opinion_h1n1_vacc_effective  26707 non-null  object\n",
      " 15  opinion_h1n1_risk            26707 non-null  object\n",
      " 16  opinion_h1n1_sick_from_vacc  26707 non-null  object\n",
      " 17  opinion_seas_vacc_effective  26707 non-null  object\n",
      " 18  opinion_seas_risk            26707 non-null  object\n",
      " 19  opinion_seas_sick_from_vacc  26707 non-null  object\n",
      " 20  age_group                    26707 non-null  object\n",
      " 21  education                    26707 non-null  object\n",
      " 22  race                         26707 non-null  object\n",
      " 23  sex                          26707 non-null  object\n",
      " 24  income_poverty               26707 non-null  object\n",
      " 25  marital_status               26707 non-null  object\n",
      " 26  rent_or_own                  26707 non-null  object\n",
      " 27  employment_status            26707 non-null  object\n",
      " 28  hhs_geo_region               26707 non-null  object\n",
      " 29  census_msa                   26707 non-null  object\n",
      " 30  household_adults             26707 non-null  object\n",
      " 31  household_children           26707 non-null  object\n",
      "dtypes: object(32)\n",
      "memory usage: 6.5+ MB\n"
     ]
    }
   ],
   "source": [
    "data_impute_auto_float.info()"
   ]
  },
  {
   "cell_type": "code",
   "execution_count": 17,
   "metadata": {
    "pycharm": {
     "name": "#%%\n"
    }
   },
   "outputs": [],
   "source": [
    "numerical_columns_list = raw_data.select_dtypes(include='float').columns\n",
    "raw_data = data_impute_auto_float"
   ]
  },
  {
   "cell_type": "markdown",
   "metadata": {
    "pycharm": {
     "name": "#%% md\n"
    }
   },
   "source": [
    "## Corrélation"
   ]
  },
  {
   "cell_type": "code",
   "execution_count": 21,
   "metadata": {
    "pycharm": {
     "name": "#%%\n"
    }
   },
   "outputs": [],
   "source": [
    "corr = raw_data[numerical_columns_list.to_list()].corr()"
   ]
  },
  {
   "cell_type": "code",
   "execution_count": 22,
   "metadata": {
    "pycharm": {
     "name": "#%%\n"
    }
   },
   "outputs": [
    {
     "ename": "ValueError",
     "evalue": "zero-size array to reduction operation fmin which has no identity",
     "output_type": "error",
     "traceback": [
      "\u001B[1;31m---------------------------------------------------------------------------\u001B[0m",
      "\u001B[1;31mValueError\u001B[0m                                Traceback (most recent call last)",
      "Input \u001B[1;32mIn [22]\u001B[0m, in \u001B[0;36m<cell line: 10>\u001B[1;34m()\u001B[0m\n\u001B[0;32m      7\u001B[0m plt\u001B[38;5;241m.\u001B[39mxlabel(\u001B[38;5;124m\"\u001B[39m\u001B[38;5;124m\"\u001B[39m,fontsize\u001B[38;5;241m=\u001B[39m\u001B[38;5;241m20\u001B[39m)\n\u001B[0;32m      8\u001B[0m plt\u001B[38;5;241m.\u001B[39mylabel(\u001B[38;5;124m\"\u001B[39m\u001B[38;5;124m\"\u001B[39m,fontsize\u001B[38;5;241m=\u001B[39m\u001B[38;5;241m20\u001B[39m)\n\u001B[1;32m---> 10\u001B[0m \u001B[43msns\u001B[49m\u001B[38;5;241;43m.\u001B[39;49m\u001B[43mheatmap\u001B[49m\u001B[43m(\u001B[49m\u001B[43mcorr\u001B[49m\u001B[43m,\u001B[49m\u001B[43m \u001B[49m\n\u001B[0;32m     11\u001B[0m \u001B[43m            \u001B[49m\u001B[43mcmap\u001B[49m\u001B[38;5;241;43m=\u001B[39;49m\u001B[38;5;124;43m'\u001B[39;49m\u001B[38;5;124;43mviridis\u001B[39;49m\u001B[38;5;124;43m'\u001B[39;49m\u001B[43m,\u001B[49m\n\u001B[0;32m     12\u001B[0m \u001B[43m            \u001B[49m\u001B[43mcbar\u001B[49m\u001B[38;5;241;43m=\u001B[39;49m\u001B[38;5;28;43;01mTrue\u001B[39;49;00m\u001B[43m,\u001B[49m\n\u001B[0;32m     13\u001B[0m \u001B[43m            \u001B[49m\u001B[38;5;66;43;03m#vmax=1.0, vmin=-1.0,\u001B[39;49;00m\n\u001B[0;32m     14\u001B[0m \u001B[43m            \u001B[49m\u001B[43mlinewidths\u001B[49m\u001B[38;5;241;43m=\u001B[39;49m\u001B[38;5;241;43m0.3\u001B[39;49m\u001B[43m,\u001B[49m\n\u001B[0;32m     15\u001B[0m \u001B[43m            \u001B[49m\u001B[43mannot\u001B[49m\u001B[38;5;241;43m=\u001B[39;49m\u001B[38;5;28;43;01mTrue\u001B[39;49;00m\u001B[43m,\u001B[49m\n\u001B[0;32m     16\u001B[0m \u001B[43m            \u001B[49m\u001B[38;5;66;43;03m#annot_kws={\"size\": 8}, square=True\u001B[39;49;00m\n\u001B[0;32m     17\u001B[0m \u001B[43m           \u001B[49m\u001B[43m)\u001B[49m\n",
      "File \u001B[1;32mD:\\ESGI\\5AL\\ML\\ML-TP\\venv\\lib\\site-packages\\seaborn\\_decorators.py:46\u001B[0m, in \u001B[0;36m_deprecate_positional_args.<locals>.inner_f\u001B[1;34m(*args, **kwargs)\u001B[0m\n\u001B[0;32m     36\u001B[0m     warnings\u001B[38;5;241m.\u001B[39mwarn(\n\u001B[0;32m     37\u001B[0m         \u001B[38;5;124m\"\u001B[39m\u001B[38;5;124mPass the following variable\u001B[39m\u001B[38;5;132;01m{}\u001B[39;00m\u001B[38;5;124m as \u001B[39m\u001B[38;5;132;01m{}\u001B[39;00m\u001B[38;5;124mkeyword arg\u001B[39m\u001B[38;5;132;01m{}\u001B[39;00m\u001B[38;5;124m: \u001B[39m\u001B[38;5;132;01m{}\u001B[39;00m\u001B[38;5;124m. \u001B[39m\u001B[38;5;124m\"\u001B[39m\n\u001B[0;32m     38\u001B[0m         \u001B[38;5;124m\"\u001B[39m\u001B[38;5;124mFrom version 0.12, the only valid positional argument \u001B[39m\u001B[38;5;124m\"\u001B[39m\n\u001B[1;32m   (...)\u001B[0m\n\u001B[0;32m     43\u001B[0m         \u001B[38;5;167;01mFutureWarning\u001B[39;00m\n\u001B[0;32m     44\u001B[0m     )\n\u001B[0;32m     45\u001B[0m kwargs\u001B[38;5;241m.\u001B[39mupdate({k: arg \u001B[38;5;28;01mfor\u001B[39;00m k, arg \u001B[38;5;129;01min\u001B[39;00m \u001B[38;5;28mzip\u001B[39m(sig\u001B[38;5;241m.\u001B[39mparameters, args)})\n\u001B[1;32m---> 46\u001B[0m \u001B[38;5;28;01mreturn\u001B[39;00m f(\u001B[38;5;241m*\u001B[39m\u001B[38;5;241m*\u001B[39mkwargs)\n",
      "File \u001B[1;32mD:\\ESGI\\5AL\\ML\\ML-TP\\venv\\lib\\site-packages\\seaborn\\matrix.py:540\u001B[0m, in \u001B[0;36mheatmap\u001B[1;34m(data, vmin, vmax, cmap, center, robust, annot, fmt, annot_kws, linewidths, linecolor, cbar, cbar_kws, cbar_ax, square, xticklabels, yticklabels, mask, ax, **kwargs)\u001B[0m\n\u001B[0;32m    362\u001B[0m \u001B[38;5;124;03m\"\"\"Plot rectangular data as a color-encoded matrix.\u001B[39;00m\n\u001B[0;32m    363\u001B[0m \n\u001B[0;32m    364\u001B[0m \u001B[38;5;124;03mThis is an Axes-level function and will draw the heatmap into the\u001B[39;00m\n\u001B[1;32m   (...)\u001B[0m\n\u001B[0;32m    537\u001B[0m \u001B[38;5;124;03m    ...     ax = sns.heatmap(corr, mask=mask, vmax=.3, square=True)\u001B[39;00m\n\u001B[0;32m    538\u001B[0m \u001B[38;5;124;03m\"\"\"\u001B[39;00m\n\u001B[0;32m    539\u001B[0m \u001B[38;5;66;03m# Initialize the plotter object\u001B[39;00m\n\u001B[1;32m--> 540\u001B[0m plotter \u001B[38;5;241m=\u001B[39m \u001B[43m_HeatMapper\u001B[49m\u001B[43m(\u001B[49m\u001B[43mdata\u001B[49m\u001B[43m,\u001B[49m\u001B[43m \u001B[49m\u001B[43mvmin\u001B[49m\u001B[43m,\u001B[49m\u001B[43m \u001B[49m\u001B[43mvmax\u001B[49m\u001B[43m,\u001B[49m\u001B[43m \u001B[49m\u001B[43mcmap\u001B[49m\u001B[43m,\u001B[49m\u001B[43m \u001B[49m\u001B[43mcenter\u001B[49m\u001B[43m,\u001B[49m\u001B[43m \u001B[49m\u001B[43mrobust\u001B[49m\u001B[43m,\u001B[49m\u001B[43m \u001B[49m\u001B[43mannot\u001B[49m\u001B[43m,\u001B[49m\u001B[43m \u001B[49m\u001B[43mfmt\u001B[49m\u001B[43m,\u001B[49m\n\u001B[0;32m    541\u001B[0m \u001B[43m                      \u001B[49m\u001B[43mannot_kws\u001B[49m\u001B[43m,\u001B[49m\u001B[43m \u001B[49m\u001B[43mcbar\u001B[49m\u001B[43m,\u001B[49m\u001B[43m \u001B[49m\u001B[43mcbar_kws\u001B[49m\u001B[43m,\u001B[49m\u001B[43m \u001B[49m\u001B[43mxticklabels\u001B[49m\u001B[43m,\u001B[49m\n\u001B[0;32m    542\u001B[0m \u001B[43m                      \u001B[49m\u001B[43myticklabels\u001B[49m\u001B[43m,\u001B[49m\u001B[43m \u001B[49m\u001B[43mmask\u001B[49m\u001B[43m)\u001B[49m\n\u001B[0;32m    544\u001B[0m \u001B[38;5;66;03m# Add the pcolormesh kwargs here\u001B[39;00m\n\u001B[0;32m    545\u001B[0m kwargs[\u001B[38;5;124m\"\u001B[39m\u001B[38;5;124mlinewidths\u001B[39m\u001B[38;5;124m\"\u001B[39m] \u001B[38;5;241m=\u001B[39m linewidths\n",
      "File \u001B[1;32mD:\\ESGI\\5AL\\ML\\ML-TP\\venv\\lib\\site-packages\\seaborn\\matrix.py:159\u001B[0m, in \u001B[0;36m_HeatMapper.__init__\u001B[1;34m(self, data, vmin, vmax, cmap, center, robust, annot, fmt, annot_kws, cbar, cbar_kws, xticklabels, yticklabels, mask)\u001B[0m\n\u001B[0;32m    156\u001B[0m \u001B[38;5;28mself\u001B[39m\u001B[38;5;241m.\u001B[39mylabel \u001B[38;5;241m=\u001B[39m ylabel \u001B[38;5;28;01mif\u001B[39;00m ylabel \u001B[38;5;129;01mis\u001B[39;00m \u001B[38;5;129;01mnot\u001B[39;00m \u001B[38;5;28;01mNone\u001B[39;00m \u001B[38;5;28;01melse\u001B[39;00m \u001B[38;5;124m\"\u001B[39m\u001B[38;5;124m\"\u001B[39m\n\u001B[0;32m    158\u001B[0m \u001B[38;5;66;03m# Determine good default values for the colormapping\u001B[39;00m\n\u001B[1;32m--> 159\u001B[0m \u001B[38;5;28;43mself\u001B[39;49m\u001B[38;5;241;43m.\u001B[39;49m\u001B[43m_determine_cmap_params\u001B[49m\u001B[43m(\u001B[49m\u001B[43mplot_data\u001B[49m\u001B[43m,\u001B[49m\u001B[43m \u001B[49m\u001B[43mvmin\u001B[49m\u001B[43m,\u001B[49m\u001B[43m \u001B[49m\u001B[43mvmax\u001B[49m\u001B[43m,\u001B[49m\n\u001B[0;32m    160\u001B[0m \u001B[43m                            \u001B[49m\u001B[43mcmap\u001B[49m\u001B[43m,\u001B[49m\u001B[43m \u001B[49m\u001B[43mcenter\u001B[49m\u001B[43m,\u001B[49m\u001B[43m \u001B[49m\u001B[43mrobust\u001B[49m\u001B[43m)\u001B[49m\n\u001B[0;32m    162\u001B[0m \u001B[38;5;66;03m# Sort out the annotations\u001B[39;00m\n\u001B[0;32m    163\u001B[0m \u001B[38;5;28;01mif\u001B[39;00m annot \u001B[38;5;129;01mis\u001B[39;00m \u001B[38;5;28;01mNone\u001B[39;00m \u001B[38;5;129;01mor\u001B[39;00m annot \u001B[38;5;129;01mis\u001B[39;00m \u001B[38;5;28;01mFalse\u001B[39;00m:\n",
      "File \u001B[1;32mD:\\ESGI\\5AL\\ML\\ML-TP\\venv\\lib\\site-packages\\seaborn\\matrix.py:198\u001B[0m, in \u001B[0;36m_HeatMapper._determine_cmap_params\u001B[1;34m(self, plot_data, vmin, vmax, cmap, center, robust)\u001B[0m\n\u001B[0;32m    196\u001B[0m         vmin \u001B[38;5;241m=\u001B[39m np\u001B[38;5;241m.\u001B[39mnanpercentile(calc_data, \u001B[38;5;241m2\u001B[39m)\n\u001B[0;32m    197\u001B[0m     \u001B[38;5;28;01melse\u001B[39;00m:\n\u001B[1;32m--> 198\u001B[0m         vmin \u001B[38;5;241m=\u001B[39m \u001B[43mnp\u001B[49m\u001B[38;5;241;43m.\u001B[39;49m\u001B[43mnanmin\u001B[49m\u001B[43m(\u001B[49m\u001B[43mcalc_data\u001B[49m\u001B[43m)\u001B[49m\n\u001B[0;32m    199\u001B[0m \u001B[38;5;28;01mif\u001B[39;00m vmax \u001B[38;5;129;01mis\u001B[39;00m \u001B[38;5;28;01mNone\u001B[39;00m:\n\u001B[0;32m    200\u001B[0m     \u001B[38;5;28;01mif\u001B[39;00m robust:\n",
      "File \u001B[1;32m<__array_function__ internals>:180\u001B[0m, in \u001B[0;36mnanmin\u001B[1;34m(*args, **kwargs)\u001B[0m\n",
      "File \u001B[1;32mD:\\ESGI\\5AL\\ML\\ML-TP\\venv\\lib\\site-packages\\numpy\\lib\\nanfunctions.py:344\u001B[0m, in \u001B[0;36mnanmin\u001B[1;34m(a, axis, out, keepdims, initial, where)\u001B[0m\n\u001B[0;32m    339\u001B[0m     kwargs[\u001B[38;5;124m'\u001B[39m\u001B[38;5;124mwhere\u001B[39m\u001B[38;5;124m'\u001B[39m] \u001B[38;5;241m=\u001B[39m where\n\u001B[0;32m    341\u001B[0m \u001B[38;5;28;01mif\u001B[39;00m \u001B[38;5;28mtype\u001B[39m(a) \u001B[38;5;129;01mis\u001B[39;00m np\u001B[38;5;241m.\u001B[39mndarray \u001B[38;5;129;01mand\u001B[39;00m a\u001B[38;5;241m.\u001B[39mdtype \u001B[38;5;241m!=\u001B[39m np\u001B[38;5;241m.\u001B[39mobject_:\n\u001B[0;32m    342\u001B[0m     \u001B[38;5;66;03m# Fast, but not safe for subclasses of ndarray, or object arrays,\u001B[39;00m\n\u001B[0;32m    343\u001B[0m     \u001B[38;5;66;03m# which do not implement isnan (gh-9009), or fmin correctly (gh-8975)\u001B[39;00m\n\u001B[1;32m--> 344\u001B[0m     res \u001B[38;5;241m=\u001B[39m np\u001B[38;5;241m.\u001B[39mfmin\u001B[38;5;241m.\u001B[39mreduce(a, axis\u001B[38;5;241m=\u001B[39maxis, out\u001B[38;5;241m=\u001B[39mout, \u001B[38;5;241m*\u001B[39m\u001B[38;5;241m*\u001B[39mkwargs)\n\u001B[0;32m    345\u001B[0m     \u001B[38;5;28;01mif\u001B[39;00m np\u001B[38;5;241m.\u001B[39misnan(res)\u001B[38;5;241m.\u001B[39many():\n\u001B[0;32m    346\u001B[0m         warnings\u001B[38;5;241m.\u001B[39mwarn(\u001B[38;5;124m\"\u001B[39m\u001B[38;5;124mAll-NaN slice encountered\u001B[39m\u001B[38;5;124m\"\u001B[39m, \u001B[38;5;167;01mRuntimeWarning\u001B[39;00m,\n\u001B[0;32m    347\u001B[0m                       stacklevel\u001B[38;5;241m=\u001B[39m\u001B[38;5;241m3\u001B[39m)\n",
      "\u001B[1;31mValueError\u001B[0m: zero-size array to reduction operation fmin which has no identity"
     ]
    },
    {
     "data": {
      "image/png": "[encoded data removed]",
      "text/plain": [
       "<Figure size 1440x1440 with 1 Axes>"
      ]
     },
     "metadata": {},
     "output_type": "display_data"
    }
   ],
   "source": [
    "# graphique des correlations\n",
    "plt.figure(figsize=(20, 20))\n",
    "\n",
    "plt.title(\"Table de corrélation\", fontsize=30)\n",
    "\n",
    "sns.set(style=\"darkgrid\", font_scale=2)\n",
    "plt.xlabel(\"\",fontsize=20)\n",
    "plt.ylabel(\"\",fontsize=20)\n",
    "\n",
    "sns.heatmap(corr, \n",
    "            cmap='viridis',\n",
    "            cbar=True,\n",
    "            #vmax=1.0, vmin=-1.0,\n",
    "            linewidths=0.3,\n",
    "            annot=True,\n",
    "            #annot_kws={\"size\": 8}, square=True\n",
    "           );"
   ]
  },
  {
   "cell_type": "markdown",
   "metadata": {},
   "source": [
    "Après analyse de la matrice de correlation, on decide de ????"
   ]
  },
  {
   "cell_type": "code",
   "execution_count": null,
   "metadata": {},
   "outputs": [],
   "source": [
    "cols_to_drop = ['reanalysis_avg_temp_k', 'reanalysis_tdtr_k', 'reanalysis_sat_precip_amt_mm', 'reanalysis_specific_humidity_g_per_kg']\n",
    "raw_data = raw_data.drop(cols_to_drop, axis=1)\n",
    "raw_data.info()\n"
   ]
  },
  {
   "cell_type": "markdown",
   "metadata": {
    "pycharm": {
     "name": "#%% md\n"
    }
   },
   "source": [
    "### Normalisation"
   ]
  },
  {
   "cell_type": "markdown",
   "metadata": {},
   "source": [
    "On ne va pas devoir normaliser nos données car nous traitons que des données categroielles sans unitées."
   ]
  },
  {
   "cell_type": "markdown",
   "metadata": {
    "pycharm": {
     "name": "#%% md\n"
    }
   },
   "source": [
    "# Création des models"
   ]
  },
  {
   "cell_type": "code",
   "execution_count": 23,
   "metadata": {},
   "outputs": [],
   "source": [
    "# Fin de la preparation des données, elles sont maintenant propre\n",
    "data_clean = raw_data"
   ]
  },
  {
   "cell_type": "markdown",
   "metadata": {
    "pycharm": {
     "name": "#%% md\n"
    }
   },
   "source": [
    "## Splitting des données"
   ]
  },
  {
   "cell_type": "code",
   "execution_count": 25,
   "metadata": {
    "pycharm": {
     "name": "#%%\n"
    }
   },
   "outputs": [],
   "source": [
    "from sklearn.model_selection import train_test_split\n",
    "from sklearn.metrics import f1_score, confusion_matrix, classification_report\n",
    "from sklearn.model_selection import learning_curve\n",
    "from sklearn.model_selection import cross_val_score"
   ]
  },
  {
   "cell_type": "code",
   "execution_count": 28,
   "metadata": {
    "pycharm": {
     "name": "#%%\n"
    }
   },
   "outputs": [
    {
     "name": "stdout",
     "output_type": "stream",
     "text": [
      "Train set: (21365, 32)\n",
      "Test set: (5342, 32)\n"
     ]
    }
   ],
   "source": [
    "X_train, X_test, y_train, y_test = train_test_split(data_clean, y, test_size=0.2, random_state=5)\n",
    "\n",
    "print('Train set:', X_train.shape)\n",
    "print('Test set:', X_test.shape)"
   ]
  },
  {
   "cell_type": "markdown",
   "metadata": {
    "pycharm": {
     "name": "#%% md\n"
    }
   },
   "source": [
    "## KNN"
   ]
  },
  {
   "cell_type": "code",
   "execution_count": 29,
   "metadata": {},
   "outputs": [
    {
     "name": "stdout",
     "output_type": "stream",
     "text": [
      "Train set: (21365, 22)\n",
      "Test set: (5342, 22)\n"
     ]
    }
   ],
   "source": [
    "# Specific values for knn ( filtering out categorial (string) values)\n",
    "\n",
    "X_train_knn, X_test_knn, y_train_knn, y_test_knn = train_test_split(data_clean[numerical_columns_list], y, test_size=0.2, random_state=5)\n",
    "\n",
    "print('Train set:', X_train_knn.shape)\n",
    "print('Test set:', X_test_knn.shape)"
   ]
  },
  {
   "cell_type": "markdown",
   "metadata": {
    "pycharm": {
     "name": "#%% md\n"
    }
   },
   "source": [
    "### Création"
   ]
  },
  {
   "cell_type": "code",
   "execution_count": null,
   "metadata": {
    "pycharm": {
     "name": "#%%\n"
    }
   },
   "outputs": [
    {
     "name": "stderr",
     "output_type": "stream",
     "text": [
      "D:\\ESGI\\5AL\\ML\\ML-TP\\venv\\lib\\site-packages\\sklearn\\neighbors\\_classification.py:198: DataConversionWarning: A column-vector y was passed when a 1d array was expected. Please change the shape of y to (n_samples,), for example using ravel().\n",
      "  return self._fit(X, y)\n",
      "D:\\ESGI\\5AL\\ML\\ML-TP\\venv\\lib\\site-packages\\sklearn\\neighbors\\_classification.py:198: DataConversionWarning: A column-vector y was passed when a 1d array was expected. Please change the shape of y to (n_samples,), for example using ravel().\n",
      "  return self._fit(X, y)\n",
      "D:\\ESGI\\5AL\\ML\\ML-TP\\venv\\lib\\site-packages\\sklearn\\neighbors\\_classification.py:198: DataConversionWarning: A column-vector y was passed when a 1d array was expected. Please change the shape of y to (n_samples,), for example using ravel().\n",
      "  return self._fit(X, y)\n",
      "D:\\ESGI\\5AL\\ML\\ML-TP\\venv\\lib\\site-packages\\sklearn\\neighbors\\_classification.py:198: DataConversionWarning: A column-vector y was passed when a 1d array was expected. Please change the shape of y to (n_samples,), for example using ravel().\n",
      "  return self._fit(X, y)\n",
      "D:\\ESGI\\5AL\\ML\\ML-TP\\venv\\lib\\site-packages\\sklearn\\neighbors\\_classification.py:198: DataConversionWarning: A column-vector y was passed when a 1d array was expected. Please change the shape of y to (n_samples,), for example using ravel().\n",
      "  return self._fit(X, y)\n",
      "D:\\ESGI\\5AL\\ML\\ML-TP\\venv\\lib\\site-packages\\sklearn\\neighbors\\_classification.py:198: DataConversionWarning: A column-vector y was passed when a 1d array was expected. Please change the shape of y to (n_samples,), for example using ravel().\n",
      "  return self._fit(X, y)\n",
      "D:\\ESGI\\5AL\\ML\\ML-TP\\venv\\lib\\site-packages\\sklearn\\neighbors\\_classification.py:198: DataConversionWarning: A column-vector y was passed when a 1d array was expected. Please change the shape of y to (n_samples,), for example using ravel().\n",
      "  return self._fit(X, y)\n",
      "D:\\ESGI\\5AL\\ML\\ML-TP\\venv\\lib\\site-packages\\sklearn\\neighbors\\_classification.py:198: DataConversionWarning: A column-vector y was passed when a 1d array was expected. Please change the shape of y to (n_samples,), for example using ravel().\n",
      "  return self._fit(X, y)\n",
      "D:\\ESGI\\5AL\\ML\\ML-TP\\venv\\lib\\site-packages\\sklearn\\neighbors\\_classification.py:198: DataConversionWarning: A column-vector y was passed when a 1d array was expected. Please change the shape of y to (n_samples,), for example using ravel().\n",
      "  return self._fit(X, y)\n",
      "D:\\ESGI\\5AL\\ML\\ML-TP\\venv\\lib\\site-packages\\sklearn\\neighbors\\_classification.py:198: DataConversionWarning: A column-vector y was passed when a 1d array was expected. Please change the shape of y to (n_samples,), for example using ravel().\n",
      "  return self._fit(X, y)\n",
      "D:\\ESGI\\5AL\\ML\\ML-TP\\venv\\lib\\site-packages\\sklearn\\neighbors\\_classification.py:198: DataConversionWarning: A column-vector y was passed when a 1d array was expected. Please change the shape of y to (n_samples,), for example using ravel().\n",
      "  return self._fit(X, y)\n",
      "D:\\ESGI\\5AL\\ML\\ML-TP\\venv\\lib\\site-packages\\sklearn\\neighbors\\_classification.py:198: DataConversionWarning: A column-vector y was passed when a 1d array was expected. Please change the shape of y to (n_samples,), for example using ravel().\n",
      "  return self._fit(X, y)\n",
      "D:\\ESGI\\5AL\\ML\\ML-TP\\venv\\lib\\site-packages\\sklearn\\neighbors\\_classification.py:198: DataConversionWarning: A column-vector y was passed when a 1d array was expected. Please change the shape of y to (n_samples,), for example using ravel().\n",
      "  return self._fit(X, y)\n",
      "D:\\ESGI\\5AL\\ML\\ML-TP\\venv\\lib\\site-packages\\sklearn\\neighbors\\_classification.py:198: DataConversionWarning: A column-vector y was passed when a 1d array was expected. Please change the shape of y to (n_samples,), for example using ravel().\n",
      "  return self._fit(X, y)\n",
      "D:\\ESGI\\5AL\\ML\\ML-TP\\venv\\lib\\site-packages\\sklearn\\neighbors\\_classification.py:198: DataConversionWarning: A column-vector y was passed when a 1d array was expected. Please change the shape of y to (n_samples,), for example using ravel().\n",
      "  return self._fit(X, y)\n",
      "D:\\ESGI\\5AL\\ML\\ML-TP\\venv\\lib\\site-packages\\sklearn\\neighbors\\_classification.py:198: DataConversionWarning: A column-vector y was passed when a 1d array was expected. Please change the shape of y to (n_samples,), for example using ravel().\n",
      "  return self._fit(X, y)\n",
      "D:\\ESGI\\5AL\\ML\\ML-TP\\venv\\lib\\site-packages\\sklearn\\neighbors\\_classification.py:198: DataConversionWarning: A column-vector y was passed when a 1d array was expected. Please change the shape of y to (n_samples,), for example using ravel().\n",
      "  return self._fit(X, y)\n",
      "D:\\ESGI\\5AL\\ML\\ML-TP\\venv\\lib\\site-packages\\sklearn\\neighbors\\_classification.py:198: DataConversionWarning: A column-vector y was passed when a 1d array was expected. Please change the shape of y to (n_samples,), for example using ravel().\n",
      "  return self._fit(X, y)\n",
      "D:\\ESGI\\5AL\\ML\\ML-TP\\venv\\lib\\site-packages\\sklearn\\neighbors\\_classification.py:198: DataConversionWarning: A column-vector y was passed when a 1d array was expected. Please change the shape of y to (n_samples,), for example using ravel().\n",
      "  return self._fit(X, y)\n",
      "D:\\ESGI\\5AL\\ML\\ML-TP\\venv\\lib\\site-packages\\sklearn\\neighbors\\_classification.py:198: DataConversionWarning: A column-vector y was passed when a 1d array was expected. Please change the shape of y to (n_samples,), for example using ravel().\n",
      "  return self._fit(X, y)\n",
      "D:\\ESGI\\5AL\\ML\\ML-TP\\venv\\lib\\site-packages\\sklearn\\neighbors\\_classification.py:198: DataConversionWarning: A column-vector y was passed when a 1d array was expected. Please change the shape of y to (n_samples,), for example using ravel().\n",
      "  return self._fit(X, y)\n",
      "D:\\ESGI\\5AL\\ML\\ML-TP\\venv\\lib\\site-packages\\sklearn\\neighbors\\_classification.py:198: DataConversionWarning: A column-vector y was passed when a 1d array was expected. Please change the shape of y to (n_samples,), for example using ravel().\n",
      "  return self._fit(X, y)\n",
      "D:\\ESGI\\5AL\\ML\\ML-TP\\venv\\lib\\site-packages\\sklearn\\neighbors\\_classification.py:198: DataConversionWarning: A column-vector y was passed when a 1d array was expected. Please change the shape of y to (n_samples,), for example using ravel().\n",
      "  return self._fit(X, y)\n",
      "D:\\ESGI\\5AL\\ML\\ML-TP\\venv\\lib\\site-packages\\sklearn\\neighbors\\_classification.py:198: DataConversionWarning: A column-vector y was passed when a 1d array was expected. Please change the shape of y to (n_samples,), for example using ravel().\n",
      "  return self._fit(X, y)\n",
      "D:\\ESGI\\5AL\\ML\\ML-TP\\venv\\lib\\site-packages\\sklearn\\neighbors\\_classification.py:198: DataConversionWarning: A column-vector y was passed when a 1d array was expected. Please change the shape of y to (n_samples,), for example using ravel().\n",
      "  return self._fit(X, y)\n",
      "D:\\ESGI\\5AL\\ML\\ML-TP\\venv\\lib\\site-packages\\sklearn\\neighbors\\_classification.py:198: DataConversionWarning: A column-vector y was passed when a 1d array was expected. Please change the shape of y to (n_samples,), for example using ravel().\n",
      "  return self._fit(X, y)\n",
      "D:\\ESGI\\5AL\\ML\\ML-TP\\venv\\lib\\site-packages\\sklearn\\neighbors\\_classification.py:198: DataConversionWarning: A column-vector y was passed when a 1d array was expected. Please change the shape of y to (n_samples,), for example using ravel().\n",
      "  return self._fit(X, y)\n",
      "D:\\ESGI\\5AL\\ML\\ML-TP\\venv\\lib\\site-packages\\sklearn\\neighbors\\_classification.py:198: DataConversionWarning: A column-vector y was passed when a 1d array was expected. Please change the shape of y to (n_samples,), for example using ravel().\n",
      "  return self._fit(X, y)\n",
      "D:\\ESGI\\5AL\\ML\\ML-TP\\venv\\lib\\site-packages\\sklearn\\neighbors\\_classification.py:198: DataConversionWarning: A column-vector y was passed when a 1d array was expected. Please change the shape of y to (n_samples,), for example using ravel().\n",
      "  return self._fit(X, y)\n",
      "D:\\ESGI\\5AL\\ML\\ML-TP\\venv\\lib\\site-packages\\sklearn\\neighbors\\_classification.py:198: DataConversionWarning: A column-vector y was passed when a 1d array was expected. Please change the shape of y to (n_samples,), for example using ravel().\n",
      "  return self._fit(X, y)\n",
      "D:\\ESGI\\5AL\\ML\\ML-TP\\venv\\lib\\site-packages\\sklearn\\neighbors\\_classification.py:198: DataConversionWarning: A column-vector y was passed when a 1d array was expected. Please change the shape of y to (n_samples,), for example using ravel().\n",
      "  return self._fit(X, y)\n"
     ]
    },
    {
     "name": "stderr",
     "output_type": "stream",
     "text": [
      "D:\\ESGI\\5AL\\ML\\ML-TP\\venv\\lib\\site-packages\\sklearn\\neighbors\\_classification.py:198: DataConversionWarning: A column-vector y was passed when a 1d array was expected. Please change the shape of y to (n_samples,), for example using ravel().\n",
      "  return self._fit(X, y)\n",
      "D:\\ESGI\\5AL\\ML\\ML-TP\\venv\\lib\\site-packages\\sklearn\\neighbors\\_classification.py:198: DataConversionWarning: A column-vector y was passed when a 1d array was expected. Please change the shape of y to (n_samples,), for example using ravel().\n",
      "  return self._fit(X, y)\n",
      "D:\\ESGI\\5AL\\ML\\ML-TP\\venv\\lib\\site-packages\\sklearn\\neighbors\\_classification.py:198: DataConversionWarning: A column-vector y was passed when a 1d array was expected. Please change the shape of y to (n_samples,), for example using ravel().\n",
      "  return self._fit(X, y)\n",
      "D:\\ESGI\\5AL\\ML\\ML-TP\\venv\\lib\\site-packages\\sklearn\\neighbors\\_classification.py:198: DataConversionWarning: A column-vector y was passed when a 1d array was expected. Please change the shape of y to (n_samples,), for example using ravel().\n",
      "  return self._fit(X, y)\n",
      "D:\\ESGI\\5AL\\ML\\ML-TP\\venv\\lib\\site-packages\\sklearn\\neighbors\\_classification.py:198: DataConversionWarning: A column-vector y was passed when a 1d array was expected. Please change the shape of y to (n_samples,), for example using ravel().\n",
      "  return self._fit(X, y)\n",
      "D:\\ESGI\\5AL\\ML\\ML-TP\\venv\\lib\\site-packages\\sklearn\\neighbors\\_classification.py:198: DataConversionWarning: A column-vector y was passed when a 1d array was expected. Please change the shape of y to (n_samples,), for example using ravel().\n",
      "  return self._fit(X, y)\n",
      "D:\\ESGI\\5AL\\ML\\ML-TP\\venv\\lib\\site-packages\\sklearn\\neighbors\\_classification.py:198: DataConversionWarning: A column-vector y was passed when a 1d array was expected. Please change the shape of y to (n_samples,), for example using ravel().\n",
      "  return self._fit(X, y)\n",
      "D:\\ESGI\\5AL\\ML\\ML-TP\\venv\\lib\\site-packages\\sklearn\\neighbors\\_classification.py:198: DataConversionWarning: A column-vector y was passed when a 1d array was expected. Please change the shape of y to (n_samples,), for example using ravel().\n",
      "  return self._fit(X, y)\n",
      "D:\\ESGI\\5AL\\ML\\ML-TP\\venv\\lib\\site-packages\\sklearn\\neighbors\\_classification.py:198: DataConversionWarning: A column-vector y was passed when a 1d array was expected. Please change the shape of y to (n_samples,), for example using ravel().\n",
      "  return self._fit(X, y)\n",
      "D:\\ESGI\\5AL\\ML\\ML-TP\\venv\\lib\\site-packages\\sklearn\\neighbors\\_classification.py:198: DataConversionWarning: A column-vector y was passed when a 1d array was expected. Please change the shape of y to (n_samples,), for example using ravel().\n",
      "  return self._fit(X, y)\n",
      "D:\\ESGI\\5AL\\ML\\ML-TP\\venv\\lib\\site-packages\\sklearn\\neighbors\\_classification.py:198: DataConversionWarning: A column-vector y was passed when a 1d array was expected. Please change the shape of y to (n_samples,), for example using ravel().\n",
      "  return self._fit(X, y)\n",
      "D:\\ESGI\\5AL\\ML\\ML-TP\\venv\\lib\\site-packages\\sklearn\\neighbors\\_classification.py:198: DataConversionWarning: A column-vector y was passed when a 1d array was expected. Please change the shape of y to (n_samples,), for example using ravel().\n",
      "  return self._fit(X, y)\n",
      "D:\\ESGI\\5AL\\ML\\ML-TP\\venv\\lib\\site-packages\\sklearn\\neighbors\\_classification.py:198: DataConversionWarning: A column-vector y was passed when a 1d array was expected. Please change the shape of y to (n_samples,), for example using ravel().\n",
      "  return self._fit(X, y)\n",
      "D:\\ESGI\\5AL\\ML\\ML-TP\\venv\\lib\\site-packages\\sklearn\\neighbors\\_classification.py:198: DataConversionWarning: A column-vector y was passed when a 1d array was expected. Please change the shape of y to (n_samples,), for example using ravel().\n",
      "  return self._fit(X, y)\n",
      "D:\\ESGI\\5AL\\ML\\ML-TP\\venv\\lib\\site-packages\\sklearn\\neighbors\\_classification.py:198: DataConversionWarning: A column-vector y was passed when a 1d array was expected. Please change the shape of y to (n_samples,), for example using ravel().\n",
      "  return self._fit(X, y)\n",
      "D:\\ESGI\\5AL\\ML\\ML-TP\\venv\\lib\\site-packages\\sklearn\\neighbors\\_classification.py:198: DataConversionWarning: A column-vector y was passed when a 1d array was expected. Please change the shape of y to (n_samples,), for example using ravel().\n",
      "  return self._fit(X, y)\n",
      "D:\\ESGI\\5AL\\ML\\ML-TP\\venv\\lib\\site-packages\\sklearn\\neighbors\\_classification.py:198: DataConversionWarning: A column-vector y was passed when a 1d array was expected. Please change the shape of y to (n_samples,), for example using ravel().\n",
      "  return self._fit(X, y)\n",
      "D:\\ESGI\\5AL\\ML\\ML-TP\\venv\\lib\\site-packages\\sklearn\\neighbors\\_classification.py:198: DataConversionWarning: A column-vector y was passed when a 1d array was expected. Please change the shape of y to (n_samples,), for example using ravel().\n",
      "  return self._fit(X, y)\n",
      "D:\\ESGI\\5AL\\ML\\ML-TP\\venv\\lib\\site-packages\\sklearn\\neighbors\\_classification.py:198: DataConversionWarning: A column-vector y was passed when a 1d array was expected. Please change the shape of y to (n_samples,), for example using ravel().\n",
      "  return self._fit(X, y)\n",
      "D:\\ESGI\\5AL\\ML\\ML-TP\\venv\\lib\\site-packages\\sklearn\\neighbors\\_classification.py:198: DataConversionWarning: A column-vector y was passed when a 1d array was expected. Please change the shape of y to (n_samples,), for example using ravel().\n",
      "  return self._fit(X, y)\n",
      "D:\\ESGI\\5AL\\ML\\ML-TP\\venv\\lib\\site-packages\\sklearn\\neighbors\\_classification.py:198: DataConversionWarning: A column-vector y was passed when a 1d array was expected. Please change the shape of y to (n_samples,), for example using ravel().\n",
      "  return self._fit(X, y)\n",
      "D:\\ESGI\\5AL\\ML\\ML-TP\\venv\\lib\\site-packages\\sklearn\\neighbors\\_classification.py:198: DataConversionWarning: A column-vector y was passed when a 1d array was expected. Please change the shape of y to (n_samples,), for example using ravel().\n",
      "  return self._fit(X, y)\n",
      "D:\\ESGI\\5AL\\ML\\ML-TP\\venv\\lib\\site-packages\\sklearn\\neighbors\\_classification.py:198: DataConversionWarning: A column-vector y was passed when a 1d array was expected. Please change the shape of y to (n_samples,), for example using ravel().\n",
      "  return self._fit(X, y)\n",
      "D:\\ESGI\\5AL\\ML\\ML-TP\\venv\\lib\\site-packages\\sklearn\\neighbors\\_classification.py:198: DataConversionWarning: A column-vector y was passed when a 1d array was expected. Please change the shape of y to (n_samples,), for example using ravel().\n",
      "  return self._fit(X, y)\n",
      "D:\\ESGI\\5AL\\ML\\ML-TP\\venv\\lib\\site-packages\\sklearn\\neighbors\\_classification.py:198: DataConversionWarning: A column-vector y was passed when a 1d array was expected. Please change the shape of y to (n_samples,), for example using ravel().\n",
      "  return self._fit(X, y)\n",
      "D:\\ESGI\\5AL\\ML\\ML-TP\\venv\\lib\\site-packages\\sklearn\\neighbors\\_classification.py:198: DataConversionWarning: A column-vector y was passed when a 1d array was expected. Please change the shape of y to (n_samples,), for example using ravel().\n",
      "  return self._fit(X, y)\n"
     ]
    }
   ],
   "source": [
    "from sklearn.model_selection import GridSearchCV\n",
    "from sklearn.neighbors import KNeighborsClassifier\n",
    "# trouver le k optimal pour le nb de neighbors avant la declaration du knn ci dessous \n",
    "\n",
    "## Automatique\n",
    "# définissons les paramètress\n",
    "param_grid = {'n_neighbors': np.arange(1, 20),\n",
    "              'metric': ['euclidean', 'manhattan']}\n",
    "grid_knn = GridSearchCV(KNeighborsClassifier(), param_grid, cv=5)\n",
    "grid_knn.fit(X_train_knn, y_train_knn)\n",
    "#print(grid_knn.best_score_)\n",
    "print(grid_knn.best_params_)\n",
    "\n",
    "\n",
    "from sklearn.neighbors import KNeighborsClassifier\n",
    "\n",
    "# déclaration de l'intention de knn\n",
    "knn = KNeighborsClassifier(n_neighbors=grid_knn.best_params_[\"n_neighbors\"])\n",
    "\n",
    "# Entrainement du modèle\n",
    "knn.fit(X_train_knn, y_train_knn)"
   ]
  },
  {
   "cell_type": "markdown",
   "metadata": {
    "pycharm": {
     "name": "#%% md\n"
    }
   },
   "source": [
    "### Evaluation"
   ]
  },
  {
   "cell_type": "code",
   "execution_count": null,
   "metadata": {
    "pycharm": {
     "name": "#%%\n"
    }
   },
   "outputs": [],
   "source": [
    "# Evaluation --------------\n",
    "\n",
    "# Simple\n",
    "\n",
    "#print('train score:', knn.score(X_train, y_train))\n",
    "#print('test score:', knn.score(X_test, y_test))\n",
    "\n",
    "from sklearn.metrics import f1_score, confusion_matrix, classification_report\n",
    "\n",
    "y_test_predit = knn.predict(X_test_knn)\n",
    "\n",
    "confusion_matrix(y_test_knn, y_test_predit)\n",
    "\n",
    "# calcul de la précision, du rappel et du F-score\n",
    "#print(classification_report(y_test, y_test_predit))\n",
    "\n",
    "\n",
    "# Cross validation\n",
    "from sklearn.model_selection import cross_val_score\n",
    "cross_val_score(knn, X_train_knn, y_train_knn, cv=5, scoring='accuracy')\n",
    "cross_val_score(knn, X_train_knn, y_train_knn, cv=5, scoring='accuracy').mean()\n",
    "\n",
    "# Courbe d'apprentissage\n",
    "from sklearn.model_selection import learning_curve\n",
    "\n",
    "N, train_score, val_score = learning_curve(knn, X_train_knn, y_train_knn, train_sizes=np.linspace(0.1, 1, 10), cv=5)\n",
    "plt.plot(N, train_score.mean(axis=1), label='train')\n",
    "plt.plot(N, val_score.mean(axis=1), label='validation')\n",
    "plt.xlabel('train_sizes')\n",
    "plt.legend()"
   ]
  },
  {
   "cell_type": "markdown",
   "metadata": {
    "pycharm": {
     "name": "#%% md\n"
    }
   },
   "source": [
    "## Random Forest"
   ]
  },
  {
   "cell_type": "markdown",
   "metadata": {
    "pycharm": {
     "name": "#%% md\n"
    }
   },
   "source": [
    "### Création"
   ]
  },
  {
   "cell_type": "code",
   "execution_count": null,
   "metadata": {
    "pycharm": {
     "name": "#%%\n"
    }
   },
   "outputs": [],
   "source": [
    "from sklearn.ensemble import RandomForestClassifier\n",
    "rf = RandomForestClassifier(random_state=0)\n",
    "# Entrainement du modèle\n",
    "rf.fit(X_train, y_train)"
   ]
  },
  {
   "cell_type": "markdown",
   "metadata": {
    "pycharm": {
     "name": "#%% md\n"
    }
   },
   "source": [
    "### Evaluation"
   ]
  },
  {
   "cell_type": "code",
   "execution_count": null,
   "metadata": {
    "pycharm": {
     "name": "#%%\n"
    }
   },
   "outputs": [],
   "source": [
    "# Calcul de score\n",
    "\n",
    "print('train score:', rf.score(X_train, y_train))\n",
    "print('test score:', rf.score(X_test, y_test))\n",
    "\n",
    "y_test_rf_predit = rf.predict(X_test)\n",
    "\n",
    "N_rf, train_score_rf, val_score_rf = learning_curve(rf, X_train, y_train, \n",
    "                                                    train_sizes=np.linspace(0.1, 1, 10),\n",
    "                                                    cv=5, scoring='accuracy')\n",
    "\n",
    "confusion_matrix(y_test, y_test_rf_predit)\n",
    "\n",
    "plt.plot(N_rf, train_score_rf.mean(axis=1), label='train_rf')\n",
    "plt.plot(N_rf, val_score_rf.mean(axis=1), label='validation_rf')\n",
    "plt.xlabel('train_sizes')\n",
    "plt.legend()\n",
    "\n",
    "# calcul de la précision, du rappel et du F-score\n",
    "print(classification_report(y_test, y_test_rf_predit))\n",
    "\n",
    "cross_val_score(rf, X_train, y_train, cv=5, scoring='accuracy')\n",
    "cross_val_score(rf, X_train, y_train, cv=5, scoring='accuracy').mean()\n",
    "pd.DataFrame(rf.feature_importances_).plot.bar(figsize=(12, 8))"
   ]
  },
  {
   "cell_type": "markdown",
   "metadata": {
    "pycharm": {
     "name": "#%% md\n"
    }
   },
   "source": [
    "## Arbre de décision"
   ]
  },
  {
   "cell_type": "code",
   "execution_count": null,
   "metadata": {
    "pycharm": {
     "name": "#%%\n"
    }
   },
   "outputs": [],
   "source": [
    "from sklearn.tree import DecisionTreeClassifier\n",
    "dt = DecisionTreeClassifier()\n",
    "dt.fit(X_train, y_train)\n",
    "print('train score:', dt.score(X_train, y_train))\n",
    "print('test score:', dt.score(X_test, y_test))\n",
    "y_test_dt_predit = dt.predict(X_test)\n",
    "\n",
    "#confusion_matrix(y_test, y_test_dt_predit)\n",
    "\n",
    "#print(classification_report(y_test, y_test_dt_predit))\n",
    "from sklearn.tree import export_graphviz\n",
    "FEATURE_NAMES = [\"age\", \"sex\", \"cp\", \"trestbps\", \"chol\", \"fbs\", \"thalach\", \"exang\", \"oldpeak\", \"slope\", \"ca\", \"thal\"]\n",
    "#export_graphviz(dt, 'tree.dot', feature_names = FEATURE_NAMES)\n",
    "!dot -Tpng tree.dot -o tree.png\n",
    "import matplotlib.pyplot as plt\n",
    "#import cv2 #pip install opencv-python opencv-python-headless\n",
    "#%matplotlib inline\n",
    "#img = cv2.imread('tree.png')\n",
    "#plt.figure(figsize = (20, 20))\n",
    "#plt.imshow(img)"
   ]
  },
  {
   "cell_type": "markdown",
   "metadata": {
    "pycharm": {
     "name": "#%% md\n"
    }
   },
   "source": [
    "# Conclusion"
   ]
  },
  {
   "cell_type": "markdown",
   "metadata": {},
   "source": [
    "En conclusion, la regression linéaire nous fait avoir le meilleur score. En effet les algos de classifications ne sont pas fait pour ce cas d'usage (de la regression pure)."
   ]
  }
 ],
 "metadata": {
  "colab": {
   "collapsed_sections": [],
   "name": "Tp blanc prep données.ipynb",
   "provenance": []
  },
  "kernelspec": {
   "display_name": "Python 3 (ipykernel)",
   "language": "python",
   "name": "python3"
  },
  "language_info": {
   "codemirror_mode": {
    "name": "ipython",
    "version": 3
   },
   "file_extension": ".py",
   "mimetype": "text/x-python",
   "name": "python",
   "nbconvert_exporter": "python",
   "pygments_lexer": "ipython3",
   "version": "3.9.7"
  }
 },
 "nbformat": 4,
 "nbformat_minor": 1
}